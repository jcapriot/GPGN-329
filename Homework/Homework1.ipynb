{
 "cells": [
  {
   "cell_type": "markdown",
   "id": "9a8631af-0f91-48c1-acf7-681911a72549",
   "metadata": {},
   "source": [
    "# Homework 1"
   ]
  },
  {
   "cell_type": "code",
   "execution_count": 1,
   "id": "2b276dd5-7ff3-4e82-bb90-5ad33ad6d878",
   "metadata": {},
   "outputs": [],
   "source": [
    "import sympy as sp\n",
    "import numpy as np\n",
    "from scipy.constants import c"
   ]
  },
  {
   "cell_type": "markdown",
   "id": "783a401c-8127-49ab-933e-87b43ddf0e7c",
   "metadata": {},
   "source": [
    "For your response, please show all of your work. You are more than welcome to verify your results with a symbolic math library (something like `sympy`)."
   ]
  },
  {
   "cell_type": "markdown",
   "id": "4ae7d4c6-6a9a-4598-a2ec-34c65640072f",
   "metadata": {},
   "source": [
    "## Question 1:\n",
    "Given a harmonic electric field that exists in free space:\n",
    "\n",
    "$$\n",
    "\\vec{E} = \\vec{E}_0 e^{i(\\omega t - \\vec{k}\\cdot\\vec{r})}\n",
    "$$\n",
    "with:\n",
    "\n",
    "$$\\vec{E}_0 = E_{0,x}\\hat{x} + E_{0,y}\\hat{y} + E_{0,z}\\hat{z},$$\n",
    "$$\\vec{k} = k_x \\hat{x} + k_y\\hat{y} = k_z \\hat{z},$$\n",
    "$$\\vec{r} = x \\hat{x} + y \\hat{y} + z\\hat{z}.$$\n",
    "Where all vector components are real numbers, and not necessarily 0.\n",
    "\n",
    "It can be said to be traveling through space in the direction of the wavenumber vector, $\\vec{k}$, with an angular frequency of $\\omega$.\n",
    "\n",
    "In class we went through these exercises with an electric field that was only polarized in the $\\hat{y}$ direction, you're tasked with verifying them for an arbitrarily polarized wave.\n",
    "\n",
    "**Grading Note**\n",
    "\n",
    "In general some students might be able to identify that the $\\nabla$ operator for this specific $\\vec{E}$-field is equivalent to:\n",
    "\n",
    "$$\n",
    "\\begin{pmatrix}\n",
    "\\partial_x\\\\\n",
    "\\partial_y\\\\\n",
    "\\partial_z\n",
    "\\end{pmatrix} = -i\\begin{pmatrix}\n",
    "k_x\\\\\n",
    "k_y\\\\\n",
    "k_z\n",
    "\\end{pmatrix}\n",
    "$$ They might also go about answering the parts of this question the long way of doing derivatives and cross products (which is also perfectly acceptable).\n",
    "\n",
    "Basically spatial derivatives go to multiplications of $-ik_{component}$ and times derivatives go to $i\\omega$."
   ]
  },
  {
   "cell_type": "markdown",
   "id": "1867712d-c9c2-4589-b072-052965d8a455",
   "metadata": {},
   "source": [
    "### a)\n",
    "What must the ratio of angular frequency to the magnitude of wavenumber vector $(\\frac{\\omega}{|\\vec{k}|})$ be to satisify the vector wave equation for the electric field in free space that we derived in class?\n",
    "\n",
    "$$\n",
    "\\nabla^2 \\vec{E} = \\mu_0 \\varepsilon_0 \\frac{\\partial^2 \\vec{E}}{\\partial_t^2}\n",
    "$$"
   ]
  },
  {
   "cell_type": "markdown",
   "id": "6cfc46cd-dda3-4d0f-b349-9499de09c34d",
   "metadata": {},
   "source": [
    "**Solution**\n",
    "\n",
    "The short way:\n",
    "\\begin{align}\n",
    "\\nabla^2\\vec{E} &= \\mu_0 \\varepsilon_0 \\frac{\\partial^2 \\vec{E}}{\\partial_t^2}\\\\\n",
    "(-i \\vec{k}) \\cdot (-i \\vec{k}) \\vec{E} &= \\mu_0 \\varepsilon_0 \\frac{\\partial^2 \\vec{E}}{\\partial_t^2}\\\\\n",
    "(-i \\vec{k}) \\cdot (-i \\vec{k}) \\vec{E} &= \\mu_0 \\varepsilon_0 (i \\omega)^2\\vec{E}\\\\\n",
    "-\\vec{k} \\cdot\\vec{k} \\vec{E} &= \\mu_0 \\varepsilon_0 (i \\omega)^2\\vec{E}\\\\\n",
    "-\\vec{k} \\cdot\\vec{k} \\vec{E} &= - \\mu_0 \\varepsilon_0 \\omega^2\\vec{E}\\\\\n",
    "\\vec{k} \\cdot\\vec{k} &= \\mu_0 \\varepsilon_0 \\omega^2\\\\\n",
    "\\frac{\\omega^2}{\\vec{k} \\cdot\\vec{k}} &= \\frac{1}{\\mu_0 \\varepsilon_0}\\\\\n",
    "\\frac{\\omega^2}{|\\vec{k}|^2} &= \\frac{1}{\\mu_0 \\varepsilon_0}\\\\\n",
    "\\frac{\\omega}{|\\vec{k}|} &= \\frac{1}{\\sqrt{\\mu_0 \\varepsilon_0}}\n",
    "\\end{align}"
   ]
  },
  {
   "cell_type": "markdown",
   "id": "773a5953-b697-41c2-a9ce-a7db620de253",
   "metadata": {},
   "source": [
    "### b)\n",
    "Verify that the direction of propogation, $\\vec{k}$, is perpendicular to the electric field (consider Maxwell's first equation in a vaccuum)."
   ]
  },
  {
   "cell_type": "markdown",
   "id": "4226227b-28a7-44f7-943d-22e6fded4de7",
   "metadata": {},
   "source": [
    "**Solution**\n",
    "Here I've given no assumptions on the direction of the wave's polarization or direction, meaning we do not know if any components of $\\vec{k}$ or $\\vec{E}_0$ are 0.\n",
    "\n",
    "So to verify, they are indeed perpendicular, we apply Maxwell's first equation:\n",
    "\n",
    "\\begin{align}\n",
    "\\nabla \\cdot \\vec{E} &= 0\\\\\n",
    "- i \\vec{k} \\cdot \\vec{E} &= 0\\\\\n",
    "\\vec{k} \\cdot \\vec{E} &= 0\n",
    "\\end{align}\n",
    "\n",
    "Thus since the dot product of the two are equal to 0, they must be perpendicular.\n",
    "\n",
    "They might also go the long route of not replacing $\\nabla$ with $-i\\vec{k}$, which should also lead them to the same conclusion at the end."
   ]
  },
  {
   "cell_type": "markdown",
   "id": "4d199064-c66e-4bd2-9adb-7982519f272d",
   "metadata": {},
   "source": [
    "### c)\n",
    "What is the corresponding dynamic magnetic flux density, $\\vec{B}$ created by this dynamic electric field? How do the phases of these two waves compare?\n",
    "\n",
    "**Solution**\n",
    "\n",
    "Use Faraday's Law, (Maxwell's 3rd equation):\n",
    "\n",
    "\\begin{align}\n",
    "\\nabla \\times \\vec{E} &= -\\partial_t \\vec{B}\\\\\n",
    "(-i \\vec{k}) \\times \\vec{E} &= -\\partial_t \\vec{B}\\\\\n",
    "i \\vec{k} \\times \\vec{E} &= \\partial_t \\vec{B}\\\\\n",
    "i \\vec{k} \\times \\vec{E}_0 e^{i(\\omega t - \\vec{k}\\cdot\\vec{r}} &= \\partial_t \\vec{B}\\\\\n",
    "\\int_t(i \\vec{k} \\times \\vec{E}_0 e^{i(\\omega t - \\vec{k}\\cdot\\vec{r})})\\text{d}t &=  \\vec{B}\\\\\n",
    "\\frac{i \\vec{k} \\times \\vec{E}_0}{i\\omega} e^{i(\\omega t - \\vec{k}\\cdot\\vec{r})} &=  \\vec{B}\\\\\n",
    "\\vec{B} &= \\frac{\\vec{k} \\times \\vec{E}_0}{\\omega} e^{i(\\omega t - \\vec{k}\\cdot\\vec{r})}\n",
    "\\end{align}\n",
    "\n",
    "This last form is completely acceptable, however some students will likely go even further and obtain a result that looks like the cross-product expanded out.\n",
    "\n",
    "\\begin{align}\n",
    "\\vec{B} &= \\frac{1}{\\omega}\\begin{pmatrix}\n",
    "k_yE_{0,z} - k_zE_{0,y}\\\\\n",
    "k_zE_{0,x} - k_xE_{0,z}\\\\\n",
    "k_xE_{0,y} - k_yE_{0,x}\\\\\n",
    "\\end{pmatrix}e^{i(\\omega t - \\vec{k}\\cdot\\vec{r})}\n",
    "\\end{align}"
   ]
  },
  {
   "cell_type": "markdown",
   "id": "26a3f543-1552-4c7b-b48e-bfa454d3e838",
   "metadata": {},
   "source": [
    "### d)\n",
    "Verify that $\\vec{B}$ is perpendicular to the electric field $\\vec{E}$.\n",
    "\n",
    "**Solution**\n",
    "\n",
    "We need to verify that $\\vec{B}\\cdot\\vec{E}=0$.\n",
    "\n",
    "\\begin{align}\n",
    "\\vec{B}\\cdot\\vec{E} &= (\\frac{\\vec{k} \\times \\vec{E}_0}{\\omega} e^{i(\\omega t - \\vec{k}\\cdot\\vec{r})})\\cdot(\\vec{E}_0 e^{i(\\omega t - \\vec{k}\\cdot\\vec{r})})\\\\\n",
    "&= [(\\vec{k} \\times \\vec{E}_0)\\cdot{\\vec{E}_0}] \\frac{1}{\\omega} e^{2i(\\omega t - \\vec{k}\\cdot\\vec{r})})\n",
    "\\end{align}\n",
    "\n",
    "Basically we need to focus in on the dot product term, as the rest of the equation is non-zero.\n",
    "\n",
    "Students might make the logical leap here and say something along the lines of \n",
    "\"The cross product of two vectors is always perpendicular to both of them\" which should be clear here that $(\\vec{k} \\times \\vec{E}_0)\\cdot{\\vec{E}_0} = 0$.\n",
    "\n",
    "They might also then go the long route and actually verify it, but it should come out to the same thing in the end."
   ]
  },
  {
   "cell_type": "markdown",
   "id": "31e72174-d123-4e6c-8b28-add828be959e",
   "metadata": {},
   "source": [
    "### e)\n",
    "Finally verify that $\\vec{B}$ is perpendicular to the direction of propogation $\\vec{k}$ (consider Maxwell's second equation).\n",
    "\n",
    "**Solution**\n",
    "We need to verify that $\\vec{B}\\cdot\\vec{k} = 0$\n",
    "They might start from Maxwell's second equation, but they can also very easily just start with verifying the dot product of the two is equal to 0.\n",
    "\n",
    "\\begin{align}\n",
    "\\vec{B}\\cdot\\vec{k} &= (\\frac{\\vec{k} \\times \\vec{E}_0}{\\omega} e^{i(\\omega t - \\vec{k}\\cdot\\vec{r})})\\cdot \\vec{k}\\\\\n",
    "&= (\\vec{k} \\times \\vec{E}_0)\\cdot\\vec{k} \\frac{1}{\\omega} e^{i(\\omega t - \\vec{k}\\cdot\\vec{r})}\n",
    "\\end{align}\n",
    "\n",
    "Students might again use the same reasoning as (d) to say that $(\\vec{k} \\times \\vec{E}_0)\\cdot\\vec{k}=0$ (cross product of two vectors is always perpendicular to both of them). Or they might go the long way, but get to the same conclusion."
   ]
  },
  {
   "cell_type": "markdown",
   "id": "0b7fb6b8-d060-4099-9628-19fa3524d538",
   "metadata": {},
   "source": [
    "## Question 2\n",
    "\n",
    "Consider current flowing down a long straight wire oriented along the $\\hat{z}$ axis, and returns on a coaxial tube with radius $a$. The current along the wire is:\n",
    "\n",
    "$$\n",
    "I(t) = I_0 \\cos(\\omega t)\n",
    "$$\n",
    "\n",
    "The corresponding induced electric field between the inner wire and outer cylinder is (outside the wire the electric field is 0):\n",
    "\n",
    "$$\n",
    "\\vec{E}(r, t) = \\frac{\\mu_0 I_0 \\omega}{ 2 \\pi}\\sin(\\omega t) \\ln(\\frac{a}{r})\\hat z\n",
    "$$\n",
    "\n",
    "In Maxwell's 4th equation, he corrected Ampere's law using a term he called the displacement currents.\n",
    "\\begin{align}\n",
    "\\nabla \\times \\vec{B} &= \\mu_0 (\\vec{J} + \\epsilon_0 \\frac{\\partial\\vec{E}}{\\partial t})\\\\\n",
    "\\nabla \\times \\vec{B} &= \\mu_0 (\\vec{J} + \\vec{J}_d)\\\\\n",
    "\\vec{J}_d &= \\epsilon_0 \\frac{\\partial\\vec{E}}{\\partial t}\n",
    "\\end{align}\n",
    "\n",
    "**Solution**\n",
    "This is mostly just a test of \"can they do derivatives and integrals\". I've given them all the equations they need."
   ]
  },
  {
   "cell_type": "markdown",
   "id": "91e94a3c-d358-4813-bffb-f7e69b003e11",
   "metadata": {},
   "source": [
    "### a)\n",
    "What is the displacement current density $\\vec{J}_d$ for this electric field?\n",
    "\n",
    "**Solution**\n",
    "\\begin{align}\n",
    "\\vec{J}_d &= \\epsilon_0 \\frac{\\partial\\vec{E}}{\\partial t}\\\\\n",
    "\\vec{J}_d &= \\epsilon_0 \\frac{\\partial}{\\partial t}(\\frac{\\mu_0 I_0 \\omega}{ 2 \\pi}\\sin(\\omega t) \\ln(\\frac{a}{r})\\hat z)\\\\\n",
    "\\vec{J}_d &= \\frac{\\epsilon_0 \\mu_0 I_0 \\omega}{2\\pi} \\ln(\\frac{a}{r})\\frac{\\partial}{\\partial t}(\\sin(\\omega t) )\\hat z \\\\\n",
    "\\vec{J}_d &= \\frac{\\epsilon_0 \\mu_0 I_0 \\omega^2}{2\\pi} \\ln(\\frac{a}{r}) \\cos(\\omega t)\\hat z \\\\\n",
    "\\end{align}"
   ]
  },
  {
   "cell_type": "markdown",
   "id": "f052f38b-422a-4a80-b991-00ed5ed8ad88",
   "metadata": {},
   "source": [
    "### b)\n",
    "Integrate $\\vec{J}_d$ over a cross section of the cylinder to determine the total displacement currents.\n",
    "\n",
    "$$\n",
    "I_d = \\int_A \\vec{J}_d \\cdot \\vec{\\mathrm{d}A} = \\int_0^{2\\pi}\\int_0^a J_d r dr d\\theta\n",
    "$$\n",
    "\n",
    "**Solution**\n",
    "\n",
    "\\begin{align}\n",
    "I_d &= \\int_0^{2\\pi}\\int_0^a J_d r dr d\\theta\\\\\n",
    "&= \\int_0^{2\\pi}\\int_0^a \\frac{\\epsilon_0 \\mu_0 I_0 \\omega^2}{2\\pi} \\ln(\\frac{a}{r}) \\cos(\\omega t) r dr d\\theta\\\\\n",
    "&= \\frac{\\epsilon_0 \\mu_0 I_0 \\omega^2}{2\\pi} \\cos(\\omega t) \\int_0^{2\\pi}\\int_0^a \\ln(\\frac{a}{r})  r dr d\\theta\\\\\n",
    "&= \\frac{\\epsilon_0 \\mu_0 I_0 \\omega^2}{2\\pi} \\cos(\\omega t) \\int_0^{2\\pi}d\\theta\\int_0^a \\ln(\\frac{a}{r})  r dr\\\\\n",
    "&= \\frac{\\epsilon_0 \\mu_0 I_0 \\omega^2}{2\\pi} \\cos(\\omega t) (2 \\pi) \\int_0^a \\ln(\\frac{a}{r})  r dr\\\\\n",
    "&= \\epsilon_0 \\mu_0 I_0 \\omega^2 \\cos(\\omega t) \\int_0^a \\ln(\\frac{a}{r})  r dr\n",
    "\\end{align}\n",
    "\n",
    "The integral they could likely do using integration by parts:\n",
    "\n",
    "$$\\int u \\partial v = u v - \\int v du$$\n",
    "\n",
    "set:\n",
    "\\begin{align}\n",
    "u & =\\ln(\\frac{a}{r})\\\\\n",
    "&= \\ln(a) - \\ln(r)\\\\\n",
    "du &= \\frac{-1}{r} dr \\\\\n",
    "dv &= r dr \\\\\n",
    "v &= \\frac{r^2}{2}\\\\\n",
    "\\end{align}\n",
    "\n",
    "so:\n",
    "\\begin{align}\n",
    "\\int_0^a \\ln(\\frac{a}{r})  r dr &=\n",
    "\\ln(\\frac{a}{r}) \\frac{r^2}{2}\\bigg|^a_0 - \\int_0^a \\frac{r^2}{2}\\frac{-1}{r} dr\\\\\n",
    "&= \\ln(\\frac{a}{r}) \\frac{r^2}{2}\\bigg|^a_0 + \\int_0^a \\frac{r}{2} dr\\\\\n",
    "&= \\ln(\\frac{a}{r}) \\frac{r^2}{2} + \\frac{r^2}{4}\\bigg|^a_0\\\\\n",
    "&= \\ln(\\frac{a}{a}) \\frac{a^2}{2} + \\frac{a^2}{4} - (\\ln(\\frac{a}{0}) \\frac{0^2}{2} + \\frac{0^2}{4})\\\\\n",
    "&= \\cancelto{0}{\\ln(\\frac{a}{a})} \\frac{a^2}{2} + \\frac{a^2}{4} - (\\ln(\\frac{a}{0}) \\frac{0^2}{2} + \\cancelto{0}{\\frac{0^2}{4}})\n",
    "\\end{align}\n",
    "\n",
    "What's left is that pesky $\\ln(\\frac{a}{0}) * 0^2$ term... which is basically $\\infty * 0$ You could use L'Hopital's rule here to dertermine that it does go to zero...\n",
    "\n",
    "\\begin{align}\n",
    "\\lim_{r\\rightarrow 0} \\ln(\\frac{a}{r}) r^2 &= \\lim_{r\\rightarrow 0} \\frac{\\ln(\\frac{a}{r})}{r^{-2}}\\\\\n",
    "&= \\lim_{r\\rightarrow 0} \\frac{\\frac{-1}{r}}{-\\frac{r^{-3}}{2}}\\\\\n",
    "&= \\lim_{r\\rightarrow 0} \\frac{2}{r}r^{3}\\\\\n",
    "&= \\lim_{r\\rightarrow 0} 2r^{2}\\\\\n",
    "&= 0\n",
    "\\end{align}\n",
    "\n",
    "$$\n",
    "\\int_0^a \\ln(\\frac{a}{r})  r dr =\\frac{a^2}{4}\n",
    "$$\n",
    "So\n",
    "$$\n",
    "I_d = \\frac{\\epsilon_0 \\mu_0 I_0 \\omega^2 a^2}{4} \\cos(\\omega t) \n",
    "$$"
   ]
  },
  {
   "cell_type": "markdown",
   "id": "24912554-852f-44e7-aa64-7c02698d12e1",
   "metadata": {},
   "source": [
    "### c)\n",
    "Compare $I$ to $I_d$ (what's the ratio?). If the outer cyliner were 2mm in diameter, $a=1mm$, How high would the frequency $f$, (remember the relation between angular frequency and frequency: $\\omega = 2 \\pi f$) have to be for $I_d$ to be 1% of $I$? [This problem is designed to indicate why Faraday never discovered displacement currents]."
   ]
  },
  {
   "cell_type": "markdown",
   "id": "184ea6f7-1961-48c7-a78a-57c55f2eb654",
   "metadata": {},
   "source": [
    "**Solution**\n",
    "\n",
    "\\begin{align}\n",
    "\\frac{I_d}{I} &= \\frac{\\frac{\\epsilon_0 \\mu_0 I_0 \\omega^2 a^2}{4} \\cos(\\omega t) }{I_0 \\cos(\\omega t)}\\\\\n",
    "&= \\frac{\\epsilon_0 \\mu_0\\omega^2 a^2}{4}\n",
    "\\end{align}\n",
    "\n",
    "Now basically need to solve $\\omega$\n",
    "\n",
    "\\begin{align}\n",
    "\\omega^2 &= \\frac{I_d}{I} \\frac{4}{\\epsilon_0 \\mu_0 a^2}\\\\\n",
    "\\omega &= \\frac{2}{a}\\sqrt{\\frac{I_d}{I}\\frac{1}{\\epsilon_0 \\mu_0}}\\\\\n",
    "\\omega &= \\frac{2}{a}\\sqrt{\\frac{I_d}{I}}\\sqrt{\\frac{1}{\\epsilon_0 \\mu_0}}\\\\\n",
    "\\omega &= \\frac{2}{a}\\sqrt{\\frac{I_d}{I}}c\\\\\n",
    "\\end{align}\n",
    "\n",
    "They might make that last connection there where $c$ is the speed of light, if not, no worries they can just keep going from before and plug all the numbers in... but remember I asked for the Frequency in units of GigaHertz (so need to make use of $\\omega=2\\pi f$\n",
    "\n",
    "\\begin{align}\n",
    "2 \\pi f &= \\frac{2}{a}\\sqrt{\\frac{I_d}{I}}c\\\\\n",
    "f &= \\frac{2}{2\\pi a}\\sqrt{\\frac{I_d}{I}}c\\\\\n",
    "f &= \\frac{1}{\\pi a}\\sqrt{\\frac{I_d}{I}}c\\\\\n",
    "f &= \\frac{1}{\\pi 1\\times10^{-3}}\\sqrt{1\\times10^{-2}}c\\\\\n",
    "f &= \\frac{1}{\\pi} 1\\times10^{3}\\sqrt{1\\times10^{-2}}c\\\\\n",
    "f &= \\frac{1}{\\pi} (1\\times10^{3})(1\\times10^{-1})c\\\\\n",
    "f &= \\frac{100}{\\pi}c\\\\\n",
    "f &= \\frac{100}{\\pi} (299792458.0)\\\\\n",
    "f &= 9542690318.473885 \\\\\n",
    "f &= 9.5426... \\times 10^9 Hz \\\\\n",
    "f &= 9.5426... GHz\n",
    "\\end{align}"
   ]
  },
  {
   "cell_type": "code",
   "execution_count": 2,
   "id": "f478bd6a-53b8-4ceb-95f5-e36dcd87cac8",
   "metadata": {},
   "outputs": [
    {
     "data": {
      "text/plain": [
       "299792458.0"
      ]
     },
     "execution_count": 2,
     "metadata": {},
     "output_type": "execute_result"
    }
   ],
   "source": [
    "c"
   ]
  },
  {
   "cell_type": "code",
   "execution_count": 3,
   "id": "7fcc9452-719c-42ce-904f-aad2bd1d218a",
   "metadata": {},
   "outputs": [
    {
     "data": {
      "text/plain": [
       "(9542690318.473885, 9.542690318473884)"
      ]
     },
     "execution_count": 3,
     "metadata": {},
     "output_type": "execute_result"
    }
   ],
   "source": [
    "f = 100/np.pi * c\n",
    "f, f/1E9"
   ]
  }
 ],
 "metadata": {
  "kernelspec": {
   "display_name": "Python 3 (ipykernel)",
   "language": "python",
   "name": "python3"
  },
  "language_info": {
   "codemirror_mode": {
    "name": "ipython",
    "version": 3
   },
   "file_extension": ".py",
   "mimetype": "text/x-python",
   "name": "python",
   "nbconvert_exporter": "python",
   "pygments_lexer": "ipython3",
   "version": "3.11.7"
  }
 },
 "nbformat": 4,
 "nbformat_minor": 5
}
