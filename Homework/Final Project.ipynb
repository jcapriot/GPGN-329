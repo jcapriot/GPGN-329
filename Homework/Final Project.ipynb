{
 "cells": [
  {
   "cell_type": "markdown",
   "id": "4b471124-12ec-4e8f-9ce0-03270bb4f90d",
   "metadata": {},
   "source": [
    "Due May 2nd, 2024, during class.\n",
    "\n",
    "# Case Study evaluation.\n",
    "Your goal will be to find a geophysical case study related to any of the topics you have covered in Physics of the Earth 1 or 2, and prepare a short presentation about it (<10 minutes for the presentation and 2-3 minutes for questions).\n",
    "\n",
    "You should identify at least the following aspects about it:"
   ]
  },
  {
   "cell_type": "markdown",
   "id": "2cfc86ca-7395-4cdf-b846-e9d38fa2e65e",
   "metadata": {},
   "source": [
    "## Setup: What is the problem?\n",
    "\n",
    "Establish the geoscience objectives and identify how geophysics might contribute. For example this could include:\n",
    "\n",
    "* Mapping geology under sedimentary cover to locate oil traps.\n",
    "* Locating buried unexploded ordanances.\n",
    "* Obtaining 3D images of the subsurface to assess the size of a mineral deposit."
   ]
  },
  {
   "cell_type": "markdown",
   "id": "e251eb91-f6f7-4eaa-9d50-7801e7d8ff06",
   "metadata": {},
   "source": [
    "## Properties: What are the relevant physical properties?\n",
    "Understand how the geologic and man-made materials of relevance to the problem are characterized by their physical properties, and explain why that material property is important for the problem. For example:\n",
    "\n",
    "* Density, The saturation of the rocks changes over time in an enhanced oil recovery as water replaces gas.\n"
   ]
  },
  {
   "cell_type": "markdown",
   "id": "b66044b3-8615-4887-a379-b8638f9f5517",
   "metadata": {},
   "source": [
    "## Surveys\n",
    "What geophysical survey/s is/are used and what were the relavant survey parameters (sample spacing, frequencies, etc.)? Identify and explain the connection between the physical properties and the survey of choice. \n",
    "\n",
    "This is where I'm looking for you to demonstrate your understanding of the physics of the earth that are relavent to the method."
   ]
  },
  {
   "cell_type": "markdown",
   "id": "51c07db7-2979-40b2-acd1-d4142570df24",
   "metadata": {},
   "source": [
    "## Data\n",
    "What data were actually collected? (Include images of the raw data if they are available.)"
   ]
  },
  {
   "cell_type": "markdown",
   "id": "de24ea37-2a90-4668-a818-0f8d2b8de22a",
   "metadata": {},
   "source": [
    "## Processing\n",
    "What steps were taken (if any) to process the collected data? Where they inverted etc.?"
   ]
  },
  {
   "cell_type": "markdown",
   "id": "5861b1bd-109a-4c62-b091-0dbcd43d040b",
   "metadata": {},
   "source": [
    "## Interpretation\n",
    "What were the interpreted results from the collected data themselves? The goal is to draw conclusions or make decisions base upon the geophysical data, so you should also identify the authors' evidence for their interpretations of the data."
   ]
  },
  {
   "cell_type": "markdown",
   "id": "9cdb26a1-86da-49a7-b12f-0da7a2c5d644",
   "metadata": {},
   "source": [
    "## Synthesis\n",
    "\n",
    "How do the interpretations correlate with prior information and alternative information? How was the interpretation of the geophysical data used to update any geologic models? How effective was the method? etc.\n"
   ]
  },
  {
   "cell_type": "markdown",
   "id": "49568adf-0807-4a80-8bee-80c97f635420",
   "metadata": {},
   "source": [
    "# Grading\n",
    "\n",
    "As a group you will be graded according to:\n",
    "\n",
    "* (60 points) You will be graded on identifying the above listed areas of the case study.\n",
    "* (20 points) Answers to questions from myself and other classmates\n",
    "    * Anyone is welcome to ask questions, questions from me will be mostly related to your understanding of the physics at play.\n",
    " \n",
    "Individually:\n",
    "\n",
    "* (20 points) You will also be judged by your peers for participation."
   ]
  }
 ],
 "metadata": {
  "kernelspec": {
   "display_name": "Python 3 (ipykernel)",
   "language": "python",
   "name": "python3"
  },
  "language_info": {
   "codemirror_mode": {
    "name": "ipython",
    "version": 3
   },
   "file_extension": ".py",
   "mimetype": "text/x-python",
   "name": "python",
   "nbconvert_exporter": "python",
   "pygments_lexer": "ipython3",
   "version": "3.11.7"
  }
 },
 "nbformat": 4,
 "nbformat_minor": 5
}
