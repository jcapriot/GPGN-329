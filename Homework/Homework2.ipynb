{
 "cells": [
  {
   "cell_type": "markdown",
   "id": "1cd7e829-6da8-406c-9d7d-97b449eadaa5",
   "metadata": {},
   "source": [
    "# Homework 2 - Electromagnetic waves in conductive media\n",
    "Due March 11, 2024"
   ]
  },
  {
   "cell_type": "code",
   "execution_count": 1,
   "id": "4233b605-7b3c-46d9-b65b-b3519086196a",
   "metadata": {},
   "outputs": [],
   "source": [
    "import numpy as np\n",
    "import matplotlib.pyplot as plt\n",
    "from scipy.constants import mu_0, epsilon_0"
   ]
  },
  {
   "cell_type": "markdown",
   "id": "9ee687a7-5444-4580-9439-f762cff48a46",
   "metadata": {},
   "source": [
    "## Question 1\n",
    "\n",
    "In class we said that the plane wave was a valid solution to Maxwell's equations in conductive medium:\n",
    "\n",
    "That is the wave equation for the electric field,\n",
    "$$\\nabla^2 \\vec{E} = \\mu \\sigma \\frac{\\partial \\vec{E}}{\\partial t}+ \\mu\\varepsilon \\frac{\\partial^2 \\vec{E}}{\\partial t^2}$$\n",
    "admitted plane wave solutions:\n",
    "$$\\vec{E}(z, r) = \\vec{\\tilde{E}}_0 e^{i(\\omega t - \\tilde{k} z)}$$\n",
    "such that\n",
    "$$\\tilde{k}^2 = \\mu\\varepsilon\\omega^2 - i\\mu\\sigma\\omega$$.\n",
    "\n",
    "This is similar to the free-space solutions, except that now $\\tilde{k}$ and $\\vec{\\tilde{E}}_0$ were (in general) complex valued quantities.\n",
    "\n",
    "We then defined $\\tilde{k}$ in terms of it's real and NEGATIVE imaginary parts.\n",
    "$$\\tilde{k} = k_r - i k_i$$"
   ]
  },
  {
   "cell_type": "markdown",
   "id": "362a4550-59f3-4f2a-870d-1c5cb8a3b397",
   "metadata": {},
   "source": [
    "### Part a)\n",
    "\n",
    "We said that the values for $k_r$ and $k_i$ were:\n",
    "\n",
    "\\begin{align}\n",
    "k_r &= \\omega \\sqrt{\\frac{\\varepsilon \\mu}{2}}\\bigg[ \\sqrt{1 + \\big(\\frac{\\sigma}{\\varepsilon\\omega}\\big)^2} + 1\\bigg]^{1/2}\\\\\n",
    "k_i &= \\omega \\sqrt{\\frac{\\varepsilon \\mu}{2}}\\bigg[ \\sqrt{1 + \\big(\\frac{\\sigma}{\\varepsilon\\omega}\\big)^2} - 1\\bigg]^{1/2}\n",
    "\\end{align}\n",
    "\n",
    "Verify that with these definitions that:\n",
    "$$\\tilde{k}^2 = \\mu\\varepsilon\\omega^2 - i\\mu\\sigma\\omega$$"
   ]
  },
  {
   "cell_type": "markdown",
   "id": "a8bbacc7-d8b2-4358-9545-463c59d81af3",
   "metadata": {},
   "source": [
    "### Part b)\n",
    "\n",
    "We said that there were two regimes we often work at in Geophysical applications, the wave regime where $\\sigma << \\omega \\varepsilon$ and the quasi-static regime $\\sigma >> \\omega \\varepsilon$.\n",
    "\n",
    "In the wave regime $\\sigma << \\omega \\varepsilon$ these general equations for the complex wavenumber reduce to:\n",
    "$$k_{r,wave} = \\omega \\sqrt{\\mu \\varepsilon}$$\n",
    "$$k_{i,wave} = \\frac{\\sigma}{2}\\sqrt{\\frac{\\mu}{\\varepsilon}}$$\n",
    "\n",
    "In the quasitatic regime ($\\sigma >> \\omega \\varepsilon$), $k_r$ and $k_i$ reduce to:\n",
    "\n",
    "$$k_r\\approx k_i \\approx k_{quasi} = \\sqrt{\\frac{\\mu \\sigma \\omega}{2}}$$\n",
    "\n",
    "You probably are wondering, how much bigger or smaller does conductivity have to be than the product of permitivity and frequency.\n",
    "\n",
    "Now let's give a little quantification about when each of those regimes apply.\n",
    "\n",
    "For these examples use:\n",
    "\\begin{align}\n",
    "\\sigma &= 0.01 \\frac{S}{m}\\\\\n",
    "\\varepsilon &= \\varepsilon_0\\\\\n",
    "\\mu &= \\mu_0\n",
    "\\end{align}"
   ]
  },
  {
   "cell_type": "markdown",
   "id": "b5202b54-568c-47c3-b375-e30535c14acc",
   "metadata": {},
   "source": [
    "#### i)\n",
    "On a log-log scale, plot the values of $k_r$ and $k_i$ for a range of frequencies such that the ratio:\n",
    "$$ratio = \\frac{\\sigma}{\\varepsilon\\omega}$$\n",
    "goes from 1E-3 to 1E3, verses that ratio. (I.E. you want the ratio on the x-axis, and the values of $k_r$ or $k_i$ on the y-axis.)\n",
    "\n",
    "- You can set up the ratios using numpy's logspace command: `ratios = np.logspace(-3,3)`\n",
    "- You can use matplotlib's `pyplot.loglog` to quickly plot functions on a log-log scale.\n",
    "\n",
    "On the same plot, add the values of $k_{r,wave}$ and $k_{i, wave}$ for these same wavenumbers. At (approximately) what range of ratios of $\\frac{\\sigma}{\\varepsilon \\omega}$ does the approximation differ from the true value by less than 1%? (Don't derive this number by hand, instead just compare the values you get from evaluating your functions.)"
   ]
  },
  {
   "cell_type": "code",
   "execution_count": null,
   "id": "d01f2f9a-f9dc-4ac3-97c3-3a7bf85a98aa",
   "metadata": {},
   "outputs": [],
   "source": [
    "# I want to define these as functions here so I can be\n",
    "# sure I keep doing it correctly through the assignment\n",
    "\n",
    "def k_r_func(sigma, mu, epsilon, omega):\n",
    "    return # Insert your formula for k_r here\n",
    "\n",
    "def k_i_func(sigma, mu, epsilon, omega):\n",
    "    return # Insert your formula for k_i here\n",
    "\n",
    "def k_r_wave_func(sigma, mu, epsilon, omega):\n",
    "    return # Insert your formula for k_r,wave here\n",
    "\n",
    "def k_i_wave_func(sigma, mu, epsilon, omega):\n",
    "    return # Insert your formula for k_r,wave here"
   ]
  },
  {
   "cell_type": "code",
   "execution_count": null,
   "id": "898b4646-4748-4fe2-9ca8-b1773e5741bd",
   "metadata": {},
   "outputs": [],
   "source": [
    "# Generate your array of ratios as suggested:\n",
    "ratios = np.logspace(-3, 3)\n",
    "\n",
    "# set the physical parameters from the question:\n",
    "sigma = 0.01\n",
    "eps = epsilon_0\n",
    "mu = mu_0\n",
    "\n",
    "# calculate omega\n",
    "# omega = ..."
   ]
  },
  {
   "cell_type": "code",
   "execution_count": null,
   "id": "d8eacf10-df2d-44bf-bc45-7a5593317d4d",
   "metadata": {},
   "outputs": [],
   "source": [
    "# call the wavenumber functions:\n",
    "k_r = k_r_func(sigma, mu, epsilon, omega)\n",
    "k_i = k_i_func(sigma, mu, epsilon, omega)\n",
    "\n",
    "k_r_wave = k_r_wave_func(sigma, mu, epsilon, omega)\n",
    "k_i_wave = k_i_wave_func(sigma, mu, epsilon, omega)"
   ]
  },
  {
   "cell_type": "code",
   "execution_count": null,
   "id": "b4387396-ec79-4e8a-9cf4-0202c0d6731f",
   "metadata": {},
   "outputs": [],
   "source": [
    "# Make your plots:\n",
    "plt.loglog(ratios, k_r, label='k_r')\n",
    "# and so on for the things asked\n",
    "# plt.loglog(...)\n",
    "# plt.loglog(...)\n",
    "# plt.loglog(...)\n",
    "\n",
    "# probably give the axes some labels and show the legend\n",
    "plt.legend()\n",
    "plt.xlabel(r'$\\frac{\\sigma}{\\epsilon\\omega}$')\n",
    "plt.ylabel(r'Wavenumber $m^{-1}$')"
   ]
  },
  {
   "cell_type": "code",
   "execution_count": null,
   "id": "c402aa18-409c-493b-bc67-2c3d20119a50",
   "metadata": {},
   "outputs": [],
   "source": [
    "# continue with the 1% part of the question"
   ]
  },
  {
   "cell_type": "markdown",
   "id": "3f7328a0-0d58-43ae-b4ac-925abf1a6040",
   "metadata": {},
   "source": [
    "#### ii)\n",
    "Also on a log-log scale, plot $k_r$, $k_i$ and $k_{quasi}$ for the same range of frequencies, and plot them again with respect to the ratio of $\\frac{\\sigma}{\\varepsilon\\omega}$. For what range of ratios is $k_{quasi}$ different from the true values by less than 1%?"
   ]
  },
  {
   "cell_type": "code",
   "execution_count": null,
   "id": "5ed9f406-4d17-4dbb-a8d1-87032aa54e2f",
   "metadata": {},
   "outputs": [],
   "source": [
    "# again just make this a function I can call when I need it\n",
    "# write once use multiple times!\n",
    "def k_quasi_func(sigma, mu, epsilon, omega):\n",
    "    return # Insert your formula for k_quasi here"
   ]
  },
  {
   "cell_type": "code",
   "execution_count": null,
   "id": "ff194721-9eec-4da8-8877-611cfcb261e3",
   "metadata": {},
   "outputs": [],
   "source": [
    "# Likely repeat your plotting here"
   ]
  },
  {
   "cell_type": "markdown",
   "id": "a15d80ad-134c-4ebe-b196-0ed08196163f",
   "metadata": {},
   "source": [
    "### Part c)\n",
    "\n",
    "For each of the experiments listed below, decided whether it falls in the wave regime, quasi-static regime, or somewhere in between.\n",
    "\n",
    "\n",
    "|$\\sigma$|$\\varepsilon$|$f$|   $\\frac{\\sigma}{\\varepsilon\\omega}$| Regime|\n",
    "|---|---|---|---|---|\n",
    "|$2 \\times 10^{-5}$ S/m| $20 \\varepsilon_0$| 0.1 Hz |   |   |\n",
    "|$4 \\times 10^{-3}$ S/m| $1.2 \\varepsilon_0$| 10 kHz |   |   |\n",
    "|0.2 S/m| $80 \\varepsilon_0$| 10 MHz |   |   |\n",
    "|$3 \\times 10^{-2}$ S/m| $2 \\varepsilon_0$| 1 GHz |   |   |"
   ]
  },
  {
   "cell_type": "markdown",
   "id": "1197e3db-b7ac-499c-8dc1-f4c881480e90",
   "metadata": {},
   "source": [
    "## Question 2\n",
    "In class we derived the recursive relatonship of impedances for a vertically incident harmonic plane wave traveling through a layered medium. Where each layer had a constant permeability, permitivity, and conductivity ($\\mu,\\varepsilon,\\sigma$). Each layer had a thickness $h$.\n",
    "\n",
    "These were:\n",
    "\n",
    "\\begin{align}\n",
    "Z_{j-1} &= \\alpha_j \\frac{\\frac{Z_j}{\\tilde{\\alpha}_j} - \\tanh(i \\tilde{k}_j h_j)}{1 - \\frac{Z_j}{\\tilde{\\alpha}_j}\\tanh(i \\tilde{k_j} h_j)}\\\\\n",
    "Z_{N-1} &= -\\tilde{\\alpha}_N\\\\\n",
    "\\tilde{\\alpha}_j &= \\frac{\\omega\\mu_j}{\\tilde{k}_j}\n",
    "\\end{align}\n",
    "\n",
    "Your task is to program this relation to find the impedance at the surface, $Z_0 = \\frac{E_{x,0}}{H_{y,0}}$, as a function of angular frequency $(\\omega)$. Use the complete forms of $k_r$ and $k_i$ in your equations.\n",
    "\n",
    "**note**: Remember that this is the $Z_{x,y}$ component of the impedence tensor measured in magnetotellurics.\n",
    "\n",
    "\n",
    "You should program this for a general model with $N$ layers, for testing though, use the following values for a three layered model:\n",
    "\n",
    "$\\mu = \\mu_0$ for all layers,\n",
    "\n",
    "$\\varepsilon = \\epsilon_0$ for all layers,\n",
    "\n",
    "$\\sigma_1 = 0.2 \\frac{S}{m}$, $\\sigma_2 = 0.5 \\frac{S}{m}$, $\\sigma_3=0.1 \\frac{S}{m}$\n",
    "\n",
    "$h_1 = 100m$, $h_2 = 200m$, ($h_3 = \\infty$ but you shouldn't actually need to use this value)\n",
    "\n",
    "Also use a range of frequencies ($f$) from 1E-4 Hz to 1E4 Hz. ($\\omega = 2 \\pi f$)\n",
    "\n",
    "**Note:** that Layer 1 is the top layer and layer N is the bottom layer."
   ]
  },
  {
   "cell_type": "markdown",
   "id": "71ffd995-2b30-427d-b8e3-f70c282ac23d",
   "metadata": {},
   "source": [
    "### Part a)\n",
    "Using your knowledge from question 1, verify that we are in the quasi-static regime. You can use the lowest conductivity and the highest frequency to verify this."
   ]
  },
  {
   "cell_type": "markdown",
   "id": "1a191814-a244-402b-a803-d2a68df36f8f",
   "metadata": {},
   "source": [
    "### Part b)\n",
    "\n",
    "For the test model, plot the real and imaginary components of $Z_0$ as a function of angular frequency (on a log-log scale).\n",
    "\n",
    "- the real and imaginary componets for this model will be negative, so plot the negative values on a log-log scale."
   ]
  },
  {
   "cell_type": "code",
   "execution_count": null,
   "id": "49f0c0b1-55dd-48ce-9728-d0eba71f9501",
   "metadata": {},
   "outputs": [],
   "source": [
    "# Define a few more functions I will likely need:\n",
    "# Again make these as functions to make your life easy!\n",
    "def k_func(sigma, mu, epsilon, omega):\n",
    "    # Since I've already got functions to calculate the real and imaginary parts of\n",
    "    # k, I'll just re-use them!\n",
    "    return k_r_func(sigma, mu, epsilon, omega) - 1j * k_i_func(sigma, mu, epsilon, omega)\n",
    "\n",
    "def alpha_func(sigma, mu, epsilon, omega):\n",
    "    k = k_func(sigma, mu, epsilon, omega)\n",
    "    return # insert formula for alpha!"
   ]
  },
  {
   "cell_type": "code",
   "execution_count": null,
   "id": "98630d30-6d33-4308-b4b8-e5be4a7c145f",
   "metadata": {},
   "outputs": [],
   "source": [
    "# now we can do something interesting\n",
    "# As I discussed in class there's two ways to do this, one using for loops\n",
    "# and one using recursive functions.\n",
    "\n",
    "def impedance_loop(sigmas, mus, epsilons, thicknesses, omega):\n",
    "    # The structure of the for loop based version is essentially\n",
    "    # calculate the impedance at the top of the last layer:\n",
    "\n",
    "    z = 0 # this will be some functions of sigmas[-1], mus[-1], epsilons[-1], and omega\n",
    "\n",
    "    # then start your for loop to loop through the layers moving upwards, starting at the\n",
    "    # second to last layer\n",
    "    for i in range(len(sigmas)-2, -1, -1):\n",
    "        sigma = sigmas[i]\n",
    "        mu = mus[i]\n",
    "        eps = epsilons[i]\n",
    "        h = thicknesses[i]\n",
    "        # compute k for this layer\n",
    "        # compute alpha for this layer\n",
    "        # then update z!\n",
    "        z =  5 * z\n",
    "        # clearly this shouldn't be 5 * z, but will be a function of alpha, k, thickness\n",
    "        # and the z value that came before.\n",
    "\n",
    "    # once we're out of the for loop just return the last value of z\n",
    "    return z\n",
    "\n",
    "\n",
    "# or if you're curious how this would work in a recursive function:\n",
    "def impedance_recursive(sigmas, mus, epsilons, thicknesses, omega):\n",
    "    # get sigma, mu, epsilon in the current layer\n",
    "    sigma = sigmas[0]\n",
    "    mu = mus[0]\n",
    "    eps = epsilons[0]\n",
    "    if len(sigmas) == 1: # then we are in the last layer\n",
    "        # return the value for z at the top of the last layer:\n",
    "        return 1\n",
    "    # otherwise continue on,\n",
    "\n",
    "    h = thicknesses[0]\n",
    "\n",
    "    # compute k for this layer\n",
    "    # compute alpha for this layer\n",
    "\n",
    "    # Then we can recursively call the function to find Z at the top of the next layer!\n",
    "    # but exclude the values in our current layer\n",
    "    z = impedance_recursive(sigmas[1:], mus[1:], epsilons[1:], thicknesses[1:], omega)\n",
    "\n",
    "    # then calculate the next z!\n",
    "    z =  5 * z\n",
    "    # and return it\n",
    "    return z"
   ]
  },
  {
   "cell_type": "code",
   "execution_count": null,
   "id": "dda4aa6b-ed1d-45bc-8123-4a600832e646",
   "metadata": {},
   "outputs": [],
   "source": [
    "freq = np.logspace(-4, 4)\n",
    "omega = 0 # something times freq\n",
    "\n",
    "sigmas = [0.2, 0.5, 0.1]\n",
    "mus = [mu_0, mu_0, mu_0]\n",
    "epsilons = [epsilon_0, epsilon_0, epsilon_0]\n",
    "thicknesses = [1\n",
    "\n",
    "z = imped\n"
   ]
  },
  {
   "cell_type": "markdown",
   "id": "c00b9818-d0f6-4b3b-a24f-2105ee4cd36b",
   "metadata": {},
   "source": [
    "### Part c)\n",
    "For the test model plot the apparent conductivity as a function of angular frequency (on a log-log scale). Recall:\n",
    "\n",
    "$$\\sigma_{a, xy} = \\frac{\\omega\\mu}{|Z_{xy}|^2}$$\n",
    "\n",
    "What are the values of $\\sigma_a$ at the lowest and highest frequencies?"
   ]
  },
  {
   "cell_type": "markdown",
   "id": "6e1ba5a1-573c-4c69-92ab-da752bfb5ddc",
   "metadata": {},
   "source": [
    "### Part d)\n",
    "\n",
    "For a halfspace, what should be the phase of $Z_{xy}$ be at the surface?\n",
    "\n",
    "In a single layer:\n",
    "\\begin{align}\n",
    "Z = \\frac{E_x}{H_y} = -\\alpha = -\\frac{\\omega\\mu}{\\tilde{k}}\n",
    "\\end{align}\n",
    "\n",
    "Since we are in the quasistatic regime, you can safely assume that the phase of $\\tilde{k}$ is $-\\frac{\\pi}{4} rad =-45 deg$. You will also likely need to recall that multiplying a complex number by -1 is equivalent to shifting its phase by $\\pi$ radians."
   ]
  },
  {
   "cell_type": "markdown",
   "id": "54dfc900-474d-489e-a722-94ce50f0967c",
   "metadata": {},
   "source": [
    "### Part e)\n",
    "For the test model plot the phase **in degrees** of $Z_0$ as a function of angular frequency.\n",
    "- For this one you will only want to put the x-axis (angular frequency) on a log scale. This corresponds to `pyplot.semilogx`.\n",
    "\n",
    "What are the phases at the highest and lowest frequency?"
   ]
  },
  {
   "cell_type": "code",
   "execution_count": null,
   "id": "2e93e49c-d3aa-4f4d-ba62-fe07620027a2",
   "metadata": {},
   "outputs": [],
   "source": []
  }
 ],
 "metadata": {
  "kernelspec": {
   "display_name": "Python 3 (ipykernel)",
   "language": "python",
   "name": "python3"
  },
  "language_info": {
   "codemirror_mode": {
    "name": "ipython",
    "version": 3
   },
   "file_extension": ".py",
   "mimetype": "text/x-python",
   "name": "python",
   "nbconvert_exporter": "python",
   "pygments_lexer": "ipython3",
   "version": "3.11.7"
  }
 },
 "nbformat": 4,
 "nbformat_minor": 5
}
