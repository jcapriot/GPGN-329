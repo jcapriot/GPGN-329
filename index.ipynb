{
 "cells": [
  {
   "cell_type": "markdown",
   "id": "2e35bf0c-ce5c-4d16-9c57-97a691b4d815",
   "metadata": {},
   "source": [
    "# GPGN 329\n",
    "## Physics of the Earth 2\n",
    "\n",
    "I will keep these running notes of our class for your use! (Note that these might not have all of the illustrations i've drawn in class just yet, but I'm working on it!).\n",
    "\n",
    "### Fundamentals\n",
    "These are notes from our first few days of class\n",
    "- [Complex Numbers](notes/Fundamentals/complex-numbers.ipynb)\n",
    "- [Vector Calculus](notes/Fundamentals/vector-calculus.ipynb)\n",
    "- [Wave equation](notes/Fundamentals/vector-calculus.ipynb)\n",
    "\n",
    "There is also a jupyter widget for you to play with here (that I showed in class):\n",
    "- [Wave widget](notes/Fundamentals/wave-interact.ipynb)\n",
    "\n",
    "### Electromagnetism\n",
    "Check out some electromagnetic theory:\n",
    "- [Electric fundamentals](notes/Electromagnetism/electric-fundamentals.ipynb)\n",
    "- [Maxwell's Equations](notes/Electromagnetism/maxwell.ipynb)\n",
    "- [EM Waves in free space](notes/Electromagnetism/em-freespace.ipynb)"
   ]
  }
 ],
 "metadata": {
  "kernelspec": {
   "display_name": "Python 3 (ipykernel)",
   "language": "python",
   "name": "python3"
  },
  "language_info": {
   "codemirror_mode": {
    "name": "ipython",
    "version": 3
   },
   "file_extension": ".py",
   "mimetype": "text/x-python",
   "name": "python",
   "nbconvert_exporter": "python",
   "pygments_lexer": "ipython3",
   "version": "3.11.7"
  }
 },
 "nbformat": 4,
 "nbformat_minor": 5
}
