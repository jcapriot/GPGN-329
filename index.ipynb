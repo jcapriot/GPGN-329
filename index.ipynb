{
 "cells": [
  {
   "cell_type": "markdown",
   "id": "5543afab-438a-4cbc-9c63-1e9d3fb5d9ab",
   "metadata": {},
   "source": [
    "# GPGN 329\n",
    "## Physics of the Earth 2\n",
    "\n",
    "I will keep these running notes of our class for your use! (Note that these might not have all of the illustrations i've drawn in class just yet, but I'm working on it!)."
   ]
  },
  {
   "cell_type": "markdown",
   "id": "f3c25f8f-1de1-4517-a1d2-d68b15309891",
   "metadata": {},
   "source": [
    "### Fundamentals\n",
    "These are notes from our first few days of class\n",
    "- [Complex Numbers](notes/Fundamentals/complex-numbers.ipynb)\n",
    "- [Vector Calculus](notes/Fundamentals/vector-calculus.ipynb)\n",
    "- [Wave equation](notes/Fundamentals/vector-calculus.ipynb)\n",
    "\n",
    "There is also a jupyter widget for you to play with here (that I showed in class):\n",
    "- [Wave widget](notes/Fundamentals/wave-interact.ipynb)"
   ]
  },
  {
   "cell_type": "markdown",
   "id": "ae0db099-b213-4d5c-893e-7e82f90e3cb5",
   "metadata": {},
   "source": [
    "### Electromagnetism\n",
    "Check out some electromagnetic theory:\n",
    "- [Electric fundamentals](notes/Electromagnetism/electric-fundamentals.ipynb)\n",
    "- [Maxwell's Equations](notes/Electromagnetism/maxwell.ipynb)\n",
    "- [EM Waves in free space](notes/Electromagnetism/em-freespace.ipynb)\n",
    "- [EM Waves in matter](notes/Electromagnetism/maxwell-matter.ipynb)\n",
    "- [Interface conditions for Maxwell's Equations](notes/Electromagnetism/maxwell-boundary.ipynb)\n",
    "- [Transmission and Reflections between materials](notes/Electromagnetism/transmission-and-reflections.ipynb)\n",
    "- [Maxwell's Equations in Conductive Medium](notes/Electromagnetism/maxwell-conductors.ipynb)\n",
    "- [Vertically incident planewaves in layered medium](notes/Electromagnetism/layered-planewave.ipynb)"
   ]
  },
  {
   "cell_type": "code",
   "execution_count": null,
   "id": "5249d4c1-307b-4181-9a6f-9d55db9f6a54",
   "metadata": {},
   "outputs": [],
   "source": []
  }
 ],
 "metadata": {
  "kernelspec": {
   "display_name": "Python 3 (ipykernel)",
   "language": "python",
   "name": "python3"
  },
  "language_info": {
   "codemirror_mode": {
    "name": "ipython",
    "version": 3
   },
   "file_extension": ".py",
   "mimetype": "text/x-python",
   "name": "python",
   "nbconvert_exporter": "python",
   "pygments_lexer": "ipython3",
   "version": "3.11.7"
  }
 },
 "nbformat": 4,
 "nbformat_minor": 5
}
