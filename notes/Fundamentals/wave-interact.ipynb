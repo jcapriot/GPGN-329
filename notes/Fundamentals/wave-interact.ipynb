{
 "cells": [
  {
   "cell_type": "code",
   "execution_count": 1,
   "id": "initial_id",
   "metadata": {
    "ExecuteTime": {
     "end_time": "2024-01-18T20:22:11.853638Z",
     "start_time": "2024-01-18T20:22:11.522769Z"
    }
   },
   "outputs": [],
   "source": [
    "from wave_interact import WaveInteract\n",
    "%matplotlib widget"
   ]
  },
  {
   "cell_type": "code",
   "execution_count": 2,
   "id": "2714e9c5ab9afc20",
   "metadata": {
    "ExecuteTime": {
     "end_time": "2024-01-18T20:22:14.311656Z",
     "start_time": "2024-01-18T20:22:13.927914Z"
    },
    "collapsed": false,
    "jupyter": {
     "outputs_hidden": false
    }
   },
   "outputs": [
    {
     "data": {
      "application/vnd.jupyter.widget-view+json": {
       "model_id": "ec1996edf3634ecb9f623b96f1fd459c",
       "version_major": 2,
       "version_minor": 0
      },
      "text/plain": [
       "HBox(children=(VBox(children=(FloatLogSlider(value=1.0, description='Frequency (Hz)', max=0.0, min=-1.0, step=…"
      ]
     },
     "execution_count": 2,
     "metadata": {},
     "output_type": "execute_result"
    }
   ],
   "source": [
    "wave = WaveInteract()\n",
    "wave.display()"
   ]
  },
  {
   "cell_type": "code",
   "execution_count": null,
   "id": "d5904be9-b563-41a9-954a-65ba8f74704c",
   "metadata": {},
   "outputs": [],
   "source": []
  }
 ],
 "metadata": {
  "kernelspec": {
   "display_name": "Python 3 (ipykernel)",
   "language": "python",
   "name": "python3"
  },
  "language_info": {
   "codemirror_mode": {
    "name": "ipython",
    "version": 3
   },
   "file_extension": ".py",
   "mimetype": "text/x-python",
   "name": "python",
   "nbconvert_exporter": "python",
   "pygments_lexer": "ipython3",
   "version": "3.11.7"
  }
 },
 "nbformat": 4,
 "nbformat_minor": 5
}
