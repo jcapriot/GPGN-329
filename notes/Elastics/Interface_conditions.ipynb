{
 "cells": [
  {
   "cell_type": "markdown",
   "id": "18dc7642-72eb-4d7f-8be3-e6d26b8cedca",
   "metadata": {},
   "source": [
    "# Interface conditions"
   ]
  },
  {
   "cell_type": "markdown",
   "id": "b56e6a5c-5cb6-4ed1-83dc-e8774543a47d",
   "metadata": {},
   "source": [
    "We have derive the equations describing how elastic waves propogate through a homogeonous isotropic medium. But, what happens between two regions?\n",
    "\n",
    "This can be broken up into two fundamental scenarios depending on the nature of the connection between materials\n",
    "1) The two materials are rigidly connected. (Think of them as being glued to another.)\n",
    "2) The two materials are not rigidly connected. (Think of the air-water interface, or the water-earth interface, the two most common interfaces of this type.)"
   ]
  },
  {
   "cell_type": "markdown",
   "id": "d816d688-3e86-4f89-ab77-09491213c6b0",
   "metadata": {},
   "source": [
    "## Rigid connections"
   ]
  },
  {
   "cell_type": "markdown",
   "id": "6bf0b96e-b144-4380-bd9f-405afd94fb4a",
   "metadata": {},
   "source": [
    "The interface conditions here are likely the most logical ones you would think of.\n",
    "Consider an interface normal to the $z$ axis, with material 1 above and material 2 below. If the two materials are rigidly connected, then:\n",
    "\\begin{align}\n",
    "\\vec{u}_1 = \\vec{u}_2 \\hspace{20pt} (1)\n",
    "\\end{align}\n",
    "The displacement vectors must match each other, and:\n",
    "\\begin{align}\n",
    "\\vec{\\sigma}_{\\perp, 1} = \\vec{\\sigma}_{\\perp, 2} \\hspace{20pt}  (2)\n",
    "\\end{align}\n",
    "The traction vector (acting on the surface) must be the same!\n",
    "\n",
    "This could also be stated using Hooke's law as:\n",
    "\\begin{align}\n",
    "\\sigma_{ij} &= \\lambda \\frac{\\partial u_k}{\\partial x_k} \\delta_{ij} + \\mu (\\frac{\\partial u_i}{\\partial x_j} + \\frac{\\partial u_j}{\\partial x_i})\n",
    "\\end{align}"
   ]
  },
  {
   "cell_type": "markdown",
   "id": "55e9acbb-ec61-4795-83ab-387932658a13",
   "metadata": {},
   "source": [
    "## At the interface:\n",
    "Consider a plane wave traveling along the $\\hat{x}$ direction, interacting with a vertical plane a $x=0$, the ($y-z$ plane)\n",
    "\n",
    "\\begin{align}\n",
    "\\vec{u}(\\vec{x}, t) = \\vec{U}_p e^{i(\\omega t - k_p x)} + \\vec{U}_s e^{i(\\omega t - k_s x)}\n",
    "\\end{align}\n",
    "and let's rotate the coordinate system about $x$ such that there are only displacements in the $\\hat{x}$ and $\\hat{y}$ directions:\n",
    "\n",
    "\\begin{align}\n",
    "\\vec{u}(\\vec{x}, t) = U_p e^{i(\\omega t - k_p x)} \\hat{x} + U_s e^{i(\\omega t - k_s x)} \\hat{y}\n",
    "\\end{align}\n",
    "\n",
    "This is split into the two potentials, which are each also required to be constant along the (y-z) plane, as:\n",
    "\n",
    "\\begin{align}\n",
    "\\phi(\\vec{x}, t) = -\\frac{U_p}{k_p} e^{i(\\omega t - k_p x)}\n",
    "\\end{align}\n",
    "\n",
    "and \n",
    "\\begin{align}\n",
    "\\vec{A}(\\vec{x}, t) = -\\frac{U_s}{k_s} e^{i(\\omega t - k_s x)}\\hat{z}\n",
    "\\end{align}"
   ]
  },
  {
   "cell_type": "markdown",
   "id": "05183542-bd30-4f5b-aa5f-04e07bfb5b91",
   "metadata": {},
   "source": [
    "As in electromagnetics, assume there is an incoming wave, a reflected wave, and a transmitted wave. (and $v_p$ = $v_s$)\n",
    "\n",
    "\\begin{align}\n",
    "\\vec{u}_I(x, t) &= \\vec{U}_Ie^{i(\\omega t - k_1 x)}\\\\\n",
    "\\vec{u}_R(x, t) &= \\vec{U}_Re^{i(\\omega t + k_1 x)}\\\\\n",
    "\\vec{u}_T(x, t) &= \\vec{U}_Te^{i(\\omega t - k_2 x)}\n",
    "\\end{align}\n",
    "\n",
    "\\begin{align}\n",
    "\\vec{u}_1 = \\vec{u}_I + \\vec{u}_R\\\\\n",
    "\\vec{u}_2 = \\vec{u}_T\n",
    "\\end{align}\n",
    "\n",
    "Correspondingly there are also $\\phi_I$, $\\phi_R$, $\\phi_T$, $\\vec{A}_I$, $\\vec{A}_R$, and $\\vec{A}_T$\n",
    "\n",
    "From boundary condition (1) we have:\n",
    "\n",
    "* In the direction of travel (which is the p-wave component):\n",
    "\n",
    "\\begin{align}\n",
    "u_{x, I} + u_{x, R} &= u_{x, T}\\\\\n",
    "\\partial_x \\phi_I + \\partial_x \\phi_R &= \\partial_x \\phi_T\\\\\n",
    "U_{p, I} + U_{p, R} &= U_{p, T}\n",
    "\\end{align}\n",
    "\n",
    "* along the $y$ direction (which is the s-wave component):\n",
    "\\begin{align}\n",
    "u_{y, I} + u_{y, R} &= u_{y, T}\\\\\n",
    "\\partial_x A_{I,z} + \\partial_x A_{R,z} &= \\partial_x A_{T,z}\\\\\n",
    "U_{s, I} + U_{s, R} &= U_{s, T}\n",
    "\\end{align}"
   ]
  },
  {
   "cell_type": "markdown",
   "id": "6310abde-6fe5-4ab4-801d-b3e972e58e99",
   "metadata": {},
   "source": [
    "From boundary condition (2), and using Hooke's law in an isotropic medium we have:\n",
    "\n",
    "\\begin{align}\n",
    "\\sigma_{xx} &= \\lambda \\frac{\\partial u_k}{\\partial x_k} + 2 \\mu \\frac{\\partial u_x}{\\partial x}\\\\\n",
    "&= \\lambda \\frac{\\partial u_x}{\\partial x_x} + 2 \\mu \\frac{\\partial u_x}{\\partial x}\\\\\n",
    " &=(\\lambda + 2\\mu) \\frac{\\partial u_x}{\\partial x_x}\\\\\n",
    " &= v_p^2 \\rho \\frac{\\partial u_x}{\\partial x_x}\n",
    "\\end{align}\n",
    "\n",
    "\\begin{align}\n",
    "\\sigma_{xy} &= \\mu (\\frac{\\partial u_x}{\\partial y} + \\frac{\\partial u_y}{\\partial x})\\\\\n",
    "&= \\mu \\frac{\\partial u_y}{\\partial x}\\\\\n",
    "&= v_s^2 \\rho \\frac{\\partial u_y}{\\partial x}\\\\\n",
    "\\sigma_{xz} &= \\mu (\\frac{\\partial u_x}{\\partial z} + \\frac{\\partial u_z}{\\partial x})\\\\\n",
    "&= 0\n",
    "\\end{align}"
   ]
  },
  {
   "cell_type": "markdown",
   "id": "2d9fa388-a8da-4a54-bfaa-dfe6ed91d73c",
   "metadata": {},
   "source": [
    "From (2), then we have two equations as well:\n",
    "\\begin{align}\n",
    "\\sigma_{xx,1} &= \\sigma_{xx,2}\\\\\n",
    "v_{p,1}^2 \\rho_1 k_{p,1} (U_{p,I} - U_{p, R}) &= v_{p,2}^2 \\rho_2 k_{p,2} U_{p,T}\n",
    "\\end{align}"
   ]
  },
  {
   "cell_type": "markdown",
   "id": "c3483d48-f6ee-4296-97f4-3ef16998e05e",
   "metadata": {},
   "source": [
    "Quickly, what is $k_p$ in terms of $v_p$ and $\\rho$?, to be a valid wave equation:\n",
    "$k_p = \\frac{\\omega}{v_p}$"
   ]
  },
  {
   "cell_type": "markdown",
   "id": "6d76d41b-31ee-480e-ab93-2a4cc1547f02",
   "metadata": {},
   "source": [
    "\\begin{align}\n",
    "\\partial_x^2 \\phi &= \\frac{1}{v_p^2} \\partial_t^2\\phi\\\\\n",
    "(-i k_p)^2 \\phi &= \\frac{(i \\omega^2)}{v_p^2}\\phi\\\\\n",
    "k_p^2 &= \\frac{\\omega^2}{v_p^2}\n",
    "\\end{align}\n",
    "\n",
    "We can then write:\n",
    "\\begin{align}\n",
    "v_{p,1} \\rho_1 \\omega (U_{p,I} - U_{p, R}) &= v_{p,2} \\rho_2 \\omega U_{p,T}\\\\\n",
    "v_{p,1} \\rho_1 (U_{p,I} - U_{p, R}) &= v_{p,2} \\rho_2 U_{p,T}\\\\\n",
    "\\eta_{p,1} (U_{p,I} - U_{p, R}) &= \\eta_{p,2} U_{p,T} \n",
    "\\end{align}\n",
    "Here $\\eta_p$ is the acoustic impedance! (Remember we had electrical impedances before)"
   ]
  },
  {
   "cell_type": "markdown",
   "id": "c695d7e8-4fd9-4697-aa11-5d5dd245a87e",
   "metadata": {},
   "source": [
    "Very very similarly, we also get from the \n",
    "$\\sigma_{xy}$ component:\n",
    "\n",
    "\\begin{align}\n",
    "\\sigma_{xy,1} &= \\sigma_{xy,2}\\\\\n",
    "v_{s,1}^2 \\rho_1 (\\partial_x u_{s, I} + \\partial_x u_{s, R}) &= v_{s,2}^2 \\rho_2 \\partial_x u_{s, T}\\\\\n",
    "v_{s,1}^2 \\rho_1 (\\partial_x u_{s, I} + \\partial_x u_{s, R}) &= v_{s,2}^2 \\rho_2 \\partial_x u_{s, T}\\\\\n",
    "v_{s,1}^2 \\rho_1 k_{s,1}(U_{s, I} - U_{s, R}) &= v_{s,2}^2 \\rho_2 k_{s,2}U_{s, T}\\\\\n",
    "v_{s,1} \\rho_1 \\omega (U_{s, I} - U_{s, R}) &= v_{s,2} \\rho_2 \\omega U_{s, T}\\\\\n",
    "v_{s,1} \\rho_1 (U_{s, I} - U_{s, R}) &= v_{s,2} \\rho_2 U_{s, T}\\\\\n",
    "\\eta_{s,1} (U_{s, I} - U_{s, R}) &= \\eta_{s,2} U_{s, T}\\\\\n",
    "\\end{align}"
   ]
  },
  {
   "cell_type": "markdown",
   "id": "a56f46fc-903e-4d37-9961-525c83f1996e",
   "metadata": {},
   "source": [
    "### Electromagnetism recap:\n",
    "\n",
    "This is Very similar to the set of equations we had to solve for EM: for reference this was what we had:\n",
    "\\begin{align}\n",
    "E_{I} + E_{R} &= E_{T}\\\\\n",
    "\\frac{1}{\\eta_1}(E_{I} - E_{R}) &= \\frac{1}{\\eta_2}E_{T}\n",
    "\\end{align}\n",
    "\n",
    "Which had a solution for reflection and transmission coefficients for the electrical wave amplitudes of:\n",
    "\\begin{align}\n",
    "R &= \\frac{\\eta_2 - \\eta_1}{\\eta_1 + \\eta_2}\\\\\n",
    "T &= \\frac{2\\eta_2}{\\eta_1 + \\eta_2}\n",
    "\\end{align}"
   ]
  },
  {
   "cell_type": "markdown",
   "id": "a08240b4-e398-4e7a-8bda-8e6ef00375fe",
   "metadata": {},
   "source": [
    "### Back to elastics\n",
    "There are two pairs of equations we need to solve. One set for the P-Waves and another for the S-waves. Each of those systems of equations are very similar to the system of equations we solved for with electromagnetic field.\n",
    "\n",
    "For the P-wave, the system is:\n",
    "\\begin{align}\n",
    "U_{p, I} + U_{p, R} &= U_{p, T}\\\\\n",
    "\\eta_{p,1}(U_{p, I} - U_{p, R}) &= \\eta_{p,2}U_{p, T}\n",
    "\\end{align}\n",
    "which is the same except for the we are multiplying by impedence instead of dividing by it. The solution for this is correspondingly found by inverting all of the impedences for the electrical reflection and transmission coefficients, which get to:\n",
    "\\begin{align}\n",
    "R_p &= \\frac{\\eta_{p,1} - \\eta_{p,2}}{\\eta_{p,1} + \\eta_{p,2}}\\\\\n",
    "T_p &= \\frac{2\\eta_{p,1}}{\\eta_{p,1} + \\eta_{p,2}}\n",
    "\\end{align}\n",
    "\n",
    "The system of equations for the S-wave is similarly:\n",
    "\\begin{align}\n",
    "U_{s, I} + U_{s, R} &= U_{s, T}\\\\\n",
    "\\eta_{s,1}(U_{s, I} - U_{s, R}) &= \\eta_{s,2}U_{s, T}\n",
    "\\end{align}\n",
    "\n",
    "With transmission and reflection coefficients:\n",
    "\\begin{align}\n",
    "R_s &= \\frac{\\eta_{s,1} - \\eta_{s,2}}{\\eta_{s,1} + \\eta_{s,2}}\\\\\n",
    "T_s &= \\frac{2\\eta_{s,1}}{\\eta_{s,1} + \\eta_{s,2}}\n",
    "\\end{align}"
   ]
  },
  {
   "cell_type": "markdown",
   "id": "cbdfa0ff-83f1-4269-ae6e-89c5f660ed95",
   "metadata": {},
   "source": [
    "## non-normal incidence\n",
    "\n",
    "What happens when the plane wave is not normally incident to the reflection surface. Let's treat incident P and S waves separately.\n",
    "\n",
    "Starting with an incident P wave:\n",
    "\n",
    "\\begin{align}\n",
    "\\vec{u}_{I}(\\vec{r}, t) = U_p e^{i(\\omega t - \\vec{k}_{p,i}\\cdot\\vec{r})}\\hat{k}_{p,I}\n",
    "\\end{align}\n",
    "\n",
    "The reflected and transmitted waves could have both S and P waves:\n",
    "\n",
    "\\begin{align}\n",
    "\\vec{u}_{p,R} &=\\vec{U}_{p,R}e^{i(\\omega t - \\vec{k}_{p,R}\\cdot \\vec{r})} \\\\\n",
    "\\vec{u}_{s,R} &=\\vec{U}_{p,R}e^{i(\\omega t - \\vec{k}_{s,R}\\cdot \\vec{r})} \\\\\n",
    "\\vec{u}_{p,T} &=\\vec{U}_{p,T}e^{i(\\omega t - \\vec{k}_{p,T}\\cdot \\vec{r})} \\\\\n",
    "\\vec{u}_{s,T} &=\\vec{U}_{s,T}e^{i(\\omega t - \\vec{k}_{s,T}\\cdot \\vec{r})}\n",
    "\\end{align}\n",
    "\n",
    "All together this will yield a system of equations like:\n",
    "\n",
    "\\begin{align}\n",
    "(\\#)e^{i(\\omega t - \\vec{k}_{p,I}\\cdot \\vec{r})} + (\\#)e^{i(\\omega t - \\vec{k}_{p,R}\\cdot\\vec{r})} + (\\#)e^{i(\\omega t - \\vec{k}_{s,R}\\cdot\\vec{r})}= (\\#)e^{i(\\omega t - \\vec{k}_{p,T}\\cdot\\vec{r})} + (\\#)e^{i(\\omega t - \\vec{k}_{s,T}\\cdot\\vec{r})}, \\hspace{10pt} \\text{at } x=0\n",
    "\\end{align}\n",
    "Which as we argued before (in EM), must be true for all $y$, $z$ and $\\omega$ at $x=0$, which implies at the boundary:\n",
    "\n",
    "\\begin{align}\n",
    "\\vec{k}_{p,I}\\cdot \\vec{r} = \\vec{k}_{p,R}\\cdot\\vec{r} = \\vec{k}_{s,R}\\cdot\\vec{r} = \\vec{k}_{p,T}\\cdot\\vec{r} = \\vec{k}_{s,T}\\cdot\\vec{r}\\hspace{10pt} \\text{at } x=0\n",
    "\\end{align}\n",
    "\n",
    "Then at $y=0$:\n",
    "$$\n",
    "k_{p, I,z} = k_{p, R,z} = k_{s, R,z} = k_{p, T,z} = k_{s, T,z}\n",
    "$$\n",
    "and for $z=0$:\n",
    "$$\n",
    "k_{p, I, y} = k_{p, R,y} = k_{s, R,y} = k_{p, T,y} = k_{s, T,y}\n",
    "$$"
   ]
  },
  {
   "cell_type": "markdown",
   "id": "21a829e6-72e0-490c-9c2f-bbff6e397a74",
   "metadata": {},
   "source": [
    "\n",
    "Similarly our three conclusions from before:\n",
    "\n",
    "We can again orient our axes such that the wave is traveling along the x-y plane, such that k_z\n",
    "\n",
    "The incident, all reflected, and all transmitted wave directions form a plane, normal to the surface. (Our previous conclusion 1)\n",
    "\n",
    "\n",
    "From the reflected coefficients:\n",
    "$$\n",
    "K_{p, I}\\sin\\theta_{p, I} = \\cancelto{K_{p, R}}{K_{p,I}} \\sin\\theta_{p,R} = K_{s,R}\\sin\\theta_{s,R}\n",
    "$$\n",
    "\n",
    "Thus for the reflected P-wave (from the incident P-wave)\n",
    "\n",
    "$$\n",
    "\\theta_{p,I} = \\theta_{p,R}\n",
    "$$\n",
    "\n",
    "and for the reflected S-wave:\n",
    "\n",
    "\\begin{align}\n",
    "K_{p, I}\\sin\\theta_{p, I} &= K_{s,R}\\sin\\theta_{s,R}\\\\\n",
    "\\frac{\\omega}{v_{p,1}}\\sin\\theta_{p, I} &= \\frac{\\omega}{v_{s,1}}\\sin\\theta_{s,R}\\\\\n",
    "\\sin\\theta_{p, I} &= \\frac{v_{p,1}}{v_{s,1}}\\sin\\theta_{s,R}\\\\\n",
    "\\frac{\\sin\\theta_{p, I}}{\\sin\\theta_{s,R}} &= \\frac{v_{p,1}}{v_{s,1}}\n",
    "\\end{align}\n",
    "\n",
    "**if** $v_s\\neq 0$: The P wave will reflect into both a P and S wave!\n",
    "**if** $v_s\\neq v_p$: The reflected P and S waves will have different angles.\n",
    "\n",
    "The transmitted wave, as you can imagine, we'll just end up deriving Snell's law:\n",
    "\n",
    "\\begin{align}\n",
    "\\frac{\\sin\\theta_{p, I}}{\\sin\\theta_{p,T}} &= \\frac{v_{p,1}}{v_{p,2}}\\\\\n",
    "\\frac{\\sin\\theta_{p, I}}{\\sin\\theta_{s,T}} &= \\frac{v_{p,1}}{v_{s,2}}\n",
    "\\end{align}"
   ]
  },
  {
   "cell_type": "markdown",
   "id": "5b3eef42-4859-4034-9ffe-ba55411cf840",
   "metadata": {},
   "source": [
    "# Non-rigid connections:\n",
    "\n",
    "Instead of all components of $\\vec{u}$ and $\\underline\\sigma$ being equal to each other, now only the perpendicular components are equal to each other!\n",
    "\n",
    "$$\n",
    "u_{\\perp, 1} = u_{\\perp, 2}\n",
    "$$\n",
    "\n",
    "$$\n",
    "\\sigma_{\\perp,\\perp, 1} = \\sigma_{\\perp,\\perp, 2}\n",
    "$$\n",
    "\n",
    "Effectively it means that any motion parallel to the interface can be unequal: think wind blowing over the ground.\n",
    "\n",
    "A few observations:\n",
    "**Snell's law still applies** for all waves (pressure and shear waves), we didn't actually use any direct boundary conditions to derive them, so the same observations still apply.\n",
    "\n",
    "For normal incidence, the only the P-waves will transmit between materials."
   ]
  },
  {
   "cell_type": "code",
   "execution_count": null,
   "id": "d03d3144-38cd-482c-be8a-ec6f7c26fdec",
   "metadata": {},
   "outputs": [],
   "source": []
  }
 ],
 "metadata": {
  "kernelspec": {
   "display_name": "Python 3 (ipykernel)",
   "language": "python",
   "name": "python3"
  },
  "language_info": {
   "codemirror_mode": {
    "name": "ipython",
    "version": 3
   },
   "file_extension": ".py",
   "mimetype": "text/x-python",
   "name": "python",
   "nbconvert_exporter": "python",
   "pygments_lexer": "ipython3",
   "version": "3.11.7"
  }
 },
 "nbformat": 4,
 "nbformat_minor": 5
}
