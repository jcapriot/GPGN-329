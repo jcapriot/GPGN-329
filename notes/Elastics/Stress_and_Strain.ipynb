{
 "cells": [
  {
   "cell_type": "markdown",
   "id": "a9f78acf-7c67-4e80-acbe-5e5ddb4e6953",
   "metadata": {},
   "source": [
    "# Stress and Strain\n",
    "\n",
    "Previously we applied Newton's 2nd law of motion to describe how waves propogate on a string. As the waves traveled along the string, they moved and deformed the string. As waves travel through the Earth, they behave similarly.\n",
    "\n",
    "We study these waves using the concepts from continuum mechanics.\n",
    "\n",
    "**_Note:_** Continuum Mechanics describes the behavoir of a continuous deformable material made up of particles that are packed so closely, that density, force and displacement can be thought of as continuous, differentiable functions."
   ]
  },
  {
   "cell_type": "markdown",
   "id": "d59f7d9d-9374-4e0d-a99c-6fd553b91ba1",
   "metadata": {},
   "source": [
    "Newton's 2nd law of motion, but now let's look at it in terms of force per unit volume (the so called, force-density)\n",
    "\n",
    "\\begin{align}\n",
    "F = m a\\\\\n",
    "\\frac{F}{V} = \\frac{m}{V} a\\\\\n",
    "f = \\rho a\\\\\n",
    "f = \\rho \\frac{d^2 u}{d t^2}\n",
    "\\end{align}"
   ]
  },
  {
   "cell_type": "markdown",
   "id": "7b289011-c5f8-4d99-b022-9d01dade2bd2",
   "metadata": {},
   "source": [
    "We use Newton's second law to characterize a continous medium and it's response to applied forces.\n",
    "\n",
    "1) Stress tensor ($\\underline{\\sigma}$): Describes the forces acting on a deformable body, Units of Pascal (Pa), a force per unit area.\n",
    "2) Formulate equations of motion which relates the stress to a displacement\n",
    "3) Strain tensor ($\\underline{\\varepsilon}$): Describes the internal deformation of a continuous material due to applied forces and the variation in displacement of the material, unitless.\n",
    "\n",
    "$$Deformation \\propto Stress$$\n",
    "\n",
    "The \"Constitutive equations\":\n",
    "\\begin{align}\n",
    "\\underline{\\sigma} = c \\underline{\\varepsilon}\\\\\n",
    "\\sigma_{ij} = c_{ijkl}\\varepsilon_{kl}\n",
    "\\end{align}\n",
    "\n",
    "What is $c_{ijkl}$?: Represents the relationship between the stress on face $i$ in the $j$ direction to the strain on axis $k$ in the $l$ direction."
   ]
  },
  {
   "cell_type": "markdown",
   "id": "e16b8168-e773-4612-9519-f1ccc898f6a7",
   "metadata": {
    "jp-MarkdownHeadingCollapsed": true
   },
   "source": [
    "## Stress"
   ]
  },
  {
   "cell_type": "markdown",
   "id": "bf3a9a15-c73e-4679-84cf-0ac24c4c3fd8",
   "metadata": {
    "jp-MarkdownHeadingCollapsed": true
   },
   "source": [
    "Two types of stress:\n",
    "1) Body forces: Act everywhere within an object, resulting in a net force proportional\n",
    "to the volume of the object. For example, the body force due to gravity:\n",
    "\n",
    "$$ \\vec{f}_{grav} = \\rho \\vec{g} $$\n",
    "$$ \\vec{F} = \\int_{V} \\rho \\vec{g} \\textrm{d}V$$\n",
    "\n",
    "3) Surface forces: Act on a surface of an object yeilding a net force proportional to the surface area of the object:\n",
    "\n",
    "Define a traction vector acting on a surface with normal $\\hat{n}$ as:\n",
    "$$\\vec{T}(\\hat{n}) = \\lim_{dS\\rightarrow0} \\frac{\\vec{F}}{dS}$$\n",
    "\n",
    "i.e. The force per unit area acting on a surface with normal $\\hat{n}$\n",
    "\n",
    "\\begin{align}\n",
    "\\vec{T}={\\underline\\sigma} \\hat{n}\\\\\n",
    "T_{i} = \\sum_{j=1}^3 \\sigma_{ij} n_j\n",
    "\\end{align}\n",
    "\n",
    "The system of surface forces is described by three traction vectors:\n",
    "\n",
    "\\begin{align}\n",
    "\\vec{T}_1 &= \\underline\\sigma \\hat{x}_1 = \\vec{\\sigma}_{1} \\\\\n",
    "\\vec{T}_2 &= \\underline\\sigma \\hat{x}_2 = \\vec{\\sigma}_{2} \\\\\n",
    "\\vec{T}_3 &= \\underline\\sigma \\hat{x}_3 = \\vec{\\sigma}_{3}\n",
    "\\end{align}\n",
    "\n",
    "\\begin{align}\n",
    "\\underline\\sigma = \\begin{pmatrix}\n",
    "T_{1,1} & T_{2, 1} & T_{3, 1}\\\\\n",
    "T_{1,2} & T_{2, 2} & T_{3, 2}\\\\\n",
    "T_{1,3} & T_{2, 3} & T_{3, 3}\n",
    "\\end{pmatrix} = \\begin{pmatrix}\n",
    "\\sigma_{1,1} & \\sigma_{2, 1} & \\sigma_{3, 1}\\\\\n",
    "\\sigma_{1,2} & \\sigma_{2, 2} & \\sigma_{3, 2}\\\\\n",
    "\\sigma_{1,3} & \\sigma_{2, 3} & \\sigma_{3, 3}\n",
    "\\end{pmatrix}\n",
    "\\end{align}"
   ]
  },
  {
   "cell_type": "markdown",
   "id": "151461f2-a82a-4107-8e69-235853ce7618",
   "metadata": {},
   "source": [
    "Two types of stress:\n",
    " * Normal stress\n",
    "     * (+) is extension (pulling)\n",
    "     * (-) is compression (squeezing)\n",
    "     * Normal stresses induce a change in volume of an element.\n",
    " * Shear stress\n",
    "     * Changes the shape, but not the volume.\n",
    "\n",
    "Which components of the stress tensor $\\underline\\sigma$ are the normal stress? Which are the shear stress?\n",
    "\n",
    "* Diagonal elements are the normal stresses.\n",
    "* Off diagonal elements are the shear stresses.\n",
    "\n",
    "If the object isn't being rotated (more specifically isn't accelerating it's rotation), What should the relationship be between the force on the $x_1$ surface in the $x_2$ direction and the force on the $x_2$ surface in the $x_1$ direction?. They're the same (otherwise the object would be \"torqued\")! This implies:\n",
    "$$\\sigma_{ij} = \\sigma_{ji}$$\n",
    "The $\\underline\\sigma$ matrix is symmetric!\n",
    "\n",
    "Most points within the Earth, the normal stress components are negative as the material is under compression from the weight of the rock above."
   ]
  },
  {
   "cell_type": "markdown",
   "id": "b37dd67c-5345-4949-a496-a6e1eb2383f7",
   "metadata": {},
   "source": [
    "### Principal Stresses\n",
    "\n",
    "For a given state of stress, there are some surfaces oriented such that the shear tractions vanish. (I.E. some direction $\\hat{u}$ such that $\\vec{T} = \\underline\\sigma \\hat{u}$ has a single component). The surfaces can be characterized by their normal vectors, which are called principal stress axes and the normal stress on these surfaces are called principal stresses.\n",
    "\n",
    "The shear components will vanish if the traction and normal vectors are parallel and can therefore be related to each other by a constant multiplier, i.e. $\\vec{T} = \\lambda \\hat{u}$\n",
    "\n",
    "\\begin{align}\n",
    "\\vec{T} &= \\lambda \\hat{u}\\\\\n",
    "&= \\lambda u_1 + \\lambda u_2 + \\lambda u_3\n",
    "\\end{align}\n",
    "\n",
    "\\begin{align}\n",
    "\\sigma_ij = T_{i, j}\\\\\n",
    "\\vec{T} = \\underline\\sigma \\hat{u}\\\\\n",
    "\\lambda\\hat{u} = \\underline\\sigma \\hat{u}\n",
    "\\end{align}\n",
    "\n",
    "Does this look... familiar? Eigenvalues!\n",
    "\n",
    "\\begin{align}\n",
    "(\\sigma_{ij} - \\lambda \\delta_{ij})u_j &= 0\\\\\n",
    "(\\underline\\sigma - \\lambda I) \\hat{u} &= \\vec{0}\\\\\n",
    "\\begin{pmatrix}\n",
    "\\sigma_{1,1} - \\lambda & \\sigma_{2, 1} & \\sigma_{3, 1}\\\\\n",
    "\\sigma_{1,2} & \\sigma_{2, 2} - \\lambda  & \\sigma_{3, 2}\\\\\n",
    "\\sigma_{1,3} & \\sigma_{2, 3} & \\sigma_{3, 3} - \\lambda \n",
    "\\end{pmatrix} \\begin{pmatrix}\n",
    "u_1 \\\\ u_2 \\\\ u_3\n",
    "\\end{pmatrix} &= \\begin{pmatrix}\n",
    "0 \\\\ 0 \\\\ 0\n",
    "\\end{pmatrix}\n",
    "\\end{align}\n",
    "\n",
    "We look for $\\lambda$ such that\n",
    "\\begin{align}\n",
    "\\det(\\underline\\sigma - \\lambda I) = 0\n",
    "\\end{align}\n",
    "Which is a 3rd order polynomial, with three roots which are called the principal stresses ($\\sigma_i$ and principal stress directions $\\hat{u}_i$.\n",
    "\n",
    "\\begin{align}\n",
    "\\Lambda = \\begin{pmatrix}\n",
    "\\sigma_1 & 0 & 0\\\\\n",
    "0 & \\sigma_2 & 0 \\\\\n",
    "0 & 0 & \\sigma_3\n",
    "\\end{pmatrix}\\\\\n",
    "Q = \\begin{pmatrix}\n",
    "u_{1,1} & u_{2, 1} & u_{3, 1}\\\\\n",
    "u_{1,2} & u_{2, 2} & u_{3, 2}\\\\\n",
    "u_{1,3} & u_{2, 3} & u_{3, 3}\n",
    "\\end{pmatrix}\\\\\n",
    "\\underline \\sigma = Q \\Lambda Q^{-1}\n",
    "\\end{align}\n",
    "\n",
    "To make it a unique description of $\\underline\\sigma$, we must describe an order for the principal stresses, usually we set:\n",
    "$$\n",
    "|\\sigma_1| \\geq |\\sigma_2| \\geq |\\sigma_3|\n",
    "$$\n",
    "\n",
    "$\\sigma_1$ is the maximum principal stress and $\\sigma_3$ is the minimum principal stress."
   ]
  },
  {
   "cell_type": "markdown",
   "id": "4a26380d-34d5-4c49-abe5-a252be7390d4",
   "metadata": {},
   "source": [
    "### Mohr's Circle\n",
    "Just like there is a plane with zero shear stress, there is a corresponding plane of maximum shear stress.\n",
    "\n",
    "We generally use Mohr's circle to show the relationship of the magnitudes of shear stress and normal stress.\n",
    "\\begin{align}\n",
    "\\sigma &= \\sigma_m - \\tau_m \\sin 2\\theta\\\\\n",
    "\\tau &= \\tau_m \\cos 2\\theta\n",
    "\\end{align}\n",
    "\n",
    "\\begin{align}\n",
    "\\sigma_m &= \\frac{\\sigma_1 + \\sigma_3}{2}\\\\\n",
    "\\tau_m &= \\frac{\\sigma_1 - \\sigma_3}{2}\n",
    "\\end{align}\n"
   ]
  },
  {
   "cell_type": "code",
   "execution_count": 23,
   "id": "4c6e5a10-76aa-4e5e-8f21-6d401a11dee4",
   "metadata": {},
   "outputs": [],
   "source": [
    "import numpy as np\n",
    "import matplotlib.pyplot as plt\n",
    "\n",
    "theta = np.linspace(0, np.pi, 64)\n",
    "\n",
    "sigma_1 = 10\n",
    "sigma_3 = 7\n",
    "\n",
    "sigma_m = (sigma_1 + sigma_3)/2\n",
    "tau_m = (sigma_1 - sigma_3)/2\n",
    "\n",
    "sigma = sigma_m - tau_m * np.sin(2 * theta)\n",
    "tau = tau_m * np.cos(2 * theta)"
   ]
  },
  {
   "cell_type": "code",
   "execution_count": 24,
   "id": "1543620a-6442-4413-97c2-b5f29d9c220e",
   "metadata": {},
   "outputs": [
    {
     "data": {
      "image/png": "[encoded data removed]",
      "text/plain": [
       "<Figure size 640x480 with 1 Axes>"
      ]
     },
     "metadata": {},
     "output_type": "display_data"
    }
   ],
   "source": [
    "plt.figure()\n",
    "ax = plt.gca()\n",
    "\n",
    "ax.plot(sigma, tau)\n",
    "ax.set_aspect('equal');\n",
    "ax.grid()\n",
    "ax.set_xlim([-0.5, 12])\n",
    "ax.set_ylim([-5, 5])\n",
    "\n",
    "ax.scatter(sigma_1, 0, marker='x', label=r\"$\\sigma_1$\")\n",
    "ax.scatter(sigma_3, 0, marker='x', label=r\"$\\sigma_3$\")\n",
    "\n",
    "ax.scatter(sigma_m, tau_m, marker='o', label=r\"$\\tau_{max}$\")\n",
    "\n",
    "ax.legend()\n",
    "\n",
    "ax.set_xlabel(r\"$\\sigma$\")\n",
    "ax.set_ylabel(r\"$\\tau$\")\n",
    "\n",
    "ax.spines['left'].set_position('zero')\n",
    "ax.spines['bottom'].set_position('center')\n",
    "\n",
    "# Eliminate upper and right axes\n",
    "ax.spines['right'].set_color('none')\n",
    "ax.spines['top'].set_color('none')"
   ]
  },
  {
   "cell_type": "markdown",
   "id": "38930c5b-d862-4157-bb3e-06a3db54e7d5",
   "metadata": {},
   "source": [
    "The $\\tau_{max}$ is clearly at $\\theta=\\pi/4$ (remember though, the normal stress is not zero on this surface, don't confuse that!)\n",
    "\n",
    "A few observations:\n",
    "* The normal stress on the surface with maximum shear stress is not zero!\n",
    "* For a plane not aligned with the principal directions, there will be a shear stress (Even if you don't apply shear stess)."
   ]
  },
  {
   "cell_type": "markdown",
   "id": "cea51823-346c-4a32-a96f-967db6951545",
   "metadata": {},
   "source": [
    "### Deviatoric stress\n",
    "Often we are not as much interested in the total stress on an object, but instead it's deviation from its resting stress state. Think about how in the subsurface the rocks are often under a very large compressive stress due to the weight of everything above it.\n",
    "\n",
    "Define the mean stress as:\n",
    "$$\\mu = (\\sigma_1 + \\sigma_2 + \\sigma_3)/3$$\n",
    "\n",
    "Then the deviatoric stress is:\n",
    "$$D_{ij} = \\sigma_{ij} - \\mu \\delta_{ij}$$\n",
    "\n",
    "\\begin{align}\n",
    "D = \\begin{pmatrix}\n",
    "\\sigma_{11} - \\mu & \\sigma_{21} & \\sigma_{31}\\\\\n",
    "\\sigma_{12} & \\sigma_{22} - \\mu& \\sigma_{32}\\\\\n",
    "\\sigma_{13} & \\sigma_{23} & \\sigma_{33} - \\mu\n",
    "\\end{pmatrix}\n",
    "\\end{align}"
   ]
  },
  {
   "cell_type": "markdown",
   "id": "cb7efa7a-9db2-4b16-bd4c-e4f78a4d85bf",
   "metadata": {},
   "source": [
    "Consider the lithostatic stress:\n",
    "\n",
    "Normal stress is the pressure of the overlying material,\n",
    "\n",
    "Assume:\n",
    "* $z$ : the height of a material\n",
    "* $\\rho$ : The density of the material\n",
    "\n",
    "\\begin{align}\n",
    "\\vec{F} & = m \\vec{g}\\\\\n",
    "\\vec{F} & = \\rho \\Delta_z \\Delta_x \\Delta_y \\vec{g}\\\\\n",
    "\\vec{p} = \\frac{\\vec{F}}{\\Delta_x \\Delta_y} & = \\rho \\Delta_z \\vec{g}\\\\\n",
    "\\vec{p} & = \\rho z \\vec{g}\\\\\n",
    "\\end{align}"
   ]
  },
  {
   "cell_type": "code",
   "execution_count": 32,
   "id": "838dd5a9-4afe-4125-9f8e-1762a3aa2b30",
   "metadata": {},
   "outputs": [
    {
     "name": "stdout",
     "output_type": "stream",
     "text": [
      "8.820E+07 Pa\n",
      "8.820E+02 bar\n"
     ]
    }
   ],
   "source": [
    "z = 3000  # m\n",
    "rho = 3000  # g/cc\n",
    "g = 9.8  # m/s\n",
    "\n",
    "p = rho * z * g\n",
    "print(f\"{p:.3E} Pa\")\n",
    "print(f\"{p/100000:.3E} bar\")"
   ]
  },
  {
   "cell_type": "markdown",
   "id": "f0e7dd2d-a94c-43ea-a1f6-42ca8a88ff28",
   "metadata": {},
   "source": [
    "## Strain"
   ]
  },
  {
   "cell_type": "markdown",
   "id": "8d02539e-b5bf-4387-be46-7c5fc8c2f4cc",
   "metadata": {},
   "source": [
    "We've described the stress tensor (in detail) but what is the strain tensor?\n",
    "\n",
    "Consider a point in a continuum material located at $\\vec{x}_1$ that is displaced to $\\vec{x'}_1$ by a displacement vector $\\vec{u}_1$:\n",
    "$$\n",
    "\\vec{x'}_1 = \\vec{x}_1 + \\vec{u}_1\n",
    "$$\n",
    "\n",
    "Then consider a point near $\\vec{x}_1$, at $\\vec{x}_2 = \\vec{x}_1 + \\vec{\\delta x}$, which also has a displacement:\n",
    "$$\n",
    "\\vec{x'}_2 = \\vec{x_2} + \\vec{u}_2\n",
    "$$\n",
    "\n",
    "Since it is a continuum material, we can expect the $\\vec{u}$ is a continuous function of space:\n",
    "$$\n",
    "\\vec{u}_1 = \\vec{u}(\\vec{x}_1)\n",
    "$$\n",
    "$$\n",
    "\\vec{u}_2 = \\vec{u}(\\vec{x}_2)\n",
    "$$\n",
    "\n",
    "So:\n",
    "\\begin{align}\n",
    "\\vec{u}(\\vec{x}_1 + \\vec{\\delta x}) = \\vec{u}(\\vec{x}_1) + (\\nabla \\vec{u}(\\vec{x}_1))\\vec{\\delta_x} + H.O.T.\\\\\n",
    "u_i(\\vec{x}_1 + \\vec{\\delta x}) \\approx u_i(\\vec{x}_1) + \\sum_j \\frac{\\partial \\vec{u}_i(\\vec{x}_1)}{\\partial x_j}\\delta x_j\\\\\n",
    "u_i(\\vec{x}_1 + \\vec{\\delta x}) \\approx u_i(\\vec{x}_1) + \\frac{\\partial \\vec{u}_i(\\vec{x}_1)}{\\partial x_j}\\delta x_j\n",
    "\\end{align}\n",
    "where the sum over $j$ is implied because it is repeated (and doesn't appear in the left hand side)\n",
    "\n",
    "\\begin{align}\n",
    "u_i(\\vec{x} + \\vec{\\delta x}) - u_i(\\vec{x}) \\approx \\frac{\\partial \\vec{u}_i(\\vec{x})}{\\partial x_j}\\delta x_j\\\\\n",
    "\\delta u_i \\approx \\frac{\\partial \\vec{u}_i(\\vec{x})}{\\partial x_j}\\delta x_j\n",
    "\\end{align}\n",
    "\n",
    "We are primarily interested in deformations of the body, however the displacement vector function describes:\n",
    "* deformation\n",
    "* rigid body translation: $\\vec{x}_2 = \\vec{x} + \\vec{b}  = I \\vec{x} + \\vec{b}$ where $\\vec{b}$ is constant.\n",
    "    * $\\vec{u}(\\vec{x}) = \\vec{b}$\n",
    "* rigid body rotation: $\\vec{x}_2 = R \\vec{x}$ where $R$ is constant and \"orthonormal\" $(R R^T = I)$ or ($R^T R = I$)\n",
    "    * $\\vec{u} = \\vec{x}_2 - \\vec{x_1} = R\\vec{x}_1 - \\vec{x}_1 = (R - I)\\vec{x}$"
   ]
  },
  {
   "cell_type": "markdown",
   "id": "b67e7c89-ecf3-40c5-8c08-d40842d8dad8",
   "metadata": {},
   "source": [
    "Let's start by adding a fancy zero to $\\delta u_i$\n",
    "\n",
    "\\begin{align}\n",
    "\\delta u_i &= \\frac{\\partial \\vec{u}_i(\\vec{x})}{\\partial x_j}\\delta x_j + \\frac{1}{2}\\bigg(\\frac{\\partial \\vec{u}_j(\\vec{x})}{\\partial x_i}\\delta x_j - \\frac{\\partial \\vec{u}_j(\\vec{x})}{\\partial x_i}\\delta x_j\\bigg)\\\\\n",
    "\\delta u_i &= \\frac{1}{2}\\bigg(\\frac{\\partial \\vec{u}_i(\\vec{x})}{\\partial x_j} + \\frac{\\partial \\vec{u}_j(\\vec{x})}{\\partial x_i}\\bigg)\\delta x_j + \\frac{1}{2}\\bigg(\\frac{\\partial \\vec{u}_i(\\vec{x})}{\\partial x_j} - \\frac{\\partial \\vec{u}_j(\\vec{x})}{\\partial x_i}\\bigg)\\delta x_j\\\\\n",
    "\\delta u_i &= (\\varepsilon_{ij} + \\omega_{ij})\\delta x_j\n",
    "\\end{align}\n",
    "\n",
    "where:\n",
    "\\begin{align}\n",
    "\\varepsilon_{ij} & = \\frac{1}{2}\\bigg(\\frac{\\partial \\vec{u}_i}{\\partial x_j} + \\frac{\\partial \\vec{u}_j}{\\partial x_i}\\bigg)\\\\\n",
    "\\omega_{ij} & = \\frac{1}{2}\\bigg(\\frac{\\partial \\vec{u}_i}{\\partial x_j} - \\frac{\\partial \\vec{u}_j}{\\partial x_i}\\bigg)\n",
    "\\end{align}\n",
    "\n",
    "From the definitions above we can observe:\n",
    "* $\\underline{\\varepsilon}$ is symmetric ($\\varepsilon_{ij} = \\varepsilon_{ji}$)\n",
    "* $\\underline{\\omega}$ is antisymmetric ($\\omega_{ij} = -\\omega_{ji}$) (also known as skew-symmetric)\n",
    "    * this also implies $\\omega_{ii}=0$\n",
    "\n",
    "\n",
    "What we have done is to define the Jacobian of the displacement in terms of the symmetric and antisymmetric matrices:\n",
    "\n",
    "\\begin{align}\n",
    "\\frac{\\partial u_i}{\\partial x_j} = e_{ij} + w_{ij}\n",
    "\\end{align}"
   ]
  },
  {
   "cell_type": "markdown",
   "id": "a39537f0-8cc7-41ee-b223-2369faa7bc1e",
   "metadata": {},
   "source": [
    "In a vector calculus notation:\n",
    "\\begin{align}\n",
    "\\underline \\varepsilon = \\frac{1}{2}(\\nabla \\vec{u} + (\\nabla \\vec{u})^T)\n",
    "\\underline \\omega = \\frac{1}{2}(\\nabla \\vec{u} - (\\nabla \\vec{u})^T)\n",
    "\\end{align}"
   ]
  },
  {
   "cell_type": "markdown",
   "id": "01b3a301-c330-4551-894b-c387d49f6a82",
   "metadata": {},
   "source": [
    "For example, consider $\\vec{u}$ describing a translation, i.e. it is equal to a constant vector:\n",
    "\\begin{align}\n",
    "\\vec{u}(\\vec{x}) &= \\vec{b}\\\\\n",
    "\\frac{\\partial u_i}{\\partial x_j} &= 0\n",
    "\\end{align}\n",
    "Thus there is no strain under translation.\n",
    "\n"
   ]
  },
  {
   "cell_type": "markdown",
   "id": "d4bf01a9-41af-4a2e-8609-24b8638610ca",
   "metadata": {},
   "source": [
    "For a rotation:\n",
    "\\begin{align}\n",
    "\\vec{u}(\\vec{x}) &= (R - I)\\vec{x} \\\\\n",
    "\\frac{\\partial u_i}{\\partial x_j} &= R_{ij} - \\delta_{ij}\n",
    "\\end{align}\n",
    "\n",
    "\\begin{align}\n",
    "\\varepsilon_{ij} &= \\frac{1}{2}\\bigg(R_{ij} - \\delta_{ij} + R_{ji} -\\delta_{ji}\\bigg)\\\\\n",
    "&= \\frac{1}{2}\\bigg(R_{ij} + R_{ji}\\bigg) -  \\delta_{ij}\n",
    "\\end{align}"
   ]
  },
  {
   "cell_type": "markdown",
   "id": "4fa99d41-f876-45f6-bd1d-dbd7db183f7e",
   "metadata": {},
   "source": [
    "## Dilation\n",
    "Consider an object that is deformed along direction.\n",
    "\\begin{align}\n",
    "\\vec{u}(\\vec{x}) = diag(\\vec{a}) \\vec{x}\n",
    "\\end{align}\n",
    "Where $diag(\\vec{a})$ is a diagonal matrix with the elements of $\\vec{a}$ along the diagonal\n",
    "\n",
    "The strain matrix is therefore:\n",
    "\\begin{align}\n",
    "\\underline{\\varepsilon} = diag(\\vec{a})\n",
    "\\end{align}\n",
    "Which only has elements along the diagonal.\n",
    "\n",
    "Let's look at the change in volume of the object:\n",
    "\\begin{align}\n",
    "\\Delta x_1 &= a_1 x_1\\\\\n",
    "\\Delta x_2 &= a_2 x_2\\\\\n",
    "\\Delta x_3 &= a_3 x_3\\\\\n",
    "\\end{align}\n",
    "\n",
    "The change in volume along each direction will be $\\Delta x_i x_j x_k$ for $i\\neq j \\neq k$ (the change in that direction times the cross sectional area of that direction).\n",
    "\n",
    "\\begin{align}\n",
    "\\Delta V &= \\Delta x_1 (x_2 x_3) + \\Delta x_2 (x_1 x_3) + \\Delta x_3 (x_1 x_2)\\\\\n",
    " &= a_1 x_1 x_2 x_3  + a_2 x_1 x_2 x_3 + a_3 x_1 x_2 x_3\\\\\n",
    " &= (a_1 + a_2 + a_3)V\\\\\n",
    "\\frac{\\Delta V}{V} &= a_1 + a_2 + a_3\\\\\n",
    "\\frac{\\Delta V}{V} &= \\theta\n",
    "\\end{align}\n",
    "\n",
    "The dilation $\\theta$ is therefore:\n",
    "\\begin{align}\n",
    "\\theta = a_{ii} = \\varepsilon_{ii} = \\sum_{i} \\frac{\\partial u_i}{\\partial x_i} = \\nabla \\cdot \\vec{u}(\\vec{x})\n",
    "\\end{align}\n",
    "\n",
    "The change in volume is the divergence of the displacement field! Which should feal right to you, as the divergence of a vector field measures the accumulation of stuff, and what more is a change in volume than an accumulation of stuff?"
   ]
  },
  {
   "cell_type": "code",
   "execution_count": null,
   "id": "bdb9bcaa-0731-4245-a902-b8b87c15aec0",
   "metadata": {},
   "outputs": [],
   "source": []
  }
 ],
 "metadata": {
  "kernelspec": {
   "display_name": "Python 3 (ipykernel)",
   "language": "python",
   "name": "python3"
  },
  "language_info": {
   "codemirror_mode": {
    "name": "ipython",
    "version": 3
   },
   "file_extension": ".py",
   "mimetype": "text/x-python",
   "name": "python",
   "nbconvert_exporter": "python",
   "pygments_lexer": "ipython3",
   "version": "3.11.7"
  }
 },
 "nbformat": 4,
 "nbformat_minor": 5
}
