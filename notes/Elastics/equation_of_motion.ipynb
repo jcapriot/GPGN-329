{
 "cells": [
  {
   "cell_type": "markdown",
   "id": "5edc21aa-2ca6-4723-ad40-7d3899769911",
   "metadata": {},
   "source": [
    "# Equation of Motion\n",
    "\n",
    "Now we know the forces acting on the surface of a material in terms of sresses. Let's write Newton's second law in terms of body forces and stresses:\n",
    "\n",
    "Define the net body force as $\\vec{F} = f \\Delta_x \\Delta_y \\Delta_z$\n",
    "\n",
    "$\\vec{f}$ is Force/volume.\n",
    "Density: $\\rho = \\frac{m}{V}$\n",
    "\n",
    "\\begin{align}\n",
    "\\vec{f} &= \\rho \\vec{a}\\\\\n",
    "\\vec{f} &= \\rho \\frac{\\partial^2 u}{\\partial t^2}\\\\\n",
    "\\end{align}\n",
    "\n",
    "There are body forces $\\vec{f}_b$ and strain forces that act on an element:\n",
    "\n",
    "all of the stress forces acting on a body are:\n",
    "\n",
    "The forces acting on each $x_1$ face (one at $\\vec{x}$ the other at $\\vec{x}+\\Delta x_1$).\n",
    "\\begin{align}\n",
    "\\vec{F}_{+x}(\\vec{x} + \\Delta x_1) &= \\vec{\\sigma}_1(\\vec{x} + \\Delta x_1) \\Delta x_2 \\Delta x_3\\\\\n",
    "\\vec{F}_{-x}(\\vec{x}) &= -\\vec{\\sigma}_1(\\vec{x}) \\Delta x_2 \\Delta x_3\\\\\n",
    "\\vec{F}_{+x} + \\vec{F}_{-x} &= (\\vec{\\sigma}_1(\\vec{x} + \\Delta x_1) - \\vec{\\sigma}_1(\\vec{x})) \\Delta x_2 \\Delta x_3\\\\\n",
    "\\vec{f}_{x1} &= \\frac{\\vec{\\sigma}_1(\\vec{x} + \\Delta x_1) - \\vec{\\sigma}_1(\\vec{x})}{\\Delta x_1}\\\\\n",
    "lim_{\\Delta x_1 \\rightarrow 0}\\vec{f}_{x1} &= \\frac{\\partial \\vec{\\sigma}_1}{\\partial x_1}\\\\\n",
    "\\end{align}\n",
    "\n",
    "Which is repeated for each pair of face:\n",
    "thus all the stress forces are:\n",
    "\\begin{align}\n",
    "\\vec{f}_{x1} + \\vec{f}_{x2} + \\vec{f}_{x3} \\\\\n",
    "\\frac{\\partial \\vec{\\sigma}_1}{\\partial x_1} + \\frac{\\partial \\vec{\\sigma}_2}{\\partial x_2} + \\frac{\\partial \\vec{\\sigma}_3}{\\partial x_3}\\\\\n",
    "\\nabla \\cdot \\underline\\sigma\n",
    "\\end{align}"
   ]
  },
  {
   "cell_type": "markdown",
   "id": "e26a98b3-29a9-4240-a62f-18b7f77f43a6",
   "metadata": {},
   "source": [
    "Thus our equation of motion in terms of the stress, body forces and displacements are:\n",
    "\\begin{align}\n",
    "\\nabla \\cdot \\underline\\sigma + \\vec{f}_b = \\rho \\frac{\\partial^2 \\vec{u}}{\\partial t^2}\n",
    "\\end{align}\n",
    "\n",
    "or in tensor notation\n",
    "\\begin{align}\n",
    "\\frac{\\partial \\sigma_{ij}}{\\partial x_{j}} + f_{b,i} = \\rho \\frac{\\partial^2 u_i}{\\partial t^2}\n",
    "\\end{align}\n",
    "\n",
    "which are called inhomogenous equations (because there is a forcing term).\n",
    "\n",
    "The homogeneous equations are the same with $f_{b,i}=0$."
   ]
  },
  {
   "cell_type": "markdown",
   "id": "0e5c4be3-a7b8-44ae-8502-de70beba8dd2",
   "metadata": {},
   "source": [
    "Now consider the relationship between stress and strain in a linear medium:\n",
    "\\begin{align}\n",
    "\\sigma_{ij} &= c_{ijkl}\\varepsilon_{kl}\\\\\n",
    "\\frac{\\partial \\sigma_{ij}}{\\partial x_{j}} &= \\frac{\\partial }{\\partial x_{j}}\\bigg(c_{ijkl}\\varepsilon_{kl}\\bigg)\\\\\n",
    "&= \\frac{\\partial }{\\partial x_{j}}\\bigg(\\frac{c_{ijkl}}{2}(\\frac{\\partial u_k}{\\partial x_j} +\\frac{\\partial u_j}{\\partial x_k})\\bigg)\\\\\n",
    "\\end{align}\n",
    "\n",
    "So the most general form of the equation is:\n",
    "\\begin{align}\n",
    "\\frac{\\partial }{\\partial x_{j}}\\bigg(\\frac{c_{ijkl}}{2}(\\frac{\\partial u_k}{\\partial x_j} +\\frac{\\partial u_j}{\\partial x_k})\\bigg) + f_{b,i} = \\rho \\frac{\\partial^2 u_i}{\\partial t^2}\n",
    "\\end{align}\n",
    "\n",
    "or in matrix vector form:\n",
    "\\begin{align}\n",
    "\\nabla \\cdot (\\underline{\\underline{c}}\\hspace{2pt}\\underline{\\varepsilon}) + f_{b,i} &= \\rho \\frac{\\partial^2 \\vec{u}}{\\partial t^2}\\\\\n",
    "\\frac{1}{2}\\nabla \\cdot \\big(\\underline{\\underline{c}} (\\nabla \\vec{u} + (\\nabla \\vec{u})^T)\\big) + f_{b,i} &= \\rho \\frac{\\partial^2 \\vec{u}}{\\partial t^2}\n",
    "\\end{align}\n",
    "Which is the full vector wave equation in anisotropic material."
   ]
  },
  {
   "cell_type": "markdown",
   "id": "b89846cc-8a9e-4f0d-bb70-42c778e20735",
   "metadata": {},
   "source": [
    "## Isotropic mediums"
   ]
  },
  {
   "cell_type": "markdown",
   "id": "a93ae83a-2432-415e-9ac3-404612fcfe81",
   "metadata": {},
   "source": [
    "In isotropic medium we can describe the relationship in terms of Lame's parameters:\n",
    "\n",
    "\\begin{align}\n",
    "\\sigma_{ij} &= \\lambda \\theta \\delta_{ij} + 2\\mu \\varepsilon_{ij}\\\\\n",
    "\\sigma_{ij} &= \\lambda \\frac{\\partial u_k}{\\partial x_k} \\delta_{ij} + \\mu (\\frac{\\partial u_i}{\\partial x_j} + \\frac{\\partial u_j}{\\partial x_i})\\\\\n",
    "\\end{align}\n",
    "\n",
    "or \n",
    "\\begin{align}\n",
    "\\underline\\sigma = \\lambda \\nabla\\cdot\\vec{u} I + \\mu\\big(\\nabla \\vec{u} + (\\nabla \\vec{u})^T\\big)\n",
    "\\end{align}"
   ]
  },
  {
   "cell_type": "markdown",
   "id": "d9909ab7-ac60-452e-aa71-04235fbe4ab0",
   "metadata": {},
   "source": [
    "What does $\\frac{\\partial\\sigma_{ij}}{\\partial x_j}$ look like for $i=j$?\n",
    "\n",
    "\\begin{align}\n",
    "\\sigma_{ii} &= \\lambda \\theta + 2\\mu \\varepsilon_{ii}\\\\\n",
    "\\frac{\\partial\\sigma_{ii}}{\\partial x_i} &= \\lambda \\frac{\\partial \\theta}{\\partial x_i} + 2\\mu \\frac{\\partial^2 u_i}{\\partial x_i^2}\n",
    "\\end{align}\n",
    "\n",
    "for $i\\neq j$\n",
    "\\begin{align}\n",
    "\\sigma_{ij} &= 2\\mu \\varepsilon_{ij}\\\\\n",
    "\\frac{\\partial\\sigma_{ij}}{\\partial x_j} &= \\mu \\bigg(\\frac{\\partial^2 u_i}{\\partial x_j^2} + \\frac{\\partial^2 u_j}{\\partial x_j \\partial x_i}\\bigg)\n",
    "\\end{align}"
   ]
  },
  {
   "cell_type": "markdown",
   "id": "306c7174-88dd-42ee-88ec-0e78d631877a",
   "metadata": {},
   "source": [
    "So for the $x$ component we have:\n",
    "\n",
    "\\begin{align}\n",
    "\\frac{\\partial \\sigma_{xx}}{\\partial x} + \\frac{\\partial \\sigma_{xy}}{\\partial y} + \\frac{\\partial \\sigma_{xz}}{\\partial z}\\\\\n",
    "\\lambda \\frac{\\partial \\theta}{\\partial x} + 2 \\mu \\frac{\\partial^2 u_x}{\\partial x\n",
    "^2} + \\mu \\frac{\\partial^2 u_x}{\\partial y^2}  + \\mu \\frac{\\partial^2 u_y}{\\partial x \\partial y} + \\mu\\frac{\\partial^2 u_x}{\\partial z^2} + \\mu \\frac{\\partial^2 u_z}{\\partial x \\partial z}\\\\\n",
    "\\lambda \\frac{\\partial \\theta}{\\partial x} + \\mu \\frac{\\partial^2 u_x}{\\partial x\n",
    "^2} + \\mu \\frac{\\partial^2 u_x}{\\partial y^2} + \\mu\\frac{\\partial^2 u_x}{\\partial z^2}  + \\mu \\frac{\\partial^2 u_x}{\\partial x \\partial x} + \\mu \\frac{\\partial^2 u_y}{\\partial x \\partial y} + \\mu \\frac{\\partial^2 u_z}{\\partial x \\partial z}\\\\\n",
    "\\lambda \\frac{\\partial \\theta}{\\partial x} + \\mu \\nabla^2 u_x  + \\mu \\frac{\\partial^2 u_x}{\\partial x \\partial x} + \\mu \\frac{\\partial^2 u_y}{\\partial x \\partial y} + \\mu \\frac{\\partial^2 u_z}{\\partial x \\partial z}\\\\\n",
    "\\lambda \\frac{\\partial \\theta}{\\partial x} + \\mu \\nabla^2 u_x  + \\mu \\frac{\\partial}{\\partial x} \\bigg(\\frac{\\partial u_x}{\\partial x} +\\frac{\\partial u_y}{\\partial y} + \\frac{\\partial u_z}{\\partial z}\\bigg)\\\\\n",
    "\\lambda \\frac{\\partial \\theta}{\\partial x} + \\mu \\nabla^2 u_x  + \\mu \\frac{\\partial}{\\partial x} \\nabla \\cdot \\vec{u}\\\\\n",
    "\\lambda \\frac{\\partial \\nabla \\cdot \\vec{u}}{\\partial x} + \\mu \\nabla^2 u_x  + \\mu \\frac{\\partial}{\\partial x} \\nabla \\cdot \\vec{u}\\\\\n",
    "(\\lambda + \\mu) \\frac{\\partial \\nabla \\cdot \\vec{u}}{\\partial x} + \\mu \\nabla^2 u_x\\\\\n",
    "\\end{align}"
   ]
  },
  {
   "cell_type": "markdown",
   "id": "1a8bfa76-878c-45e8-a0f4-b22bd5d385e3",
   "metadata": {},
   "source": [
    "combing all of the components together we have our inhomogeneous vector wave equation in a homogenous medium:\n",
    "\\begin{align}\n",
    "(\\lambda + \\mu) \\nabla (\\nabla \\cdot \\vec{u}) + \\mu \\nabla^2 \\vec{u} + \\vec{f} = \\rho \\frac{\\partial^2 \\vec{u}}{\\partial t^2}\n",
    "\\end{align}\n",
    "\n",
    "or the homogeneous form:\n",
    "\\begin{align}\n",
    "(\\lambda + \\mu) \\nabla (\\nabla \\cdot \\vec{u}) + \\mu \\nabla^2 \\vec{u} = \\rho \\frac{\\partial^2 \\vec{u}}{\\partial t^2}\n",
    "\\end{align}\n",
    "\n",
    "Which should remind you a lot of the equation we derived for the electric field in Maxwell's equations in matter:\n",
    "\\begin{align}\n",
    "\\nabla^2 \\vec{E} - \\nabla(\\nabla \\cdot \\vec{E}) &= \\mu \\sigma \\frac{\\partial \\vec{E}}{\\partial t}+ \\mu\\varepsilon \\frac{\\partial^2 \\vec{E}}{\\partial t^2}\n",
    "\\end{align}\n",
    "\n",
    "Recal the vector calculus identity:\n",
    "$$\\nabla^2 \\vec{u} = \\nabla(\\nabla \\cdot \\vec{u}) - \\nabla\\times(\\nabla\\times \\vec{u})$$\n",
    "\n",
    "then:\n",
    "\\begin{align}\n",
    "(\\lambda + \\mu) \\nabla (\\nabla \\cdot \\vec{u}) + \\mu \\nabla^2 \\vec{u} &= \\rho \\frac{\\partial^2 \\vec{u}}{\\partial t^2}\\\\\n",
    "(\\lambda + \\mu) \\nabla (\\nabla \\cdot \\vec{u}) + \\mu (\\nabla(\\nabla \\cdot \\vec{u}) - \\nabla\\times(\\nabla\\times \\vec{u})) &= \\rho \\frac{\\partial^2 \\vec{u}}{\\partial t^2}\\\\\n",
    "(\\lambda + 2\\mu) \\nabla (\\nabla \\cdot \\vec{u}) - \\mu \\nabla\\times(\\nabla\\times \\vec{u}) &= \\rho \\frac{\\partial^2 \\vec{u}}{\\partial t^2}\n",
    "\\end{align}"
   ]
  },
  {
   "cell_type": "markdown",
   "id": "41098f9c-a8c3-4b96-85f9-b3270737811e",
   "metadata": {},
   "source": [
    "### Helmholtz decomposition\n",
    "\n",
    "Any vector field can be expressed in terms of a Curl free vector field, and a divergence free vector field, equivalently the curl free vector field is the gradient of a scalar potential and the divergence free vector field is the curl of a vector potential, this is called a Helmholtz decomposition:\n",
    "\n",
    "$$\n",
    "\\vec{u} = \\nabla \\phi + \\nabla \\times \\vec{A}\n",
    "$$\n",
    "\n",
    "A quick aside, $\\vec{A}$ can be anything really, the only constraint we put on it is on $\\nabla \\times \\vec{A}$, let us set the $\\vec{A}$ we are interested in such that it has 0 divergence ($\\nabla \\cdot \\vec{A} = 0$). This is cauled a Coulomb gauge (which is also useful in electromagnetics too).\n",
    "\n",
    "Recall the vector calculus identities:\n",
    "* $\\nabla \\times (\\nabla \\phi) = 0$\n",
    "* $\\nabla\\cdot(\\nabla\\times\\vec{A}) = 0$"
   ]
  },
  {
   "cell_type": "markdown",
   "id": "b4c39842-c023-42e8-ac01-b309fb2f709b",
   "metadata": {},
   "source": [
    "Let's insert the potentials into into the wave equation:\n",
    "\\begin{align}\n",
    "(\\lambda + 2\\mu) \\nabla (\\nabla \\cdot \\vec{u}) - \\mu \\nabla\\times(\\nabla\\times \\vec{u}) &= \\rho \\frac{\\partial^2 \\vec{u}}{\\partial t^2}\\\\\n",
    "(\\lambda + 2\\mu) \\nabla (\\nabla \\cdot (\\nabla \\phi + \\nabla \\times \\vec{A})) - \\mu \\nabla\\times(\\nabla\\times (\\nabla \\phi + \\nabla \\times \\vec{A})) &= \\rho \\frac{\\partial^2 (\\nabla \\phi + \\nabla \\times \\vec{A})}{\\partial t^2}\\\\\n",
    "(\\lambda + 2\\mu) \\nabla (\\nabla \\cdot (\\nabla \\phi) + \\nabla \\cdot (\\nabla \\times \\vec{A})) - \\mu \\nabla\\times(\\nabla\\times (\\nabla \\phi) + \\nabla\\times (\\nabla \\times \\vec{A})) &= \\rho \\frac{\\partial^2 (\\nabla \\phi + \\nabla \\times \\vec{A})}{\\partial t^2}\\\\\n",
    "(\\lambda + 2\\mu) \\nabla (\\nabla \\cdot (\\nabla \\phi) + \\cancel{\\nabla \\cdot (\\nabla \\times \\vec{A})}) - \\mu \\nabla\\times(\\cancel{\\nabla\\times (\\nabla \\phi)} + \\nabla\\times (\\nabla \\times \\vec{A})) &= \\rho \\frac{\\partial^2 (\\nabla \\phi + \\nabla \\times \\vec{A})}{\\partial t^2}\\\\\n",
    "(\\lambda + 2\\mu) \\nabla (\\nabla \\cdot (\\nabla \\phi)) - \\mu \\nabla\\times(\\nabla\\times (\\nabla \\times \\vec{A})) &= \\rho \\frac{\\partial^2 (\\nabla \\phi + \\nabla \\times \\vec{A})}{\\partial t^2}\n",
    "\\end{align}\n",
    "\\begin{align}\n",
    "(\\lambda + 2\\mu) \\nabla (\\nabla \\cdot (\\nabla \\phi)) - \\rho \\frac{\\partial^2 (\\nabla \\phi)}{\\partial t^2} &= \\mu \\nabla\\times(\\nabla\\times (\\nabla \\times \\vec{A})) + \\rho \\frac{\\partial^2 (\\nabla \\times \\vec{A})}{\\partial t^2}\\\\\n",
    "\\nabla\\bigg((\\lambda + 2\\mu)(\\nabla \\cdot (\\nabla \\phi)) - \\rho \\frac{\\partial^2 \\phi}{\\partial t^2} \\bigg)&= \\nabla\\times \\bigg(\\mu (\\nabla\\times (\\nabla \\times \\vec{A})) + \\rho \\frac{\\partial^2 (\\vec{A})}{\\partial t^2}\\bigg)\n",
    "\\end{align}\n",
    "again recall the Curl-Curl vector calculus identity:\n",
    "\\begin{align}\n",
    "\\nabla\\bigg((\\lambda + 2\\mu)(\\nabla \\cdot (\\nabla \\phi)) - \\rho \\frac{\\partial^2 \\phi}{\\partial t^2} \\bigg)&= \\nabla\\times \\bigg(\\mu (\\nabla (\\nabla \\cdot \\vec{A}) - \\nabla^2 \\vec{A}) + \\rho \\frac{\\partial^2 (\\vec{A})}{\\partial t^2}\\bigg)\\\\\n",
    "\\nabla\\bigg((\\lambda + 2\\mu)(\\nabla \\cdot (\\nabla \\phi)) - \\rho \\frac{\\partial^2 \\phi}{\\partial t^2} \\bigg)&= \\nabla\\times \\bigg(\\mu (\\nabla (\\cancel{\\nabla \\cdot \\vec{A}}) - \\nabla^2 \\vec{A}) + \\rho \\frac{\\partial^2 (\\vec{A})}{\\partial t^2}\\bigg)\\\\\n",
    "\\nabla\\bigg((\\lambda + 2\\mu)(\\nabla \\cdot (\\nabla \\phi)) - \\rho \\frac{\\partial^2 \\phi}{\\partial t^2} \\bigg)&= \\nabla\\times \\bigg(-\\mu \\nabla^2 \\vec{A} + \\rho \\frac{\\partial^2 (\\vec{A})}{\\partial t^2}\\bigg)\\\\\n",
    "\\end{align}\n",
    "\n",
    "This last equation says that the gradient of a scalar must be equal to the curl of a vector...\n",
    "This can only happen if the scalar field is 0 (technically constant but we have a lot of choice in our potentials..., and the vector field is 0."
   ]
  },
  {
   "cell_type": "markdown",
   "id": "e7e71866-44af-4206-9abd-669e9b1beadb",
   "metadata": {},
   "source": [
    "This means we have two equations:\n",
    "\\begin{align}\n",
    "\\nabla^2 \\phi &= \\frac{\\rho}{\\lambda + 2 \\mu}\\frac{\\partial^2 \\phi}{\\partial t^2} = \\frac{1}{v_p^2} \\frac{\\partial^2 \\phi}{\\partial t^2}\\\\\n",
    "\\nabla^2 \\vec{A} &= \\frac{\\rho}{\\mu}\\frac{\\partial^2 \\vec{A}}{\\partial t^2} = \\frac{1}{v_s^2} \\frac{\\partial^2 \\vec{A}}{\\partial t^2}\n",
    "\\end{align}\n",
    "\n",
    "with\n",
    "\\begin{align}\n",
    "v_p &= \\sqrt{\\frac{\\lambda + 2\\mu}{\\rho}}\\\\\n",
    "v_s &= \\sqrt{\\frac{\\mu}{\\rho}}\n",
    "\\end{align}\n",
    "\n",
    "are the P-wave and S-wave velocities."
   ]
  },
  {
   "cell_type": "markdown",
   "id": "a6a8ad61-0638-4c74-9de9-cb04224ee5a9",
   "metadata": {},
   "source": [
    "### Observations:\n",
    "What is the relative orientation of the vector potential \\vec{A} a wave's direction of propogation?\n",
    "\n",
    "We **specifically** chose a $\\vec{A}$ such that it has zero divergence, implying $\\nabla \\cdot \\vec{A}=0$, what does this apply about the relative directions of $\\vec{A}$ and $\\vec{k}$. (**hint** Think back to electromagnetics and what did $\\nabla \\cdot \\vec{E} = 0$ imply about the relative directions of $\\vec{k}$ and $\\vec{E}$? THey wre all perpendicular to the direction of travel.\n",
    "\n",
    "-> Implies $\\vec{A}$ is perpendiclar to u $\\vec{k}$\n",
    "\n",
    "\\begin{align}\n",
    "\\end{align}"
   ]
  },
  {
   "cell_type": "markdown",
   "id": "0547c672-850e-43de-a554-1dd4a4905786",
   "metadata": {},
   "source": [
    "## An example:\n",
    "Let us consider: A plane wave (both p and s waves) propogating along the x direction:\n",
    "\n",
    "\\begin{align}\n",
    "\\vec{u}(\\vec{x}, t) = \\vec{U}_p e^{i(\\omega t - k_p x)} + \\vec{U}_s e^{i(\\omega t - k_s x)}\n",
    "\\end{align}\n",
    "\n",
    "This is split into the two potentials, which are each also required to be constant along the plane perpendicular to the wave propogation direction, as:\n",
    "\n",
    "\\begin{align}\n",
    "\\phi(\\vec{x}, t) = -\\frac{U_{p,x}}{k_p} e^{i(\\omega t - k_p x)}\n",
    "\\end{align}"
   ]
  },
  {
   "cell_type": "markdown",
   "id": "1729620c-84a0-43a5-9db1-30e93a4adc4f",
   "metadata": {},
   "source": [
    "\n",
    "\\begin{align}\n",
    "\\nabla \\times \\vec{A} = (\\frac{\\partial A_z}{\\partial y} - \\frac{\\partial A_y}{\\partial z})\\hat{x} + (\\frac{\\partial A_x}{\\partial z} - \\frac{\\partial A_z}{\\partial x})\\hat{y} + (\\frac{\\partial A_y}{\\partial x} - \\frac{\\partial A_x}{\\partial y})\\hat{z}\\\\\n",
    "\\nabla \\times \\vec{A} = \\cancel{(\\frac{\\partial A_z}{\\partial y} - \\frac{\\partial A_y}{\\partial z})\\hat{x}} + (\\cancel{\\frac{\\partial A_x}{\\partial z}} - \\frac{\\partial A_z}{\\partial x})\\hat{y} + (\\frac{\\partial A_y}{\\partial x} - \\cancel{\\frac{\\partial A_x}{\\partial y}})\\hat{z}\\\\\n",
    "\\nabla \\times \\vec{A} = -\\frac{\\partial A_z}{\\partial x}\\hat{y} + \\frac{\\partial A_y}{\\partial x}\\hat{z}\n",
    "\\end{align}"
   ]
  },
  {
   "cell_type": "markdown",
   "id": "b4c90e55-777b-4013-8074-b19f9aeeebbe",
   "metadata": {},
   "source": [
    "and \n",
    "\\begin{align}\n",
    "\\vec{A}(\\vec{x}, t) = (-\\frac{U_{s, y}}{k_s}\\hat{y} + \\frac{U_{s, z}}{k_s}\\hat{z})e^{i(\\omega t - k_s x)}\n",
    "\\end{align}\n",
    "\n",
    "Clearly, $\\nabla \\phi$ only contributes to the wave motion along the direction of travel. $\\nabla \\times \\vec{A}$ only contributes displacements in the transverse direction!"
   ]
  },
  {
   "cell_type": "code",
   "execution_count": null,
   "id": "9afe24dd-d0ae-4571-8d07-ad4f66feaf82",
   "metadata": {},
   "outputs": [],
   "source": []
  }
 ],
 "metadata": {
  "kernelspec": {
   "display_name": "Python 3 (ipykernel)",
   "language": "python",
   "name": "python3"
  },
  "language_info": {
   "codemirror_mode": {
    "name": "ipython",
    "version": 3
   },
   "file_extension": ".py",
   "mimetype": "text/x-python",
   "name": "python",
   "nbconvert_exporter": "python",
   "pygments_lexer": "ipython3",
   "version": "3.11.7"
  }
 },
 "nbformat": 4,
 "nbformat_minor": 5
}
