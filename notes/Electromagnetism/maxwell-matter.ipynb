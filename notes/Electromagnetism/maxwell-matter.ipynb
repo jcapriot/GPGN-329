{
 "cells": [
  {
   "cell_type": "markdown",
   "id": "492bc627-2ae3-4e48-badf-75647c1c77c1",
   "metadata": {},
   "source": [
    "# Maxwell's Equations in Matter"
   ]
  }
 ],
 "metadata": {
  "kernelspec": {
   "display_name": "Python 3 (ipykernel)",
   "language": "python",
   "name": "python3"
  },
  "language_info": {
   "codemirror_mode": {
    "name": "ipython",
    "version": 3
   },
   "file_extension": ".py",
   "mimetype": "text/x-python",
   "name": "python",
   "nbconvert_exporter": "python",
   "pygments_lexer": "ipython3",
   "version": "3.11.7"
  }
 },
 "nbformat": 4,
 "nbformat_minor": 5
}
