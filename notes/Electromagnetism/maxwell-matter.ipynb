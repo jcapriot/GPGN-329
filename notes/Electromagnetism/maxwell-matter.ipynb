{
 "cells": [
  {
   "cell_type": "markdown",
   "id": "492bc627-2ae3-4e48-badf-75647c1c77c1",
   "metadata": {},
   "source": [
    "# Maxwell's Equations in Matter"
   ]
  },
  {
   "cell_type": "markdown",
   "id": "74643edf-59b8-4f26-ad41-5f1b08635481",
   "metadata": {},
   "source": [
    "Up to this point we have made no assumptions about what sort of material the electromagnetic wave exists in to derive Maxwell's Equations:\n",
    "\n",
    "| Equation |  Integral Form | Differential Form | Name|\n",
    "|---|---|---|---|\n",
    "| 1 |$$\\iint \\vec{E}\\cdot\\vec{\\partial A} = \\frac{q_{enclosed}}{\\varepsilon_0}$$| $$\\nabla \\cdot \\vec{E} = \\frac{\\rho_e}{\\varepsilon_0}$$| Gauss's Law|\n",
    "| 2 |$$\\iint \\vec{B}\\cdot\\vec{\\partial A} = 0$$| $$\\nabla \\cdot \\vec{B} = 0$$| unnamed|\n",
    "| 3 |$$\\oint\\vec{E}\\cdot\\vec{\\partial l} = -\\iint \\frac{\\partial \\vec{B}}{\\partial t}\\cdot \\vec{\\partial A}$$| $$\\nabla \\times \\vec{E} = -\\frac{\\partial B}{\\partial t}$$| Faraday's Law|\n",
    "| 4 |$$\\oint \\vec{B}\\cdot\\vec{\\partial l} = \\mu_0 I + \\mu_o \\varepsilon_0 \\iint \\frac{\\partial \\vec{E} }{\\partial t}\\cdot \\vec{\\partial A}$$| $$\\nabla \\times \\vec{B} = \\mu_0 (\\vec{J} + \\varepsilon_0 \\frac{\\partial \\vec{E}}{\\partial t})$$| Ampere's Law with Maxwell's correction|\n",
    "\n",
    "In geophysics, we are interested in how these fields behave as they travel through matter that has physicals properties.  Fortunately, these equations already completely describe how electromagnetic waves propogate through matter! The question is... Where the hell are any physical properties here?\n",
    "\n",
    "However, when we start actually using them to solve for fields in matter (the thing we observe), they are not the most convenient equations to work with. In fact we can't really control portions of these equations, and if we can't control them how can we use it for geophysics?"
   ]
  },
  {
   "cell_type": "markdown",
   "id": "41d20686-d266-40d1-a6f7-0622dfc0228a",
   "metadata": {},
   "source": [
    "## Electric Charge density\n",
    "Q?: What makes up $\\rho_e$?\n",
    "\n",
    "There are two sources of charge density: $\\rho_{f}$ and $\\rho_{b}$, called free charge density and bound charge density.\n",
    "Free charges are charges that can move well freely, bound charges are usually found in pairs and stuck to each other. Think electrons and protons of an molecule. They are bound to each other and can't really move between them.)\n",
    "\n",
    "Bound charge density happens in matterial that is polarizable, and it is attributed to a field termed the electrical polarization $\\vec{P}$, which has a relationship similar to (but not quite the same as) Gauss's law for the electric field:\n",
    "\n",
    "When an Electric field is applied to a dielectric material, the bound charges will slightly seperate pulling apart the positive and negative charges (similar to an elastric strain).\n",
    "\n",
    "$$\n",
    "\\rho_b = -\\nabla \\cdot \\vec{P}\n",
    "$$\n",
    "\n",
    "This equation says that the electric polarization is due to bound charges."
   ]
  },
  {
   "cell_type": "markdown",
   "id": "30d7a6c3-a492-46be-80f4-122e3818b0cb",
   "metadata": {},
   "source": [
    "Let's split our charge density into these two terms:\n",
    "\n",
    "\\begin{align}\n",
    "\\rho_e &= \\rho_f + \\rho_e\\\\\n",
    "\\varepsilon_0\\nabla \\cdot \\vec{E} &= \\rho_f - \\nabla \\cdot \\vec{P}\\\\\n",
    "\\nabla \\cdot \\vec{E} &= \\frac{1}{\\varepsilon_0}(\\rho_f - \\nabla \\cdot \\vec{P})\\\\\n",
    "\\nabla \\cdot \\vec{E} + \\frac{1}{\\varepsilon_0}\\nabla \\cdot \\vec{P} &= \\frac{\\rho_f}{\\varepsilon_0}\\\\\n",
    "\\varepsilon_0\\nabla \\cdot \\vec{E} + \\nabla \\cdot \\vec{P} &= \\rho_f\\\\\n",
    "\\nabla \\cdot (\\varepsilon_0\\vec{E} + \\vec{P}) &= \\rho_f\\\\\n",
    "\\nabla \\cdot \\vec{D} &= \\rho_f\n",
    "\\end{align}\n",
    "\n",
    "with\n",
    "\n",
    "$$\\vec{D} = \\varepsilon_0 \\vec{E} + \\vec{P}$$\n",
    "\n",
    "$\\vec{D}$ is termed the electric displacement field, and it satisifies Gauss's law in a dialectric material. Basically it says that the field lines must begin and end at free charges.\n",
    "\n",
    "Look up electret (the analogue of a bar magnet but with electric fields)."
   ]
  },
  {
   "cell_type": "markdown",
   "id": "e5bf6369-7f1e-4610-8b4d-cbfac74bd84b",
   "metadata": {},
   "source": [
    "## Current densities\n",
    "In the static case, you might remember that there were two sources of currents, free currents (associated with the movement of free charges), and currents that gave rise to a materials intrinsic magnetization $(\\vec{M}$.\n",
    "\n",
    "They were $\\vec{j}_f$, free current density, and a bound current density (that produced magnetic fields) $\\vec{j}_b$.\n",
    "\n",
    "Regard bound current density as small current loops, such that $$\\vec{j}_b = \\nabla \\times \\vec{M}$$.\n",
    "\n",
    "However in the dynamic case there is another source of current. Think: If a material's bound charges seperate (polarize) in response to an electric field, and the electric field is changing, would that polarization also change? Wouldn't those bound charges change their seperation? This implies that there is another source of currents in the dynamic case!\n",
    "\n",
    "Consider a small chunk of the polarized material with a cross section of $\\delta a$, the polarization produces a charge density of $\\rho_b$ and $-\\rho_b$ at each end. If $\\vec{P}$ increases slightly, the charges increase slightly, giving a net current of:\n",
    "\n",
    "$$\\delta I = \\frac{\\partial \\rho_b}{\\partial t} \\delta a = \\frac{\\partial P}{\\partial t} \\delta a$$\n",
    "\n",
    "Thus the polarization current is:\n",
    "$$\n",
    "\\vec{J}_p = \\frac{\\partial \\vec{P}}{\\partial t}\n",
    "$$\n",
    "\n",
    "So our total current density is then:\n",
    "\\begin{align}\n",
    "\\vec{J} &= \\vec{J}_f + \\vec{J}_b + \\vec{J}_p\\\\\n",
    "\\vec{J} &= \\vec{J}_f + \\nabla \\times \\vec{M} + \\frac{\\partial \\vec{P}}{\\partial t}\n",
    "\\end{align}"
   ]
  },
  {
   "cell_type": "markdown",
   "id": "3ef5035c-6304-4696-9309-7e0467010de4",
   "metadata": {},
   "source": [
    "Inserting these into Maxwell's 4th equation gives:\n",
    "\n",
    "\\begin{align}\n",
    "\\nabla \\times \\vec{B} &= \\mu_0 (\\vec{J} + \\varepsilon_0 \\frac{\\partial \\vec{E}}{\\partial t})\\\\\n",
    "\\frac{1}{\\mu_0} \\nabla \\times \\vec{B} &= \\vec{J} + \\varepsilon_0 \\frac{\\partial \\vec{E}}{\\partial t}\\\\\n",
    "\\frac{1}{\\mu_0} \\nabla \\times \\vec{B} &= \\vec{J}_f + \\nabla \\times \\vec{M} + \\frac{\\partial \\vec{P}}{\\partial t}  + \\varepsilon_0 \\frac{\\partial \\vec{E}}{\\partial t}\\\\\n",
    "\\frac{1}{\\mu_0} \\nabla \\times \\vec{B} - \\nabla \\times \\vec{M} &= \\vec{J}_f + \\frac{\\partial \\vec{P}}{\\partial t}  + \\varepsilon_0 \\frac{\\partial \\vec{E}}{\\partial t}\\\\\n",
    "\\frac{1}{\\mu_0} \\nabla \\times \\vec{B} - \\nabla \\times \\vec{M} &= \\vec{J}_f + \\frac{\\partial}{\\partial t}(\\varepsilon_0 \\vec{E} + \\vec{P})\\\\\n",
    " \\nabla \\times (\\frac{1}{\\mu_0}\\vec{B} - \\vec{M})  &= \\vec{J}_f + \\frac{\\partial}{\\partial t}(\\varepsilon_0 \\vec{E} + \\vec{P})\\\\\n",
    " \\nabla \\times \\vec{H} &= \\vec{J}_f + \\frac{\\partial \\vec{D}}{\\partial t}\\\\\n",
    "\\end{align}\n",
    "\n",
    "With\n",
    "\n",
    "$$\n",
    "\\vec{H} = \\frac{1}{\\mu_0}\\vec{B} - \\vec{M}\n",
    "$$\n",
    "also known as the Magnetic Field, which you should know from physics of the earth 1. You might have seen it written instead as $\\vec{B} = \\mu_0 (\\vec{H} + \\vec{M})$"
   ]
  },
  {
   "cell_type": "markdown",
   "id": "aee2a0c6-2b9c-4f8a-a6e5-13bfc58e1650",
   "metadata": {},
   "source": [
    "## Maxwell's equations in matter\n",
    "Q? Do we need to modify Maxwell's 2nd or 3rd equation? NO!\n",
    "\n",
    "So together we have Maxwell's equations in terms of free charges and free currents (movement of free charges).\n",
    "\n",
    "| Equation |  Integral Form | Differential Form | Name|\n",
    "|---|---|---|---|\n",
    "| 1 |$$\\iint \\vec{D}\\cdot\\vec{\\partial A} = q_{free}$$| $$\\nabla \\cdot \\vec{D} = \\rho_f$$| Gauss's Law|\n",
    "| 2 |$$\\iint \\vec{B}\\cdot\\vec{\\partial A} = 0$$| $$\\nabla \\cdot \\vec{B} = 0$$| unnamed|\n",
    "| 3 |$$\\oint\\vec{E}\\cdot\\vec{\\partial l} = -\\iint \\frac{\\partial \\vec{B}}{\\partial t}\\cdot \\vec{\\partial A}$$| $$\\nabla \\times \\vec{E} = -\\frac{\\partial B}{\\partial t}$$| Faraday's Law|\n",
    "| 4 |$$\\oint \\vec{H}\\cdot\\vec{\\partial l} = I_f + \\iint \\frac{\\partial \\vec{D} }{\\partial t}\\cdot \\vec{\\partial A}$$| $$\\nabla \\times \\vec{H} = \\vec{J}_f + \\frac{\\partial \\vec{D}}{\\partial t}$$| Ampere's Law with Maxwell's correction|\n",
    "\n",
    "Now we have even more unknowns!\n",
    "\n",
    "Fear not, as we know finally have something we can attach physical properties to, We need to supplement these with things called consitutive relations, giving $\\vec{D}$ and $\\vec{H}$ in terms of $\\vec{E}$ and $\\vec{B}$. THey depend on the nature of the material:\n",
    "\n",
    "$$\\vec{P} = \\varepsilon_0 \\chi_e \\vec{E}$$\n",
    "$$\\vec{M} = \\chi_m \\vec{H}$$\n",
    "\n",
    "where $\\chi_e$ is the electric susceptibility, and $\\chi_m$ is the magnetic susceptibility.\n",
    "\n",
    "so we have:\n",
    "\n",
    "$$\\vec{D} = \\epsilon \\vec{E}$$\n",
    "$$\\vec{H} = \\frac{1}{\\mu}\\vec{B}$$\n",
    "where $\\epsilon=\\epsilon_0(1+\\chi_e)$ and $\\mu=\\mu_0(1+\\chi_m)$ are the material's electric permitivity and magnetic permeability."
   ]
  },
  {
   "cell_type": "markdown",
   "id": "62952b72-ae2f-4079-9d66-735d4f73d72a",
   "metadata": {},
   "source": [
    "### What about conductivity?\n",
    "\n",
    "Oh come now...Ohm's Law!\n",
    "\n",
    "$$\\vec{J}_f = \\sigma \\vec{E}$$\n"
   ]
  },
  {
   "cell_type": "markdown",
   "id": "bd547934-1910-4075-9956-a8e383892c48",
   "metadata": {},
   "source": [
    "## Maxwell's Equations in a linear homogeneous media\n",
    "\n",
    "In a linear medium, these equations further reduce to:\n",
    "\n",
    "\\begin{align}\n",
    "\\nabla \\cdot \\vec{E} &= \\frac{1}{\\varepsilon}\\rho_f\\\\\n",
    "\\nabla \\cdot \\vec{B} &= 0\\\\\n",
    "\\nabla \\times \\vec{E} &= -\\frac{\\partial \\vec{B}}{\\partial t}\\\\\n",
    "\\nabla \\times \\vec{B} &= \\mu \\sigma \\vec{E} + \\mu\\varepsilon \\frac{\\partial \\vec{E}}{\\partial t}\n",
    "\\end{align}\n"
   ]
  },
  {
   "cell_type": "markdown",
   "id": "3a3620c7-195c-45bf-84e9-c1c0499044f4",
   "metadata": {},
   "source": [
    "### Can we solve for $\\vec{E}$?\n",
    "Sure can! take the curl of (3):\n",
    "\n",
    "\\begin{align}\n",
    "\\nabla \\times \\vec{E} &= -\\frac{\\partial \\vec{B}}{\\partial t}\\\\\n",
    "\\nabla \\times \\nabla \\times \\vec{E} &= -\\frac{\\partial \\nabla \\times \\vec{B}}{\\partial t}\\\\\n",
    "\\nabla \\times \\nabla \\times \\vec{E} &= -\\frac{\\partial}{\\partial t}(\\mu \\sigma \\vec{E} + \\mu\\varepsilon \\frac{\\partial \\vec{E}}{\\partial t})\\\\\n",
    "-\\nabla \\times \\nabla \\times \\vec{E} &= \\frac{\\partial}{\\partial t}(\\mu \\sigma \\vec{E} + \\mu\\varepsilon \\frac{\\partial \\vec{E}}{\\partial t})\\\\\n",
    "-\\nabla \\times \\nabla \\times \\vec{E} &= \\mu \\sigma \\frac{\\partial \\vec{E}}{\\partial t}+ \\mu\\varepsilon \\frac{\\partial^2 \\vec{E}}{\\partial t^2}\\\\\n",
    "\\nabla^2 \\vec{E} - \\nabla(\\nabla \\cdot \\vec{E}) &= \\mu \\sigma \\frac{\\partial \\vec{E}}{\\partial t}+ \\mu\\varepsilon \\frac{\\partial^2 \\vec{E}}{\\partial t^2}\n",
    "\\end{align}"
   ]
  },
  {
   "cell_type": "markdown",
   "id": "eccd2a99-22b1-4017-84bc-f89436c87b1e",
   "metadata": {},
   "source": [
    "Let's look's closer at what's happening with that $\\nabla \\cdot \\vec{E}$ term.\n",
    "\n",
    "Consider the continuity equation for free charges:\n",
    "$$\\nabla \\cdot \\vec{J}_f = -\\frac{\\partial \\rho_f}{\\partial t}$$\n",
    "With Ohm's law (and remember we're in a homogeneous medium):\n",
    "$$\\nabla \\cdot \\sigma \\vec{E} = \\sigma \\nabla \\cdot \\vec{E} = -\\frac{\\partial \\rho_f}{\\partial t}$$\n",
    "Then with Gauss's law:\n",
    "$$\\sigma \\frac{\\rho_f}{\\varepsilon} = -\\frac{\\partial \\rho_f}{\\partial t}$$\n",
    "\n",
    "Gives $\\rho_f$ in terms of a ODE, (which we can solve):\n",
    "$$\\frac{\\partial \\rho_f}{\\partial t} = - \\frac{\\sigma}{\\varepsilon}\\rho_f$$\n",
    "From which it follows (Remember your differential equations course) that it has a solution of:\n",
    "\n",
    "$$\\rho_f(t) = e^{(-\\sigma/\\varepsilon) t} \\rho_f(0)$$\n",
    "\n",
    "Thus any initial free charge density disipates in a characteristic time $\\tau := \\varepsilon/\\sigma$. This describes charges flowing to the edge of conductors. The time constant is a measure of how good a conductor is. For a perfect conductor the time constant is 0, meaning charges instantly disperse to the edges. For a \"reasonable\" conductor, the time constants is much less than the times we generally care about. If it's a bad conductor, then the time constant is large.\n",
    "\n",
    "For now let's assume that $\\tau$ is very small (accordingly $\\sigma >> \\varepsilon$), allowing us to neglect $\\rho_f$. Basically think that this means we just wait for free charges to go away, so $\\nabla \\cdot \\vec{E} \\rightarrow 0$"
   ]
  },
  {
   "cell_type": "markdown",
   "id": "6dd2c159-944d-491b-9ac5-fc14eabf29ad",
   "metadata": {},
   "source": [
    "We can then wright an equation for only the Electric Field:\n",
    "\n",
    "$$\\nabla^2 \\vec{E} = \\mu \\sigma \\frac{\\partial \\vec{E}}{\\partial t}+ \\mu\\varepsilon \\frac{\\partial^2 \\vec{E}}{\\partial t^2}$$\n",
    "\n",
    "This equation has a form:\n",
    "$$u_{xx} - a u_x = \\frac{1}{v^2} u_t$$\n",
    "which is a damped wave equation."
   ]
  },
  {
   "cell_type": "markdown",
   "id": "76722b8f-c3a9-42f9-af73-8d83f2e0bc38",
   "metadata": {},
   "source": [
    "A similar derivation can be found to create an equation for the $\\vec{B}$ field:\n",
    "$$\\nabla^2 \\vec{B} = \\mu \\sigma \\frac{\\partial \\vec{B}}{\\partial t}+ \\mu\\varepsilon \\frac{\\partial^2 \\vec{B}}{\\partial t^2}$$"
   ]
  },
  {
   "cell_type": "markdown",
   "id": "b103b9fe-9fb2-442e-b8fb-c4d3b47eb6f6",
   "metadata": {},
   "source": [
    "These still admit plane wave (meaning they propogate in one direction, usually aligned with an axis) solutions of the form\n",
    "\n",
    "$$\\vec{E}(z, r) = \\vec{E}_0 e^{i(\\omega t - k z)}$$\n",
    "\n",
    "Except that now $\\vec{E}_0$ and $k$ are both **complex** (have both real and imaginary parts).\n",
    "$$k^2 = \\mu\\varepsilon\\omega^2 - i\\mu\\sigma\\omega$$"
   ]
  },
  {
   "cell_type": "code",
   "execution_count": 1,
   "id": "d3ed7247-a074-4f63-b9d5-ffb180e50ca0",
   "metadata": {},
   "outputs": [],
   "source": [
    "import sympy as sp"
   ]
  },
  {
   "cell_type": "code",
   "execution_count": 44,
   "id": "01a52214-3739-49da-8f76-8a037245db03",
   "metadata": {},
   "outputs": [],
   "source": [
    "mu, eps, sigma = sp.symbols('\\mu,\\epsilon,\\sigma', real=True, positive=True)\n",
    "om = sp.symbols('\\omega', real=True)"
   ]
  },
  {
   "cell_type": "code",
   "execution_count": 45,
   "id": "49359880-f6de-4cc9-a774-d96b238766ee",
   "metadata": {},
   "outputs": [],
   "source": [
    "ksq = mu * eps * om**2 + sp.I * mu * sigma * om"
   ]
  },
  {
   "cell_type": "code",
   "execution_count": 46,
   "id": "33925ac2-bb1d-4bde-ac31-f0e08c6ed959",
   "metadata": {},
   "outputs": [],
   "source": [
    "K = sp.Abs(ksq).simplify()"
   ]
  },
  {
   "cell_type": "code",
   "execution_count": 47,
   "id": "315b5df2-625b-4079-8b58-54629926541a",
   "metadata": {},
   "outputs": [
    {
     "data": {
      "text/latex": [
       "$\\displaystyle \\mu \\sqrt{\\epsilon^{2} \\omega^{2} + \\sigma^{2}} \\left|{\\omega}\\right|$"
      ],
      "text/plain": [
       "\\mu*sqrt(\\epsilon**2*\\omega**2 + \\sigma**2)*Abs(\\omega)"
      ]
     },
     "execution_count": 47,
     "metadata": {},
     "output_type": "execute_result"
    }
   ],
   "source": [
    "K.simplify()"
   ]
  },
  {
   "cell_type": "code",
   "execution_count": 48,
   "id": "5802cdf9-139d-4ebd-9730-b2a3eef22873",
   "metadata": {},
   "outputs": [],
   "source": [
    "phase = sp.arg(k)\n",
    "components = sp.exp(sp.I * phase)"
   ]
  },
  {
   "cell_type": "code",
   "execution_count": 49,
   "id": "dfdba621-05ae-4767-8eb9-c80b9409e4c9",
   "metadata": {},
   "outputs": [
    {
     "data": {
      "text/latex": [
       "$\\displaystyle \\frac{\\epsilon \\omega}{\\sigma}$"
      ],
      "text/plain": [
       "\\epsilon*\\omega/\\sigma"
      ]
     },
     "execution_count": 49,
     "metadata": {},
     "output_type": "execute_result"
    }
   ],
   "source": [
    "sp.re(k) / sp.im(k)"
   ]
  },
  {
   "cell_type": "code",
   "execution_count": 51,
   "id": "39467338-dea0-4364-a362-124fe2aca658",
   "metadata": {},
   "outputs": [
    {
     "data": {
      "text/latex": [
       "$\\displaystyle \\operatorname{atan}_{2}{\\left(\\epsilon \\mu \\omega^{2},\\mu \\omega \\sigma \\right)}$"
      ],
      "text/plain": [
       "atan2(\\epsilon*\\mu*\\omega**2, \\mu*\\omega*\\sigma)"
      ]
     },
     "execution_count": 51,
     "metadata": {},
     "output_type": "execute_result"
    }
   ],
   "source": [
    "sp.atan2(sp.re(k), sp.im(k)).simplify()"
   ]
  },
  {
   "cell_type": "code",
   "execution_count": 53,
   "id": "d19a7c1d-cc1d-4b2c-96e8-10a3eea9c4c9",
   "metadata": {},
   "outputs": [
    {
     "data": {
      "text/latex": [
       "$\\displaystyle \\sqrt{\\mu} \\sqrt{\\omega \\left(\\epsilon \\omega + i \\sigma\\right)}$"
      ],
      "text/plain": [
       "sqrt(\\mu)*sqrt(\\omega*(\\epsilon*\\omega + I*\\sigma))"
      ]
     },
     "execution_count": 53,
     "metadata": {},
     "output_type": "execute_result"
    }
   ],
   "source": [
    "sp.sqrt(ksq).simplify()"
   ]
  },
  {
   "cell_type": "code",
   "execution_count": null,
   "id": "22edb274-cd95-49b2-abc9-e55824418927",
   "metadata": {},
   "outputs": [],
   "source": []
  }
 ],
 "metadata": {
  "kernelspec": {
   "display_name": "Python 3 (ipykernel)",
   "language": "python",
   "name": "python3"
  },
  "language_info": {
   "codemirror_mode": {
    "name": "ipython",
    "version": 3
   },
   "file_extension": ".py",
   "mimetype": "text/x-python",
   "name": "python",
   "nbconvert_exporter": "python",
   "pygments_lexer": "ipython3",
   "version": "3.11.7"
  }
 },
 "nbformat": 4,
 "nbformat_minor": 5
}
