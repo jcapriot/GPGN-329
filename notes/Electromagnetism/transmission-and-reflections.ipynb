{
 "cells": [
  {
   "cell_type": "markdown",
   "id": "e0234239-6751-4746-9d55-198127f796dd",
   "metadata": {},
   "source": [
    "# Propogation of EM waves between materials"
   ]
  },
  {
   "cell_type": "markdown",
   "id": "a9e4b0f0-36d8-4bba-8efe-8dbb9d4c20e4",
   "metadata": {},
   "source": [
    "Assume we are inside a homogeneous medium with no free charges or currents, Maxwell's equations reduce to:\n",
    "\n",
    "\\begin{align}\n",
    "\\nabla \\cdot \\vec{E} &= 0\\\\\n",
    "\\nabla \\cdot \\vec{B} &= 0\\\\\n",
    "\\nabla \\times \\vec{E} &= -\\frac{\\partial \\vec{B}}{\\partial t}\\\\\n",
    "\\nabla \\times \\vec{B} &= \\mu \\varepsilon \\frac{\\partial \\vec{E}}{\\partial t}\n",
    "\\end{align}"
   ]
  },
  {
   "cell_type": "markdown",
   "id": "35e0a7ee-21eb-40aa-aa18-de49345c1568",
   "metadata": {},
   "source": [
    "which resemble the equations in a vaccuum, with the physical properties replacing the physical constants.\n",
    "\n",
    "Evidently waves would propogate with a velocity:\n",
    "$$v = \\frac{1}{\\sqrt{\\mu\\varepsilon}} = \\frac{c}{n}$$\n",
    "\n",
    "with $$n = \\sqrt{\\frac{\\mu\\varepsilon}{\\mu_0\\varepsilon_0}}$$ called the index of refraction of the material. Think of it as describing how much slower EM waves travel through the material compared to a vaccuum. Higher $\\mu$ and $\\varepsilon$ result in a slower material.\n",
    "\n",
    "For most materials where $\\mu \\approx \\mu_0$, this reduces to the dialectric constant $n \\approx \\sqrt{\\varepsilon_r}$"
   ]
  },
  {
   "cell_type": "markdown",
   "id": "6f0282ec-ef27-49b4-89d6-21c76141427b",
   "metadata": {},
   "source": [
    "We derived boundary conditions for this material:\n",
    "\n",
    "\\begin{align}\n",
    "&(\\mathrm{i}) &\\varepsilon_1\\vec{E}_1^\\perp - \\varepsilon_2\\vec{E}_{2}^\\perp &= 0\\\\\n",
    "&(\\mathrm{ii})& \\vec{B}_{1}^\\perp - \\vec{B}_{2}^\\perp&=0\\\\\n",
    "&(\\mathrm{iii})& \\vec{E}_{1}^{||} -\\vec{E}_{2}^{||} &=0 \\\\\n",
    "&(\\mathrm{iv})& \\frac{1}{\\mu_1}\\vec{B}_{1}^{||} - \\frac{1}{\\mu_2}\\vec{B}_{2}^{||} &= 0\n",
    "\\end{align}"
   ]
  },
  {
   "cell_type": "markdown",
   "id": "387d4e39-3117-4d3e-b8f8-a7c8f4eb972c",
   "metadata": {},
   "source": [
    "## Wave at normal incidence\n",
    "\n",
    "Suppose we have a boundary aligned with the xy-plane (z=0) seperating two materials ($1$ and $2$), a monochromatic (single frequency) plane wave traveling vertically downward perpendicular to that plane (so the $-\\hat{z}$ direction) through material $1$, polarized in the $\\vec{x}$ direction:\n",
    "\n",
    "$$\\vec{E} = E_0 e^{i(\\omega t + k z)}\\hat{x}$$\n",
    "\n",
    "It's corresponding $\\vec{B}$ field would be:\n",
    "\n",
    "$$\\vec{B} = \\frac{k}{\\omega}E_0 e^{i(\\omega t + k z)}=\\frac{1}{v_1} E_0 e^{i(\\omega t + k z)}\\hat{y}$$ "
   ]
  },
  {
   "cell_type": "markdown",
   "id": "e0386efb-7839-4921-b3b6-2cbc75f65f94",
   "metadata": {},
   "source": [
    "There will be a reflected wave back into material 1:\n",
    "\n",
    "\\begin{align}\n",
    "\\vec{E}_R &= E_{0,R} e^{i(\\omega t - k z)}\\hat{x}\\\\\n",
    "\\vec{B}_R &= -\\frac{1}{v_1} E_{0,R} e^{i(\\omega t - k z)}\\hat{y}\n",
    "\\end{align}\n",
    "\n",
    "which travels upward $(-k)$, and a transmitted wave that travels into the next medium:\n",
    "\n",
    "\\begin{align}\n",
    "\\vec{E}_T &= E_{0,T} e^{i(\\omega t + k z)}\\hat{x}\\\\\n",
    "\\vec{B}_T &= \\frac{1}{v_2} E_{0,T} e^{i(\\omega t + k z)}\\hat{y}\n",
    "\\end{align}"
   ]
  },
  {
   "cell_type": "markdown",
   "id": "1b669393-6ab1-4b7f-8dd2-8fa67f7569de",
   "metadata": {},
   "source": [
    "We have on the top of the boundary:\n",
    "$$\\vec{E}_{1} = \\vec{E} + \\vec{E}_R$$\n",
    "$$\\vec{B}_1 = \\vec{B} + \\vec{B}_R$$\n",
    "\n",
    "On the bottom there is only the transmitted wave:\n",
    "$$\\vec{E}_2 = \\vec{E}_T$$\n",
    "$$\\vec{B}_2 = \\vec{B}_T$$\n",
    "\n",
    "Let's apply the boundary conditions between the two medium (where $z=0$), and see what that implies about the reflected and transmitted waves."
   ]
  },
  {
   "cell_type": "markdown",
   "id": "122d6ea4-6120-4350-aa7d-504cc736aeeb",
   "metadata": {},
   "source": [
    "First of all this wave has no component perpendicular to the boundaries, so (i) and (ii) are trivially satisfied, but what to (iii) and (iv) imply?\n",
    "\n",
    "Starting with (iii):\n",
    "\n",
    "$$E_0 + E_{0, R} = E_{0, T}$$\n",
    "\n",
    "Meanwhile (iv) states:\n",
    "\\begin{align}\n",
    "\\frac{1}{\\mu_1}(B_0 + B_{0,R})&=\\frac{1}{\\mu_2}B_T\\\\\n",
    "\\frac{1}{\\mu_1}\\frac{1}{v_1}(E_0 - E_{0,R})&=\\frac{1}{\\mu_2}\\frac{1}{v_2}E_{0, T}\\\\\n",
    "\\frac{\\sqrt{\\mu_1\\varepsilon_1}}{\\mu_1}(E_0 - E_{0,R})&=\\frac{\\sqrt{\\mu_2\\varepsilon_2}}{\\mu_2}E_{0, T}\\\\\n",
    "\\sqrt{\\frac{\\varepsilon_1}{\\mu_1}}(E_0 - E_{0,R})&=\\sqrt{\\frac{\\varepsilon_2}{\\mu_2}}E_{0, T}\\\\\n",
    "E_0 - E_{0,R} &= \\sqrt{\\frac{\\mu_1\\varepsilon_2}{\\mu_2\\varepsilon_1}} E_{0, T}\\\\\n",
    "E_0 - E_{0,R} &= \\beta E_{0, T}\n",
    "\\end{align}"
   ]
  },
  {
   "cell_type": "markdown",
   "id": "c195e30c-3c23-49dd-bd22-8b891608f7c6",
   "metadata": {},
   "source": [
    "There are many ways we can express this $\\beta$ term, all of them being equivalent,\n",
    "\n",
    "$$\\beta=\\sqrt{\\frac{\\mu_1\\varepsilon_2}{\\varepsilon_1\\mu_2}} = \\frac{\\eta_1}{\\eta_2}= \\frac{\\mu_1v_1}{\\mu_2v_2} = \\frac{\\mu_1 n_2}{\\mu_2 n_1}$$\n",
    "\n",
    "\n",
    "Here I've introduced a new symbol:\n",
    "$$\\eta = \\sqrt{\\frac{\\mu}{\\varepsilon}}$$\n",
    "This is called the characteristic electrical impedance of the material, and it has units of $\\Omega$.\n",
    "\n",
    "$$\n",
    "v = \\frac{1}{\\sqrt{\\mu\\varepsilon}} = \\sqrt{\\frac{\\mu}{\\varepsilon}}\\frac{1}{\\mu} = \\frac{\\eta}{\\mu} = \\sqrt{\\frac{\\varepsilon}{\\mu}}\\frac{1}{\\varepsilon} = \\frac{1}{\\eta \\varepsilon}\n",
    "$$\n",
    "\n",
    "\n",
    "$$\\eta = \\sqrt{\\frac{\\mu}{\\varepsilon}} = v \\mu = \\frac{1}{v\\varepsilon}$$"
   ]
  },
  {
   "cell_type": "markdown",
   "id": "abb07d8e-b915-4267-a681-5baf1f315a4f",
   "metadata": {},
   "source": [
    "We have two equations with three unknowns here, we can at least solve to get the reflected and transmitted amplitudes in terms of the incident amplitude, basically insert our first boundary condition result and into the second\n",
    "\n",
    "\\begin{align}\n",
    "E_0 - E_{0,R} &= \\beta E_{0, T}\\\\\n",
    "E_0 - E_{0,R} &= \\beta (E_0 + E_{0, R})\\\\\n",
    "E_{0,R} + \\beta E_{0, R} &= E_0 - \\beta E_0\\\\\n",
    "(1+\\beta) E_{0,R} &= (1-\\beta)E_0\\\\\n",
    "E_{0,R} = \\frac{1-\\beta}{1+\\beta}E_0\n",
    "\\end{align}\n",
    "\n",
    "\\begin{align}\n",
    "E_{0, T} = E_0 + E_{0, R}\\\\\n",
    "E_{0, T} = E_0 + \\frac{1-\\beta}{1+\\beta}E_0\\\\\n",
    "E_{0, T} = \\frac{1+\\beta}{1+\\beta}E_0 + \\frac{1-\\beta}{1+\\beta}E_0\\\\\n",
    "E_{0, T} = \\frac{1+\\beta + 1-\\beta}{1+\\beta}E_0\\\\\n",
    "E_{0, T} = \\frac{2}{1+\\beta}E_0\n",
    "\\end{align}"
   ]
  },
  {
   "cell_type": "markdown",
   "id": "fabb844a-54be-4e6b-9d7e-f0e61ebf7afd",
   "metadata": {},
   "source": [
    "In terms of the characteristic electrical impedance:\n",
    "\\begin{align}\n",
    "E_{0,R} = \\frac{\\eta_2 - \\eta_1}{\\eta_2 + \\eta_1} E_0\\\\\n",
    "E_{0,T} = \\frac{2 \\eta_2}{\\eta_2 + \\eta_1} E_0\n",
    "\\end{align}\n",
    "\n",
    "or\n",
    "\n",
    "\\begin{align}\n",
    "E_{0,R} = R E_0\\\\\n",
    "E_{0,T} = T E_0\n",
    "\\end{align}\n",
    "\n",
    "where $R$ and $T$ are the reflection and transmission coefficients."
   ]
  },
  {
   "cell_type": "markdown",
   "id": "3e658f01-fdf5-4f07-8e54-f7b84f202cd2",
   "metadata": {},
   "source": [
    "If $\\mu \\approx \\mu_0$, which is true for most material then:\n",
    "$$\\beta = \\frac{v_1}{v_2}$$\n",
    "\n",
    "And we get:\n",
    "\n",
    "\\begin{align}\n",
    "E_{0,R} = \\frac{v_2 - v_1}{v_2 + v_1} E_0\\\\\n",
    "E_{0,T} = \\frac{2 v_2}{v_2 + v_1} E_0\n",
    "\\end{align}\n",
    "\n",
    "So if $v_2 < v_1$ the reflected wave is polarized in the same direction as the incident wave (we can also say they will be in-phase). If $v_2 > v_1$, it is reflected back polarized in the opposite direction (the two waves will be out of phase with each other).\n",
    "\n",
    "How does the phase of the transmitted wave compare to the incident wave?"
   ]
  },
  {
   "cell_type": "markdown",
   "id": "d4b2e34e-6bcd-4f60-ba2c-c13e7ed34d78",
   "metadata": {},
   "source": [
    "Q: What about the total energy?\n",
    "\n",
    "The energy of an EM wave is related to it's intensity:\n",
    "$$I = \\frac{1}{2}\\varepsilon v E_0^2 = \\frac{\\varepsilon^2}{2\\eta} E_0^2$$\n",
    "\n",
    "What are the ratios of the reflected wave to the incident wave?\n",
    "$$\\frac{I_R}{I} = (\\frac{E_{0,R}}{E_0})^2 = R^2 = (\\frac{\\eta_2 - \\eta_1}{\\eta_1 +\\eta_2})^2$$\n",
    "\n",
    "$$ \\frac{I_T}{I} = \\frac{\\eta_1}{\\eta_2}(\\frac{E_{0,T}}{E_0})^2= \\frac{\\eta_1}{\\eta_2} T^2 = \\frac{\\eta_1}{\\eta_2}(\\frac{2\\eta_2}{\\eta_1 +\\eta_2})^2 = \\frac{4\\eta_1\\eta_2}{(\\eta_1 +\\eta_2)^2}$$"
   ]
  },
  {
   "cell_type": "markdown",
   "id": "c249fcbf-4c99-4152-9c8f-dbfb0f8cf4ae",
   "metadata": {},
   "source": [
    "Verify that $I_R + I_T=I$\n",
    "\n",
    "\\begin{align}\n",
    "(\\frac{\\eta_2 - \\eta_1}{\\eta_1 +\\eta_2})^2 + \\frac{4\\eta_1\\eta_2}{(\\eta_1 +\\eta_2)^2} &=\\\\\n",
    "\\frac{(\\eta_2 - \\eta_1)^2 + 4\\eta_1\\eta_2}{(\\eta_1 +\\eta_2)^2} &=\\\\\n",
    "\\frac{\\eta_2^2 - 2\\eta_1\\eta_2 + \\eta_1^2 + 4\\eta_1\\eta_2}{(\\eta_1 +\\eta_2)^2} &=\\\\\n",
    "\\frac{\\eta_2^2 + 2\\eta_1\\eta_2 + \\eta_1^2 }{(\\eta_1 +\\eta_2)^2} &=\\\\\n",
    "\\frac{(\\eta_1 +\\eta_2)^2}{(\\eta_1 +\\eta_2)^2} &=\\\\\n",
    "&= 1\n",
    "\\end{align}"
   ]
  },
  {
   "cell_type": "markdown",
   "id": "b5fcca6c-06ce-4f2e-a478-3abe01c9b973",
   "metadata": {},
   "source": [
    "## At an oblique incidence?\n",
    "\n",
    "The above is really just a special case of our next example:\n",
    "\n",
    "Consider this time a wave approaching the interface:\n",
    "\\begin{align}\n",
    "\\vec{E}_I &= \\vec{E}_{0,I} e^{i(\\omega t - \\vec{k}_I\\cdot \\vec{r})}\\\\\n",
    "\\vec{B}_I = \\frac{1}{\\omega} (\\vec{k}_I \\times \\vec{E}) &=\\frac{1}{v_1}(\\hat{k}_I \\times \\vec{E}_I)\n",
    "\\end{align}\n",
    "\n",
    "It has a reflected wave:\n",
    "\\begin{align}\n",
    "\\vec{E}_R &= \\vec{E}_{0,R} e^{i(\\omega t - \\vec{k}_R\\cdot \\vec{r})}\\\\\n",
    "\\vec{B}_R &=\\frac{1}{v_1}(\\hat{k}_R \\times \\vec{E}_R)\n",
    "\\end{align}\n",
    "\n",
    "and a transmited wave:\n",
    "\\begin{align}\n",
    "\\vec{E}_T &= \\vec{E}_{0,T} e^{i(\\omega t - \\vec{k}_T\\cdot \\vec{r})}\\\\\n",
    "\\vec{B}_T &=\\frac{1}{v_2}(\\hat{k}_T \\times \\vec{E}_T)\n",
    "\\end{align}\n",
    "\n",
    "All three waves have the same frequency $\\omega$ determined by whatever made the wave in the first place.\n",
    "\n",
    "thus in terms of the magnitudes of $|\\vec{k}| = k$\n",
    "\n",
    "$$k_I v_1 = k_R v_1 = k_T v_2$$\n",
    "\n",
    "which means $k_I = k_R = \\frac{v_2}{v_1}k_T$,"
   ]
  },
  {
   "cell_type": "markdown",
   "id": "57fbb357-2935-4231-92e7-25ae9002d205",
   "metadata": {},
   "source": [
    "The combined fields in medium 1 and the transmitted field in medium 2 must match up according to the boundary conditions!\n",
    "\n",
    "All the boundary conditions we apply will share some form of:\n",
    "\n",
    "$$\n",
    "(\\#)e^{i(\\omega t - \\vec{k}_I\\cdot \\vec{r})} + (\\#)e^{i(\\omega t - \\vec{k}_R\\cdot\\vec{r})} = (\\#)e^{i(\\omega t - \\vec{k}_T\\cdot\\vec{r})}, \\hspace{10pt} \\text{at } z=0\n",
    "$$\n",
    "\n",
    "Now these must equations must all be satisfied **for every location along the boundary**.\n",
    "The time portions of the exponentials are already equal to each other, thus the spatial components must also be equal to each other:\n",
    "\n",
    "$$\n",
    "\\vec{k}_I\\cdot \\vec{r} = \\vec{k}_R\\cdot\\vec{r} = \\vec{k}_T\\cdot\\vec{r}\\hspace{10pt} \\text{at } z=0\n",
    "$$\n",
    "\n",
    "or\n",
    "$$\n",
    "k_{I,x} x + k_{I,y}y = k_{R,x} x + k_{R,y}y = k_{T,x} x + k_{T,y}y \\hspace{10pt} \\forall x, y\n",
    "$$\n",
    "\n",
    "Well this can only be true for all $x$ and $y$ if the components themselves are individually equal, consider $x=0$:\n",
    "$$\n",
    "k_{I,y} = k_{R,y} = k_{T,y}\n",
    "$$\n",
    "and for $y=0$:\n",
    "$$\n",
    "k_{I,x} = k_{R,x} = k_{T,x}\n",
    "$$\n",
    "\n",
    "We can easily orient our incident angle to be defined on the $xz$-plane, and set $k_{I, y}=0$, which would then imply that $k_{R,y}=k_{T,y}=0$\n",
    "\n",
    "This forms the first \"Law\":\n",
    "\n",
    "**Conclusion 1** The incident, reflected, and transmitted vector directions form a plane, which also includes the normal to the surface."
   ]
  },
  {
   "cell_type": "markdown",
   "id": "8c32c387-7e78-4a4e-b3c5-ee0026c21672",
   "metadata": {},
   "source": [
    "Let's go back and look at the relationships of the the x components of $\\vec{k}$\n",
    "\\begin{align}\n",
    "k_{I,x} = k_{R,x} = k_{T,x}\\\\\n",
    "k_I \\sin\\theta_I = k_r \\sin\\theta_R = k_T \\sin\\theta_T\n",
    "\\end{align}\n",
    "because $k_I = k_R$ as we showed above, this implies that:\n",
    "\n",
    "\\begin{align}\n",
    "\\cancel{k_I}\\sin\\theta_I &= \\cancelto{k_I}{K_R}\\sin\\theta_R\\\\\n",
    "\\sin\\theta_I &= \\sin\\theta_R\\\\\n",
    "\\theta_I &= \\theta_R\n",
    "\\end{align}\n",
    "\n",
    "**Conclusion 2** The incidence angle is equal to the reflected angle."
   ]
  },
  {
   "cell_type": "markdown",
   "id": "865a5d7c-7b92-4da3-9936-eff8bb23c504",
   "metadata": {},
   "source": [
    "The transmitted angle:\n",
    "\n",
    "\\begin{align}\n",
    "k_I \\sin\\theta_I &= k_T \\sin\\theta_T\\\\\n",
    "\\frac{v_2}{v_1}\\cancel{k_T} \\sin\\theta_I &= \\cancel{k_T} \\sin\\theta_T\\\\\n",
    "\\frac{v_2}{v_1}\\sin\\theta_I &= \\sin\\theta_T\\\\\n",
    "\\frac{\\sin\\theta_I}{\\sin\\theta_T} &= \\frac{v_1}{v_2}\n",
    "\\end{align}\n",
    "\n",
    "Which is Snell's law!\n",
    "\n",
    "**Conclusion 3**\n",
    "\\begin{align}\n",
    "\\frac{\\sin\\theta_I}{\\sin\\theta_T} &= \\frac{v_1}{v_2}\\\\\n",
    "v_2\\sin\\theta_I &= v_1\\sin\\theta_T\n",
    "\\end{align}"
   ]
  },
  {
   "cell_type": "markdown",
   "id": "a7a53437-f1f9-4bf6-87d9-afb15aec5410",
   "metadata": {},
   "source": [
    "It's kind amazing that these were defined without any sort of explicit boundary conditions, they're mostly just a logical conclusion to the general boundary condition! They actually hold for any wave!"
   ]
  },
  {
   "cell_type": "markdown",
   "id": "e32b56e3-627d-46a7-9fd2-b35f47c5ac7e",
   "metadata": {},
   "source": [
    "### What about the amplitudes of the reflected and transmitted waves?"
   ]
  },
  {
   "cell_type": "markdown",
   "id": "b1224294-2786-4fd3-b18e-6a61d078c301",
   "metadata": {},
   "source": [
    "Now we get to use more of the explicit boundary conditions:\n",
    "For this example, the z-component is perpendicular to the interface, and x and y, are parallel.\n",
    "\n",
    "so:\n",
    "\n",
    "\\begin{align}\n",
    "&(\\mathrm{i}) &\\varepsilon_1(E_{0,I,z} + E_{0,R, z}) &= \\varepsilon_2E_{T,z}\\\\\n",
    "&(\\mathrm{ii})& B_{0,I,z} + B_{0,R, z} &= B_{0,T,z}\\\\\n",
    "&(\\mathrm{iii})& E_{0,I, x,y} + E_{0,R, x,y} &= E_{0,T, x,y}\\\\\n",
    "&(\\mathrm{iv})& \\frac{1}{\\mu_1}(B_{0,I, x,y} + B_{0,R, x,y}) &= \\frac{1}{\\mu_2}B_{0,T, x,y}\n",
    "\\end{align}"
   ]
  },
  {
   "cell_type": "markdown",
   "id": "93e98d36-bbcb-41ec-9c0c-02881595d791",
   "metadata": {},
   "source": [
    "As we saw above, the general form for $\\vec{B}_0 = \\frac{1}{v} \\hat{k} \\times \\vec{E}_0$\n",
    "\n",
    "Equations (iii) and (iv) both represent pairs of equations (1 for x and 1 for y)"
   ]
  },
  {
   "cell_type": "markdown",
   "id": "ffb4ec72-4437-4c52-8226-b5fee8478059",
   "metadata": {},
   "source": [
    "Assume: $\\vec{E_0}$ is in the plane of incidence (not to be confused with the plane of the boundary).\n",
    "\n",
    "i.e. if the incidence plane is the x-z plane, $\\vec{E}$ has only x and z components (no y). Then (i) converts to:\n",
    "\n",
    "\\begin{align}\n",
    "\\varepsilon_1(-E_{0,I}\\sin\\theta_I + E_{0,R}\\sin\\theta_R) &= -\\varepsilon_2E_{T,0}\\sin\\theta_T\\\\\n",
    "\\varepsilon_1(-E_{0,I}\\sin\\theta_I + E_{0,R}\\sin\\theta_I) &= -\\varepsilon_2E_{T,0}\\sin\\theta_T\\\\\n",
    "\\varepsilon_1\\sin\\theta_I(-E_{0,I} + E_{0,R}) &= -\\varepsilon_2E_{T,0}\\sin\\theta_T\\\\\n",
    "\\varepsilon_1\\frac{sin\\theta_I}{\\sin\\theta_T}(-E_{0,I} + E_{0,R}) &= -\\varepsilon_2E_{T,0}\\\\\n",
    "\\varepsilon_1\\frac{v_1}{v_2}(-E_{0,I} + E_{0,R}) &= -\\varepsilon_2E_{T,0}\\\\\n",
    "\\frac{v_1\\varepsilon_1}{v_2\\varepsilon_2}(-E_{0,I} + E_{0,R}) &= -E_{T,0}\\\\\n",
    "\\frac{v_1\\varepsilon_1}{v_2\\varepsilon_2}(E_{0,I} - E_{0,R}) &= E_{T,0}\\\\\n",
    "\\frac{\\eta_1}{\\eta_2}(E_{0,I} - E_{0,R}) &= E_{T,0}\\\\\n",
    "E_{0,I} - E_{0,R} &= \\frac{\\eta_2}{\\eta_1}E_{T,0}\\\\\n",
    "E_{0,I} - E_{0,R} &= \\beta E_{T,0}\n",
    "\\end{align}\n",
    "\n",
    "where $\\beta$ is the same as before"
   ]
  },
  {
   "cell_type": "markdown",
   "id": "4071ed71-6fa1-457f-b30c-a9d8b30578b7",
   "metadata": {},
   "source": [
    "(ii) gives us nothing... You should be able to reason out that the $\\vec{B}|| \\hat{y}$ for this $\\vec{E}$ field"
   ]
  },
  {
   "cell_type": "markdown",
   "id": "73955caa-6bd0-4918-ab40-009399022591",
   "metadata": {},
   "source": [
    "(iii) gives:\n",
    "\\begin{align}\n",
    "E_{0,I}\\cos\\theta_I + E_{0,R}\\cos\\theta_R &= E_{T,0}\\cos\\theta_T\\\\\n",
    "E_{0,I}\\cos\\theta_I + E_{0,R}\\cos\\theta_I &= E_{T,0}\\cos\\theta_T\\\\\n",
    "(E_{0,I} + E_{0,R})\\cos\\theta_I &= E_{T,0}\\cos\\theta_T\\\\\n",
    "E_{0,I} + E_{0,R} &= \\frac{\\cos\\theta_T}{\\cos\\theta_I} E_{T,0}\\\\\n",
    "E_{0,I} + E_{0,R} &= \\alpha E_{T,0}\n",
    "\\end{align}\n",
    "\n",
    "where $$\\alpha = \\frac{\\cos\\theta_T}{\\cos\\theta_I}$$"
   ]
  },
  {
   "cell_type": "markdown",
   "id": "0d2a5f9f-50c3-4dad-b095-722206690497",
   "metadata": {},
   "source": [
    "(iv) gives:\n",
    "\n",
    "\\begin{align}\n",
    "\\frac{1}{\\mu_1}(B_{0,I, y} + B_{0,R, y}) &= \\frac{1}{\\mu_2}B_{0,T, y}\\\\\n",
    "\\end{align}\n",
    "\n",
    "what is $B_{0, I, y}$?\n",
    "$$\\vec{B}_0 = \\frac{1}{v} \\hat{k} \\times \\vec{E_0}$$\n",
    "$$\\vec{B}_0 = \\frac{1}{v} k_{x,z} \\times E_{0,x,z}$$\n",
    "$$\\vec{B}_0 = \\frac{1}{v} E_{0} (\\hat{k}\\times \\hat{E}_0)$$\n",
    "$$\\vec{B}_0 = \\pm\\frac{1}{v} E_{0}\\hat{y}$$\n",
    "where the positive or negative sign is determined by the relative directions of $\\vec{k}$ and $\\vec{E}_0$\n",
    "Essentially the Incident and Transmitted wave will have the same sign, and the Reflected wave will have the opposite sign.\n",
    "\n",
    "back to the derivation...\n",
    "\\begin{align}\n",
    "\\frac{1}{v_1\\mu_1}(E_{0,I} - E_{0,R}) &= \\frac{1}{v_2\\mu_2}E_{0,T}\\\\\n",
    "\\frac{1}{v_1\\mu_1}(E_{0,I} - E_{0,R}) &= \\frac{1}{v_2\\mu_2}E_{0,T}\\\\\n",
    "E_{0,I} - E_{0,R} &= \\frac{v_1\\mu_1}{v_2\\mu_2}E_{0,T}\\\\\n",
    "E_{0,I} - E_{0,R} &= \\frac{\\eta_2}{\\eta_1}E_{0,T}\\\\\n",
    "E_{0,I} - E_{0,R} &= \\beta E_{0,T}\n",
    "\\end{align}\n",
    "\n",
    "Which is actually just the same equation we got from starting with (i)!"
   ]
  },
  {
   "cell_type": "markdown",
   "id": "9f84d057-ddc4-42b8-ae12-c27eaf5171ff",
   "metadata": {},
   "source": [
    "We can go the same route of solving for $E_R$ and $E_T$ as a function of $E_0$, and really it just goes to:\n",
    "\n",
    "\\begin{align}\n",
    "E_{0,R} &= \\frac{\\alpha-\\beta}{\\alpha+\\beta}E_0\\\\\n",
    "E_{0, T} &= \\frac{2}{\\alpha+\\beta}E_0\n",
    "\\end{align}\n",
    "\n",
    "Which are known as **Fresnel's Equations** for the polarization parallel to the plane of incidence (often called *p* polarization) .\n",
    "There are another set for when the polarization is perpendicular to the incident plane."
   ]
  },
  {
   "cell_type": "markdown",
   "id": "3b1d7a61-1ef0-4113-92cc-03a5b7c1498e",
   "metadata": {},
   "source": [
    "$\\alpha$ could also be written as a function of $\\theta_I$ and the material properties:\n",
    "\n",
    "\\begin{align}\n",
    "\\alpha &= \\frac{\\cos\\theta_T}{\\cos\\theta_I}\\\\\n",
    "\\alpha &= \\frac{\\sqrt{1 - \\sin\\theta_T^2}}{\\cos\\theta_I}\\\\\n",
    "\\alpha &= \\frac{\\sqrt{1 - (\\frac{v_2}{v_1}\\sin\\theta_I)^2}}{\\cos\\theta_I}\n",
    "\\end{align}\n",
    "\n",
    "which is not really a clean form of it, but it goes to show how it changes as a function, for example if $\\theta_I=0$ (normal incidence like we started with), $\\alpha = 1$. As $\\theta\\rightarrow\\pi/2$, $\\alpha\\rightarrow\\infty$ and the wave is completely reflected (no transmission).\n",
    "\n",
    "Think about this when you are driving at night looking at a wet road!"
   ]
  },
  {
   "cell_type": "markdown",
   "id": "9e365dde-1a76-4b10-b38a-d78a1660e393",
   "metadata": {},
   "source": [
    "Incidentally, there is also an angle for which there is NO reflection!\n",
    "\n",
    "If $\\alpha = \\beta$ then $R=0$. This angle is called **Brewster's Angle**\n"
   ]
  },
  {
   "cell_type": "code",
   "execution_count": 7,
   "id": "36a419de-ae10-4ff4-9177-30c30ac0a135",
   "metadata": {},
   "outputs": [],
   "source": [
    "def alpha(theta, v2, v1):\n",
    "    top = np.sqrt(1 - (v2/v1 * np.sin(theta))**2)\n",
    "    return top/np.cos(theta)"
   ]
  },
  {
   "cell_type": "code",
   "execution_count": 20,
   "id": "ebf50e27-9f3d-423e-94c7-184320f24536",
   "metadata": {},
   "outputs": [
    {
     "data": {
      "text/plain": [
       "9027432216005908.0"
      ]
     },
     "execution_count": 20,
     "metadata": {},
     "output_type": "execute_result"
    }
   ],
   "source": [
    "alpha(np.pi/2, 1000, 1200)"
   ]
  },
  {
   "cell_type": "code",
   "execution_count": null,
   "id": "78e3681b-e341-4081-b3a6-6c1e8ea25931",
   "metadata": {},
   "outputs": [],
   "source": []
  }
 ],
 "metadata": {
  "kernelspec": {
   "display_name": "Python 3 (ipykernel)",
   "language": "python",
   "name": "python3"
  },
  "language_info": {
   "codemirror_mode": {
    "name": "ipython",
    "version": 3
   },
   "file_extension": ".py",
   "mimetype": "text/x-python",
   "name": "python",
   "nbconvert_exporter": "python",
   "pygments_lexer": "ipython3",
   "version": "3.11.7"
  }
 },
 "nbformat": 4,
 "nbformat_minor": 5
}
