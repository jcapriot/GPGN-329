{
 "cells": [
  {
   "cell_type": "markdown",
   "id": "6660019b-70a3-4220-830e-c1e6d033180e",
   "metadata": {},
   "source": [
    "# Boundary Conditions!\n",
    "\n",
    "What use is a PDE without boundary conditions?"
   ]
  },
  {
   "cell_type": "markdown",
   "id": "5cb9953e-5d64-4b73-a33b-22d22a9b700f",
   "metadata": {},
   "source": [
    "In general, $\\vec{E}$, $\\vec{B}$ $\\vec{D}$, and $\\vec{H}$ will all be discontinuous at boundaries between two materials or at a surface that carries charges (and currents). We can use the integral forms of Maxwell's equations to determine what these discontinuities are."
   ]
  },
  {
   "cell_type": "markdown",
   "id": "58d00207-e497-4194-a6ec-30fec679b628",
   "metadata": {},
   "source": [
    "\\begin{align}\n",
    "&(\\mathrm{i}) &\\iint \\vec{D}\\cdot\\vec{\\partial A} &= q_{f, enclosed}\\\\\n",
    "&(\\mathrm{ii})& \\iint \\vec{B}\\cdot\\vec{\\partial A} &= 0 \\\\\n",
    "&(\\mathrm{iii})& \\oint\\vec{E}\\cdot\\vec{\\partial l} &= -\\iint \\frac{\\partial \\vec{B}}{\\partial t}\\cdot \\vec{\\partial A} \\\\\n",
    "&(\\mathrm{iv})& \\oint \\vec{H}\\cdot\\vec{\\partial l} &= I_f + \\iint \\frac{\\partial \\vec{D} }{\\partial t}\\cdot \\vec{\\partial A}\n",
    "\\end{align}"
   ]
  },
  {
   "cell_type": "markdown",
   "id": "ad3086c4-29de-4ea3-a4ee-f90816c7cd45",
   "metadata": {},
   "source": [
    "(i) and (ii) apply over any closed surface (S) (which bounds a volume). (iii) and (iv) apply for any surface $S$ bounded by a closed loop $P$."
   ]
  },
  {
   "cell_type": "markdown",
   "id": "ed2ba5a5-faad-4297-ada2-52cab20d63b3",
   "metadata": {},
   "source": [
    "Let's draw some small little boxes around the interface between two materials:\n",
    "\n",
    "Starting with (i): $\\vec{D}$ will point directly normal to the surface (consider the electric field due to an infinite plane). That means the dot product of $\\vec{D}$ with the normal to the sides of the pill box will be 0. All's that's left is the top and bottom. We have that\n",
    "\n",
    "\\begin{align}\n",
    "\\iint \\vec{D}\\cdot\\vec{\\partial A} &= q_{f, enclosed}\\\\\n",
    "\\cancelto{0}{\\iint_{sides} \\vec{D}\\cdot\\vec{\\partial A}}+ \\iint_{top} \\vec{D}\\cdot\\vec{\\partial A} + \\iint_{bot} \\vec{D}\\cdot\\vec{\\partial A} &= q_{f, enclosed}\\\\\n",
    "\\iint_{top} \\vec{D}_{above}\\cdot\\vec{\\partial A} + \\iint_{bot} \\vec{D}_{below}\\cdot\\vec{\\partial A} &= \\iint_{surface} \\rho_{f} \\partial A\n",
    "\\end{align}\n",
    "\n",
    "Since we have a small pillbox, we can assume the $\\vec{D}$ is a constant (but different on each side), thus:\n",
    "\n",
    "\\begin{align}\n",
    "\\vec{D}_{above}\\cdot\\hat{n}A - \\vec{D}_{below}\\hat{n}A &= \\rho_f A\\\\\n",
    "\\vec{D}_{above}\\cdot\\hat{n} - \\vec{D}_{below}\\cdot\\hat{n} &= \\rho_f\n",
    "\\end{align}\n",
    "\n",
    "often written as:\n",
    "\n",
    "$$\n",
    "\\vec{D}_{above}^\\perp - \\vec{D}_{below}^\\perp = \\rho_f\n",
    "$$\n",
    "\n",
    "This means that the normal component of the $\\vec{D}$-field is **discontinuous** across boundaries, with their difference equal to the free charges on the boundary."
   ]
  },
  {
   "cell_type": "markdown",
   "id": "975c812c-8000-4e9c-84d4-91a117d5dfc6",
   "metadata": {},
   "source": [
    "Identically we can derive a relation for the $\\vec{B}$-field on either side of the boundary:\n",
    "$$\\vec{B}_{above}\\cdot \\vec{n} - \\vec{B}_{below}\\cdot\\hat{n}=0$$\n",
    "or\n",
    "$$\\vec{B}_{above}\\cdot \\vec{n} = \\vec{B}_{below}\\cdot\\hat{n}$$\n",
    "\n",
    "often written as:\n",
    "$$\\vec{B}_{above}^\\perp = \\vec{B}_{below}^\\perp$$\n",
    "meaning, the normal component of the $\\vec{B}$ field is **continuous** across boundaries."
   ]
  },
  {
   "cell_type": "markdown",
   "id": "24281f2e-5627-4709-8b9c-f825e40edbca",
   "metadata": {},
   "source": [
    "Next let's consider instead a small rectangular current loop on each side of the bundary. This surface enclosed by this current loop is perpendicular to the boundary, with the sides parallel to the boundaries normal, and the top and bottom parallel to the boundary.\n",
    "\n",
    "Looking at (iii):\n",
    "\n",
    "\\begin{align}\n",
    "\\oint\\vec{E}\\cdot\\vec{\\partial l} &= -\\iint \\frac{\\partial \\vec{B}}{\\partial t}\\cdot \\vec{\\partial A}\\\\\n",
    "\\int_{sides}\\vec{E}\\cdot\\vec{\\partial l} + \\int_{top}\\vec{E}_{above}\\cdot\\vec{\\partial l} +\\int_{bottom}\\vec{E}_{below}\\cdot\\vec{\\partial l}&= -\\frac{\\partial}{\\partial t}\\iint \\vec{B}\\cdot \\vec{\\partial A}\n",
    "\\end{align}\n",
    "\n",
    "As we take the limit of making the sides of the loop infinitely small, the enclosed magnetic flux goes to 0.\n",
    "$$\n",
    "\\int_{sides}\\vec{E}\\cdot\\vec{\\partial l} + \\int_{top}\\vec{E}_{above}\\cdot\\vec{\\partial l} +\\int_{bottom}\\vec{E}_{below}\\cdot\\vec{\\partial l}= \\cancelto{0}{-\\frac{\\partial}{\\partial t}\\iint \\vec{B}\\cdot \\vec{\\partial A}}\n",
    "$$\n",
    "Also, the sides themselves will also be infinetely small, thus their contribution goes to 0:\n",
    "$$\n",
    "\\cancelto{0}{\\int_{sides}\\vec{E}\\cdot\\vec{\\partial l}} + \\int_{top}\\vec{E}_{above}\\cdot\\vec{\\partial l} +\\int_{bottom}\\vec{E}_{below}\\cdot\\vec{\\partial l}= 0\n",
    "$$\n",
    "\n",
    "What we're left with is:\n",
    "$$\\int_{top}\\vec{E}_{above}\\cdot\\vec{\\partial l} +\\int_{bottom}\\vec{E}_{below}\\cdot\\vec{\\partial l}= 0$$\n",
    "\n",
    "Say the direction of the loop above the boundary is $\\hat{l}$, and again electric field will be constant along the path then:\n",
    "\n",
    "$$\\vec{E}_{above}\\cdot \\hat{l} L - \\vec{E}_{below}\\cdot\\hat{l}L = 0$$\n",
    "$$\\vec{E}_{above}\\cdot \\hat{l} - \\vec{E}_{below}\\cdot\\hat{l} = 0$$\n",
    "\n",
    "This implies the components of $\\vec{E}$ along the surface are continuous.\n",
    "$$\\vec{E}_{above}\\cdot \\hat{l} = \\vec{E}_{below}\\cdot\\hat{l}$$\n",
    "\n",
    "Or stated as:\n",
    "\n",
    "$$\\vec{E}_{above}^{||} = \\vec{E}_{below}^{||}$$"
   ]
  },
  {
   "cell_type": "markdown",
   "id": "79503f8c-8231-48c0-a192-fbd909d581d7",
   "metadata": {},
   "source": [
    "We can use very similar logic to reduce (iv). Meaning we can neglect the contribution of the sides of the loop, and the $\\vec{D}$ field enclosed by the loop vanishes like the $\\vec{B}$ field did in (iii). Thus:\n",
    "\n",
    "$$\n",
    "\\vec{H}_{above} \\cdot \\vec{l} - \\vec{H}_{below}\\cdot\\vec{l} = I_{f, enclosed}\n",
    "$$\n",
    "$I_{f,enclosed}$ is the free current passing through the loop. There are no volume currents here (because we have a flat of our loop surface), but there could be currents flowing along the boundary, let's call them $\\vec{K}_f$, the current (line) density. \n",
    "\n",
    "If this is somewhat confusing remember: current density $\\vec{J}$ was the rate of charges flowing through a surface (that exists in a volume). $\\vec{K}$ is now the rate of charges flowing past a line (that exists on a surface).\n",
    "\n",
    "$\\hat{n}$ be the boundary normal to the surface, then $\\hat{n} \\times \\vec{l}$ is normal to the current loop. then:\n",
    "$$\n",
    "I_{f, enclosed} = \\vec{K}_f \\cdot (\\hat{n}\\times\\vec{l}) = (\\vec{K}_f \\times \\hat{n}) \\cdot \\vec{l}\n",
    "$$\n",
    "\n",
    "Thus:\n",
    "$$\n",
    "\\vec{H}_{above} \\cdot \\vec{l} - \\vec{H}_{below}\\cdot\\vec{l} = (\\vec{K}_f \\times \\hat{n}) \\cdot \\vec{l}\n",
    "$$\n",
    "\n",
    "Or restated as:\n",
    "$$\n",
    "\\vec{H}_{above}^{||} - \\vec{H}_{below}^{||} = \\vec{K}_f \\times \\hat{n}\n",
    "$$\n",
    "\n",
    "Meaning the parallel components of the Magnetic Field $\\vec{H}$ are discontinuous by an amount equal to the surface current density perpendicular to the parallel components of $\\vec{H}$."
   ]
  },
  {
   "cell_type": "markdown",
   "id": "c5af8867-b1f8-4977-9409-74647ef14d62",
   "metadata": {},
   "source": [
    "All together here:\n",
    "\n",
    "\\begin{align}\n",
    "&(\\mathrm{i}) &\\vec{D}_{1}^\\perp - \\vec{D}_{2}^\\perp &= \\rho_f\\\\\n",
    "&(\\mathrm{ii})& \\vec{B}_{1}^\\perp - \\vec{B}_{2}^\\perp&=0\\\\\n",
    "&(\\mathrm{iii})& \\vec{E}_{1}^{||} -\\vec{E}_{2}^{||} &=0 \\\\\n",
    "&(\\mathrm{iv})& \\vec{H}_{1}^{||} - \\vec{H}_{2}^{||} &= \\vec{K}_f \\times \\hat{n}\n",
    "\\end{align}\n",
    "\n",
    "Where subscripts $1$ and $2$ represent the two mediums seperated by a surface."
   ]
  },
  {
   "cell_type": "markdown",
   "id": "2486a27c-1450-4d77-b5da-8fe2364b0ba8",
   "metadata": {},
   "source": [
    "These are the general boundary conditions for electrodynamics. If we make a further assumption of a linear medium (and insert our consitutive relations) we can write them only in terms of $\\vec{E}$ and $\\vec{B}$. They go to:\n",
    "\n",
    "\\begin{align}\n",
    "&(\\mathrm{i}) &\\varepsilon_1\\vec{E}_1^\\perp - \\varepsilon_2\\vec{E}_{2}^\\perp &= \\rho_f\\\\\n",
    "&(\\mathrm{ii})& \\vec{B}_{1}^\\perp - \\vec{B}_{2}^\\perp&=0\\\\\n",
    "&(\\mathrm{iii})& \\vec{E}_{1}^{||} -\\vec{E}_{2}^{||} &=0 \\\\\n",
    "&(\\mathrm{iv})& \\frac{1}{\\mu_1}\\vec{B}_{1}^{||} - \\frac{1}{\\mu_2}\\vec{B}_{2}^{||} &= \\vec{K}_f \\times \\hat{n}\n",
    "\\end{align}\n"
   ]
  },
  {
   "cell_type": "markdown",
   "id": "29780315-2f80-4127-9ec4-a3300ec078b0",
   "metadata": {},
   "source": [
    "In particular if there are no free charges or currents at the interface:\n",
    "\\begin{align}\n",
    "&(\\mathrm{i}) &\\varepsilon_1\\vec{E}_1^\\perp - \\varepsilon_2\\vec{E}_{2}^\\perp &= 0\\\\\n",
    "&(\\mathrm{ii})& \\vec{B}_{1}^\\perp - \\vec{B}_{2}^\\perp&=0\\\\\n",
    "&(\\mathrm{iii})& \\vec{E}_{1}^{||} -\\vec{E}_{2}^{||} &=0 \\\\\n",
    "&(\\mathrm{iv})& \\frac{1}{\\mu_1}\\vec{B}_{1}^{||} - \\frac{1}{\\mu_2}\\vec{B}_{2}^{||} &= 0\n",
    "\\end{align}\n",
    "\n",
    "Which are the basis for the theory of reflection and refraction."
   ]
  },
  {
   "cell_type": "code",
   "execution_count": null,
   "id": "567a8b7b-1ebf-4a3b-98d3-89e6d0091518",
   "metadata": {},
   "outputs": [],
   "source": []
  }
 ],
 "metadata": {
  "kernelspec": {
   "display_name": "Python 3 (ipykernel)",
   "language": "python",
   "name": "python3"
  },
  "language_info": {
   "codemirror_mode": {
    "name": "ipython",
    "version": 3
   },
   "file_extension": ".py",
   "mimetype": "text/x-python",
   "name": "python",
   "nbconvert_exporter": "python",
   "pygments_lexer": "ipython3",
   "version": "3.11.7"
  }
 },
 "nbformat": 4,
 "nbformat_minor": 5
}
