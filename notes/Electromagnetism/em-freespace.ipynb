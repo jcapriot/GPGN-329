{
 "cells": [
  {
   "cell_type": "markdown",
   "id": "5bf58f3d-eb73-4135-8a58-62683f212926",
   "metadata": {},
   "source": [
    "# Wave equation?\n",
    "\n",
    "Maxwell's equations (in differential form) are:\n",
    "\n",
    "\\begin{align}\n",
    "\\nabla \\cdot \\vec{E} &= \\frac{\\rho_e}{\\varepsilon_0}\\\\\n",
    "\\nabla \\cdot \\vec{B} &= 0\\\\\n",
    "\\nabla \\times \\vec{E} &= -\\frac{\\partial B}{\\partial t}\\\\\n",
    "\\nabla \\times \\vec{B} &= \\mu_0 (\\vec{J} + \\varepsilon_0 \\frac{\\partial \\vec{E}}{\\partial t})\n",
    "\\end{align}\n",
    "\n",
    "These are a set of coupled first order PDE's\n",
    "\n",
    "Wave equations are of the form (in 1D) of:\n",
    "$$\n",
    "u_xx = \\frac{1}{v^2} u_tt\n",
    "$$\n",
    "which is clearly a second order PDE.\n",
    "\n",
    "How do maxwell's equations describe electromagnetism as a wave?"
   ]
  },
  {
   "cell_type": "markdown",
   "id": "46035a2a-3fb0-498a-9406-8e1618666d71",
   "metadata": {},
   "source": [
    "## In Free Space\n",
    "Let's look at Maxwell's equations in free space, where there's no current densities $\\vec{J}$, or charge densities $\\rho_e$.\n",
    "\n",
    "\\begin{align}\n",
    "\\nabla \\cdot \\vec{E} &= 0\\\\\n",
    "\\nabla \\cdot \\vec{B} &= 0\\\\\n",
    "\\nabla \\times \\vec{E} &= -\\frac{\\partial B}{\\partial t}\\\\\n",
    "\\nabla \\times \\vec{B} &= \\mu_0\\varepsilon_0 \\frac{\\partial \\vec{E}}{\\partial t}\n",
    "\\end{align}"
   ]
  },
  {
   "cell_type": "markdown",
   "id": "677b7527-9b3b-4082-b166-d05f8e0b24f4",
   "metadata": {},
   "source": [
    "## decoupling\n",
    "\n",
    "Take the curl of maxwell's third equation:\n",
    "\n",
    "$$\n",
    "\\nabla \\times (\\nabla \\times \\vec{E}) = -\\frac{\\partial \\nabla \\times B}{\\partial t}\n",
    "$$\n",
    "\n",
    "now we can insert Maxwell's fourth equation for the $\\nabla \\times B$ term.\n",
    "\n",
    "$$\n",
    "\\nabla \\times (\\nabla \\times \\vec{E}) = -\\frac{\\partial}{\\partial t}(\\mu_0 \\varepsilon_0 \\frac{\\partial \\vec{E}}{\\partial t})\n",
    "$$\n",
    "\n",
    "$$\n",
    "\\nabla \\times (\\nabla \\times \\vec{E}) = -\\mu_0 \\varepsilon_0 \\frac{\\partial^2 \\vec{E}}{\\partial t^2}\n",
    "$$\n",
    "\n",
    "Now we have a second order, decoupled PDE only in terms of the electric field, but is this a wave equation?\n",
    "\n",
    "recall the vector calculus identity:\n",
    "$$\n",
    "\\nabla \\times (\\nabla \\times \\vec{u}) = \\nabla (\\nabla \\cdot \\vec{u}) - \\nabla^2 \\vec{u}\n",
    "$$\n",
    "let's expand the left hand side of our decoupled PDE,\n",
    "\n",
    "$$\n",
    "\\nabla \\times (\\nabla \\times \\vec{E}) = \\nabla (\\nabla \\cdot \\vec{E}) - \\nabla^2 \\vec{E}\n",
    "$$\n",
    "\n",
    "Plug in Maxwell's first equation:\n",
    "\n",
    "$$\n",
    "\\nabla \\times (\\nabla \\times \\vec{E}) = \\nabla (0) - \\nabla^2 \\vec{E}\n",
    "$$\n",
    "\n",
    "All together:\n",
    "\n",
    "\\begin{align}\n",
    " - \\nabla^2 \\vec{E} &= - \\mu_0 \\varepsilon_0 \\frac{\\partial^2 \\vec{E}}{\\partial t^2}\\\\\n",
    " - \\nabla^2 \\vec{E} &=  - \\mu_0 \\varepsilon_0 \\frac{\\partial^2 \\vec{E}}{\\partial t^2}\\\\\n",
    "\\nabla^2 \\vec{E} &= \\mu_0 \\varepsilon_0 \\frac{\\partial^2 \\vec{E}}{\\partial t^2}\n",
    "\\end{align}\n",
    "\n",
    "Which looks exactly like a wave equation (because it is one)! \n",
    "\n",
    "Similarly we can get an equation only in terms of the $\\vec{B}$ field:\n",
    "\n",
    "$$\n",
    "\\nabla^2 \\vec{B} = \\mu_0 \\varepsilon_0 \\frac{\\partial^2 \\vec{B}}{\\partial t^2}\n",
    "$$\n",
    "\n",
    "So, that means that each component of the electric and magnetic field obey the 3D wave equation:\n",
    "$$\n",
    "\\nabla^2 u = \\frac{1}{v^2} u_{tt}\n",
    "$$\n",
    "\n",
    "\n",
    "But what is the velocity of this wave?\n",
    "$$\n",
    "\\frac{1}{v^2} = \\mu_0 \\epsilon_0\n",
    "$$\n",
    "$$\n",
    "v = \\frac{1}{\\sqrt{\\mu_0 \\epsilon_0}}\n",
    "$$\n",
    "\n",
    "plug in some numbers to this:\n",
    "\n",
    "* $\\varepsilon_0 = 8.85418782 \\times 10^{-12} F/m$\n",
    "* $\\mu_0 = 4\\pi \\times 10^-7 H/m$"
   ]
  },
  {
   "cell_type": "code",
   "execution_count": 9,
   "id": "883379c2-a007-49ac-b734-28e591992444",
   "metadata": {},
   "outputs": [
    {
     "name": "stdout",
     "output_type": "stream",
     "text": [
      "8.8541878128e-12 1.25663706212e-06\n",
      "Velocity 299792458.0000065\n"
     ]
    }
   ],
   "source": [
    "from scipy.constants import mu_0, epsilon_0\n",
    "import numpy as np\n",
    "print(epsilon_0, mu_0)\n",
    "\n",
    "v = 1/np.sqrt(mu_0 * epsilon_0)\n",
    "print('Velocity' , v)"
   ]
  },
  {
   "cell_type": "markdown",
   "id": "1e3f50ff-221f-4580-a6d8-29d0cefc3b98",
   "metadata": {},
   "source": [
    "Which just so happens to be... the speed of light!\n",
    "\n",
    "$$\n",
    "c = \\frac{1}{\\sqrt{\\mu_0 \\epsilon_0}}\n",
    "$$"
   ]
  },
  {
   "cell_type": "code",
   "execution_count": 11,
   "id": "05e24b47-efe2-4aa9-91e4-c8f8aa862f92",
   "metadata": {},
   "outputs": [
    {
     "name": "stdout",
     "output_type": "stream",
     "text": [
      "299792458.0\n"
     ]
    }
   ],
   "source": [
    "from scipy.constants import c\n",
    "print(c)"
   ]
  },
  {
   "cell_type": "markdown",
   "id": "592b5c3e-608e-4fe1-b31a-3faab8310827",
   "metadata": {},
   "source": [
    "## Some questions:\n",
    "\n",
    "Take for example a simple electric field, with components only in the $y$ direction:\n",
    "\n",
    "$$\n",
    "\\vec{E} = E_0e^{i(\\omega t - \\vec{k}\\cdot\\vec{r})} \\hat{y}\n",
    "$$\n",
    "\n",
    "Q1: Which direction is $\\vec{k}$?\n",
    "\n",
    "Plug this into gauss's law:\n",
    "\n",
    "\\begin{align}\n",
    "\\nabla \\cdot \\vec{E} &= 0\\\\\n",
    "\\nabla \\cdot (E_0e^{i(\\omega t - \\vec{k}\\cdot\\vec{r})} \\hat{y}) &=\\\\\n",
    "\\frac{\\partial}{\\partial y} (E_0e^{i(\\omega t - \\vec{k}\\cdot\\vec{r})}) &= \\\\\n",
    "(-i k_y y)(E_0 e^{i(\\omega t - \\vec{k}\\cdot\\vec{r})}) &= 0 \\\\\n",
    "(-i k_y y)(E_y) &= 0\\\\\n",
    "k_y &= 0\n",
    "\\end{align}\n",
    "\n",
    "That means that $k_x$ and/or $k_z$ would be non-zero. $$\\vec{k} = k_x \\hat{x} + 0 \\hat{y} + k_z \\hat{z}.$$ Which implies the wave must be propogating perpendicular to the Electric Field. (note we can't really say much else about $k$ right now)."
   ]
  },
  {
   "cell_type": "markdown",
   "id": "21321d38-ba96-465c-b61c-fd9efdb7370f",
   "metadata": {},
   "source": [
    "Q2: What is the $\\vec{B}$ field?\n",
    "\n",
    "let's use Faraday's law:\n",
    "\n",
    "\\begin{align}\n",
    "\\nabla \\times \\vec{E} &= - \\partial_t \\vec{B}\\\\\n",
    "-\\partial_z E_y \\hat{x} + 0 \\hat{y} + \\partial_x E_y \\hat{z} &= -\\partial_t (B_x \\hat{x} + B_y\\hat{y} + B_z\\hat{z})\n",
    "\\end{align}\n",
    "\n",
    "We can split this up into three equations (one per component).\n",
    "\\begin{align}\n",
    "-\\partial_z E_y &= -\\partial_t B_x\\\\\n",
    "0 &= -\\partial_t B_y \\rightarrow B_y=0\\\\\n",
    "\\partial_x E_y &= -\\partial_t B_z\\\\\n",
    "\\end{align}\n",
    "\n",
    "Now we know that $B_y$ is zero, thus it is perpendicular to the $\\vec{E}$-field, (for the same reasons that the propogation direction was perpendicular to the $\\vec{E}$-field.\n",
    "\n",
    "Let's keep going, for $B_x$:\n",
    "\\begin{align}\n",
    "-\\partial_z E_0e^{i(\\omega t - \\vec{k}\\cdot\\vec{r})} &= -\\partial_t B_x\\\\\n",
    "\\partial_z E_0e^{i(\\omega t - \\vec{k}\\cdot\\vec{r})} &= \\partial_t B_x \\\\\n",
    "i k_z E_0e^{i(\\omega t - \\vec{k}\\cdot\\vec{r})} &= \\partial_t B_x \\\\\n",
    "\\int i k_z E_0e^{i(\\omega t - \\vec{k}\\cdot\\vec{r})} \\text{d}t &= B_x\\\\\n",
    "\\frac{i k_z}{i\\omega} E_0e^{i(\\omega t - \\vec{k}\\cdot\\vec{r})} &= B_x\\\\\n",
    "\\frac{k_z}{\\omega} E_0e^{i(\\omega t - \\vec{k}\\cdot\\vec{r})} &= B_x\n",
    "\\end{align}\n",
    "\n",
    "and for $B_z$\n",
    "\\begin{align}\n",
    "\\partial_x E_0e^{i(\\omega t - \\vec{k}\\cdot\\vec{r})} &= -\\partial_t B_z\\\\\n",
    "-\\partial_x E_0e^{i(\\omega t - \\vec{k}\\cdot\\vec{r})} &= \\partial_t B_z \\\\\n",
    "-i k_x E_0e^{i(\\omega t - \\vec{k}\\cdot\\vec{r})} &= \\partial_t B_z \\\\\n",
    "\\int i k_x E_0e^{i(\\omega t - \\vec{k}\\cdot\\vec{r})} \\text{d}t &= B_z\\\\\n",
    "\\frac{i k_x}{i\\omega} E_0e^{i(\\omega t - \\vec{k}\\cdot\\vec{r})} &= B_z\\\\\n",
    "-\\frac{k_x}{\\omega} E_0e^{i(\\omega t - \\vec{k}\\cdot\\vec{r})} &= B_z\n",
    "\\end{align}"
   ]
  },
  {
   "cell_type": "markdown",
   "id": "f9f4856e-5b02-42b0-8d60-f7b05859abc1",
   "metadata": {},
   "source": [
    "So\n",
    "\n",
    "$$\n",
    "\\vec{B} = \\frac{E_0}{\\omega}e^{i(\\omega t - \\vec{k}\\cdot\\vec{r})}(k_z \\hat{x} - k_x\\hat{z})\n",
    "$$"
   ]
  },
  {
   "cell_type": "markdown",
   "id": "76c3209c-d54a-4a6d-bc74-51f36990a77c",
   "metadata": {},
   "source": [
    "Q3: How do the directions of $\\vec{B}$ and $\\vec{k}$ compare?\n",
    "\n",
    "let's plug our $\\vec{B}$ into Maxwell's second equation...\n",
    "\n",
    "\\begin{align}\n",
    "\\nabla \\cdot \\vec{B} &= 0\\\\\n",
    "\\nabla \\cdot \\frac{E_0}{\\omega}e^{i(\\omega t - \\vec{k}\\cdot\\vec{r})}(k_z \\hat{x} - k_x\\hat{z}) &=0\\\\\n",
    "\\frac{E_0}{\\omega}[\\partial_x (e^{i(\\omega t - \\vec{k}\\cdot\\vec{r})}k_z) - \\partial_z (e^{i(\\omega t - \\vec{k}\\cdot\\vec{r})}k_x)] &=0\\\\\n",
    "\\frac{E_0}{\\omega}[(i k_x) (e^{i(\\omega t - \\vec{k}\\cdot\\vec{r})}k_z) - (i k_z) (e^{i(\\omega t - \\vec{k}\\cdot\\vec{r})}k_x)] &=0\\\\\n",
    "\\frac{E_0}{\\omega}[(i k_x k_z) e^{i(\\omega t - \\vec{k}\\cdot\\vec{r})} - (i k_z k_x) (e^{i(\\omega t - \\vec{k}\\cdot\\vec{r})})] &=0\\\\\n",
    "(i k_x) \\frac{E_0 k_y}{\\omega} e^{i(\\omega t - \\vec{k}\\cdot\\vec{r})} + (i k_z) \\frac{-E_0 k_x}{\\omega} e^{i(\\omega t - \\vec{k}\\cdot\\vec{r})} &=0\\\\\n",
    "i k_x B_x + i k_z B_z &=0 \\\\\n",
    "i \\vec{k} \\cdot \\vec{B} &= 0\\\\\n",
    "\\vec{k} \\cdot \\vec{B} &= 0\n",
    "\\end{align}\n",
    "\n",
    "And if the dot product of two vectors is equal to zero, that means they are perpendicular to each other!"
   ]
  },
  {
   "cell_type": "markdown",
   "id": "799f2a24-3b84-4e68-98aa-608f617d11dc",
   "metadata": {},
   "source": [
    "Together, for our simple electric field function:\n",
    "* $\\vec{E} \\perp \\vec{k}$, the electric field is perpendicular to the direction of propogation\n",
    "* $\\vec{E} \\perp \\vec{B}$, the electric and magnetic fields are perpendicular to each other\n",
    "* $\\vec{B} \\perp \\vec{k}$, the magnetic field is perpendicular to the direction of propogation\n",
    "\n",
    "Electromagnetic waves are a transverse wave, meaning their \"displacements\" are perpendicular to the direction they propogate."
   ]
  },
  {
   "cell_type": "code",
   "execution_count": null,
   "id": "954598a6-4026-474b-9401-386e5b77ffe0",
   "metadata": {},
   "outputs": [],
   "source": []
  }
 ],
 "metadata": {
  "kernelspec": {
   "display_name": "Python 3 (ipykernel)",
   "language": "python",
   "name": "python3"
  },
  "language_info": {
   "codemirror_mode": {
    "name": "ipython",
    "version": 3
   },
   "file_extension": ".py",
   "mimetype": "text/x-python",
   "name": "python",
   "nbconvert_exporter": "python",
   "pygments_lexer": "ipython3",
   "version": "3.11.7"
  }
 },
 "nbformat": 4,
 "nbformat_minor": 5
}
