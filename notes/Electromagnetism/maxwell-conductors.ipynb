{
 "cells": [
  {
   "cell_type": "markdown",
   "id": "1f707774-f5ad-4d45-abd7-8f47d77516f6",
   "metadata": {},
   "source": [
    "# Maxwell's Equations in Conductive medium"
   ]
  },
  {
   "cell_type": "code",
   "execution_count": 43,
   "id": "7811086b-6dd2-47ee-8f92-f0c4fad2be1f",
   "metadata": {},
   "outputs": [],
   "source": [
    "import sympy as sp\n",
    "mu, eps, sigma = sp.symbols('\\mu,\\epsilon,\\sigma', real=True, positive=True)\n",
    "om = sp.symbols('\\omega', real=True, positive=True)"
   ]
  },
  {
   "cell_type": "markdown",
   "id": "d576914e-96f8-4015-9882-1f79c1d549a1",
   "metadata": {},
   "source": [
    "We have previously derived Maxwell's equations in a linear conductive medium:\n",
    "\n",
    "\\begin{align}\n",
    "\\nabla \\cdot \\vec{E} &= \\frac{1}{\\varepsilon}\\rho_f\\\\\n",
    "\\nabla \\cdot \\vec{B} &= 0\\\\\n",
    "\\nabla \\times \\vec{E} &= -\\frac{\\partial \\vec{B}}{\\partial t}\\\\\n",
    "\\nabla \\times \\vec{B} &= \\mu \\sigma \\vec{E} + \\mu\\varepsilon \\frac{\\partial \\vec{E}}{\\partial t}\n",
    "\\end{align}"
   ]
  },
  {
   "cell_type": "markdown",
   "id": "92b6eeb7-88f8-442c-9304-c0dd7c86cab8",
   "metadata": {},
   "source": [
    "We made some arguments about the initial free charges in the system, and how they decayed over time as:\n",
    "$$\\rho_f(t) = e^{(-\\sigma/\\varepsilon) t} \\rho_f(0)$$\n",
    "\n",
    "where $(-\\sigma/\\varepsilon)$ formed a time constant $(1/\\tau)$. For good conductors this time constant is very short (~1E-19s) (which is actually a shorter time than Ohm's law is even valid for... but that's besides the point).\n",
    "\n",
    "This allowes us to write Maxwell's first equation as\n",
    "$$\\nabla \\cdot \\vec{E} = 0$$"
   ]
  },
  {
   "cell_type": "markdown",
   "id": "f6abbf20-d7de-4932-b451-8d92d1712273",
   "metadata": {},
   "source": [
    "Using this assumption we were able to put all of these together to create an equation only in terms of the electric field.\n",
    "\n",
    "\n",
    "$$\\nabla^2 \\vec{E} = \\mu \\sigma \\frac{\\partial \\vec{E}}{\\partial t}+ \\mu\\varepsilon \\frac{\\partial^2 \\vec{E}}{\\partial t^2}$$\n",
    "\n",
    "which we dubbed a \"damped\" wave equation.\n",
    "\n",
    "These still have plane-wave solutions of the form:\n",
    "\n",
    "$$\\vec{E}(z, r) = \\vec{\\tilde{E}}_0 e^{i(\\omega t - \\tilde{k} z)}$$\n",
    "\n",
    "Except that now $\\vec{\\tilde{E}}_0$ and $\\tilde{k}$ are both **complex** (have both real and imaginary parts).\n",
    "$$\\tilde{k}^2 = \\mu\\varepsilon\\omega^2 - i\\mu\\sigma\\omega$$"
   ]
  },
  {
   "cell_type": "markdown",
   "id": "a35cbcdb-7041-4cd4-8438-b7b2fb153612",
   "metadata": {},
   "source": [
    "#### An aside,\n",
    "Where did that come from? well... for this system:\n",
    "\\begin{align}\n",
    "\\nabla^2 \\vec{E} &= \\mu \\sigma \\frac{\\partial \\vec{E}}{\\partial t}+ \\mu\\varepsilon \\frac{\\partial^2 \\vec{E}}{\\partial t^2}\\\\\n",
    "(-i\\tilde{k})^2 \\vec{E} &= \\mu \\sigma (i \\omega)\\vec{E}+ \\mu\\varepsilon (i \\omega)^2 \\vec{E}\\\\\n",
    "(-i\\tilde{k})^2 &= \\mu \\sigma (i \\omega)+ \\mu\\varepsilon (i \\omega)^2\\\\\n",
    "-\\tilde{k}^2 &= \\mu \\sigma i \\omega - \\mu\\varepsilon \\omega^2\\\\\n",
    "\\tilde{k}^2 &= \\mu\\varepsilon \\omega^2 - i\\mu \\sigma\\omega\n",
    "\\end{align}"
   ]
  },
  {
   "cell_type": "markdown",
   "id": "068399f4-fe77-4d5f-9878-3fef5950384f",
   "metadata": {},
   "source": [
    "Taking the square root of this equation will give the values for $k$\n",
    "\n",
    "Lets define $\\tilde{k}$ in terms of it's real and (negative) imaginary parts\n",
    "$$\\tilde{k} = k_r - i k_i$$"
   ]
  },
  {
   "cell_type": "markdown",
   "id": "48189759-41fb-4a77-9883-c537491c91d4",
   "metadata": {},
   "source": [
    "Can do this algebraically:\n",
    "\n",
    "\\begin{align}\n",
    "(k_r - i k_i)^2 &= \\mu\\varepsilon\\omega^2 - i\\mu\\sigma\\omega\\\\\n",
    "k_r^2 - k_i^2 - 2ik_rk_i &= \\mu\\varepsilon\\omega^2 - i\\mu\\sigma\\omega\n",
    "\\end{align}\n",
    "\n",
    "which gives two equations, one for the real, and one for the imaginary component:\n",
    "\n",
    "\\begin{align}\n",
    "k_r^2 - k_i^2 &= \\mu\\varepsilon\\omega^2\\\\\n",
    "2k_rk_i &= \\mu\\sigma\\omega\n",
    "\\end{align}"
   ]
  },
  {
   "cell_type": "markdown",
   "id": "c43f7830-b929-4d6e-8a9d-2a484daf95de",
   "metadata": {},
   "source": [
    "# This has the solution (assuming $k_r\\neq 0$)\n",
    "\n",
    "\\begin{align}\n",
    "k_r &= \\omega \\sqrt{\\frac{\\varepsilon \\mu}{2}}\\bigg[ \\sqrt{1 + \\big(\\frac{\\sigma}{\\varepsilon\\omega}\\big)^2} + 1\\bigg]^{1/2}\\\\\n",
    "k_i &= \\omega \\sqrt{\\frac{\\varepsilon \\mu}{2}}\\bigg[ \\sqrt{1 + \\big(\\frac{\\sigma}{\\varepsilon\\omega}\\big)^2} - 1\\bigg]^{1/2}\n",
    "\\end{align}"
   ]
  },
  {
   "cell_type": "code",
   "execution_count": 23,
   "id": "fa9ebf02-ee56-41aa-a4ee-797f1f520d8f",
   "metadata": {},
   "outputs": [],
   "source": [
    "k_r = om * sp.sqrt(eps * mu/ 2) * sp.sqrt(sp.sqrt(1 + (sigma/(eps * om))**2) + 1)\n",
    "k_i = om * sp.sqrt(eps * mu/ 2) * sp.sqrt(sp.sqrt(1 + (sigma/(eps * om))**2) - 1)"
   ]
  },
  {
   "cell_type": "code",
   "execution_count": 24,
   "id": "7ba681ed-ab2e-42bb-91a9-08615660bf31",
   "metadata": {},
   "outputs": [
    {
     "data": {
      "text/latex": [
       "$\\displaystyle \\epsilon \\mu \\omega^{2}$"
      ],
      "text/plain": [
       "\\epsilon*\\mu*\\omega**2"
      ]
     },
     "execution_count": 24,
     "metadata": {},
     "output_type": "execute_result"
    }
   ],
   "source": [
    "# should give us eps * mu * omega**2\n",
    "(k_r**2 - k_i**2).simplify()"
   ]
  },
  {
   "cell_type": "code",
   "execution_count": 25,
   "id": "693a5c3e-429a-401d-9425-5ce962022e92",
   "metadata": {},
   "outputs": [
    {
     "data": {
      "text/latex": [
       "$\\displaystyle \\mu \\omega \\sigma$"
      ],
      "text/plain": [
       "\\mu*\\omega*\\sigma"
      ]
     },
     "execution_count": 25,
     "metadata": {},
     "output_type": "execute_result"
    }
   ],
   "source": [
    "# should give us mu omega sigma\n",
    "(2 * k_r * k_i).simplify()"
   ]
  },
  {
   "cell_type": "markdown",
   "id": "29cd5938-b9c7-44fe-bb10-97d0514cb682",
   "metadata": {},
   "source": [
    "What happens to the imaginary part of $\\tilde{k}$ in our equation for $\\vec{E}$?\n",
    "\n",
    "\\begin{align}\n",
    "\\vec{E}(z, r)&= \\vec{\\tilde{E}}_0 e^{i(\\omega t - \\tilde{k} z)}\\\\\n",
    " &= \\vec{\\tilde{E}}_0 e^{i(\\omega t - (k_r - i k_i) z)}\\\\\n",
    " &= \\vec{\\tilde{E}}_0 e^{i(\\omega t - (k_r - i k_i) z)}\\\\\n",
    " &= \\vec{\\tilde{E}}_0 e^{-k_i z} e^{i(\\omega t - k_r z)}\n",
    "\\end{align}\n",
    "\n",
    "The imaginary part of $\\tilde{k}$ causes the magnitude of the field to exponentially decay as the wave travels"
   ]
  },
  {
   "cell_type": "markdown",
   "id": "443bdb73-6a06-4577-8f2a-3ab5e4b1e04c",
   "metadata": {},
   "source": [
    "### Skin depth\n",
    "What is the depth at which the field decays by a factor of $\\frac{1}{e}$?\n",
    "\n",
    "\\begin{align}\n",
    "\\frac{1}{e} E_0 &= E_0 e^{-k_i z}\\\\\n",
    "\\frac{1}{e} &= e^{-k_i z}\\\\\n",
    "e^{-1} &= e^{-k_i z}\\\\\n",
    "1 &= k_i z\\\\\n",
    "z &= \\frac{1}{k_i}\n",
    "\\end{align}\n",
    "\n",
    "This is the characteristic depth that the wave penetrates:\n",
    "$$d = \\frac{1}{k_i}$$\n",
    "\n",
    "$$d = \\frac{1}{\\omega} \\sqrt{\\frac{2}{\\varepsilon \\mu}}\\bigg[ \\sqrt{1 + \\big(\\frac{\\sigma}{\\varepsilon\\omega}\\big)^2} - 1\\bigg]^{-1/2}$$\n",
    "\n",
    "How does this change for increasing $\\omega$ or $\\sigma$?"
   ]
  },
  {
   "cell_type": "code",
   "execution_count": 11,
   "id": "9fa638df-26bf-46fa-ac4c-fc860fae4c72",
   "metadata": {},
   "outputs": [
    {
     "data": {
      "text/latex": [
       "$\\displaystyle \\frac{\\sqrt{2}}{\\sqrt{\\mu} \\sqrt{\\omega} \\sqrt{- \\epsilon \\omega + \\sqrt{\\epsilon^{2} \\omega^{2} + \\sigma^{2}}}}$"
      ],
      "text/plain": [
       "sqrt(2)/(sqrt(\\mu)*sqrt(\\omega)*sqrt(-\\epsilon*\\omega + sqrt(\\epsilon**2*\\omega**2 + \\sigma**2)))"
      ]
     },
     "execution_count": 11,
     "metadata": {},
     "output_type": "execute_result"
    }
   ],
   "source": [
    "d = 1/k_i\n",
    "d.simplify()"
   ]
  },
  {
   "cell_type": "code",
   "execution_count": 12,
   "id": "bc1e5853-aadb-452f-99db-c3771bbba96b",
   "metadata": {},
   "outputs": [
    {
     "data": {
      "text/latex": [
       "$\\displaystyle \\frac{2 \\sqrt{\\epsilon}}{\\sqrt{\\mu} \\sigma}$"
      ],
      "text/plain": [
       "2*sqrt(\\epsilon)/(sqrt(\\mu)*\\sigma)"
      ]
     },
     "execution_count": 12,
     "metadata": {},
     "output_type": "execute_result"
    }
   ],
   "source": [
    "# what is the skin depth as omega goes to infinity?\n",
    "sp.limit(d, om, sp.oo)"
   ]
  },
  {
   "cell_type": "code",
   "execution_count": 13,
   "id": "4d190e3e-01b1-413a-84f3-aace70e3b60c",
   "metadata": {},
   "outputs": [
    {
     "data": {
      "text/latex": [
       "$\\displaystyle \\infty$"
      ],
      "text/plain": [
       "oo"
      ]
     },
     "execution_count": 13,
     "metadata": {},
     "output_type": "execute_result"
    }
   ],
   "source": [
    "# what is the skin depth as conductivity goes to 0?\n",
    "sp.limit(d, sigma, 0)"
   ]
  },
  {
   "cell_type": "markdown",
   "id": "e555c4f0-4de7-4a54-9f85-a83fc3edb511",
   "metadata": {},
   "source": [
    "This implies that a wave will travel forever in a vacuum! (should be intuitive conclusion)."
   ]
  },
  {
   "cell_type": "code",
   "execution_count": 14,
   "id": "c7c969a8-104c-49aa-92a9-ed20da27ecee",
   "metadata": {},
   "outputs": [
    {
     "data": {
      "text/latex": [
       "$\\displaystyle 0$"
      ],
      "text/plain": [
       "0"
      ]
     },
     "execution_count": 14,
     "metadata": {},
     "output_type": "execute_result"
    }
   ],
   "source": [
    "# in an infinite conductor skin-depth is 0\n",
    "sp.limit(d, sigma, sp.oo)"
   ]
  },
  {
   "cell_type": "markdown",
   "id": "97c233a7-a157-43ea-995e-dd7e086bbd29",
   "metadata": {},
   "source": [
    "What about the case where $\\sigma >> \\varepsilon\\omega$ (but $\\sigma \\neq \\infty$ and $\\omega \\neq 0$)?\n",
    "\n",
    "One observation: $\\sigma >> \\varepsilon\\omega$ implies that $\\sigma/(\\varepsilon\\omega) >> 1$. Therefore:\n",
    "\n",
    "\\begin{align}\n",
    "d &= \\frac{1}{\\omega} \\sqrt{\\frac{2}{\\varepsilon \\mu}}\\bigg[ \\sqrt{1 + \\big(\\frac{\\sigma}{\\varepsilon\\omega}\\big)^2} - 1\\bigg]^{-1/2} & 1 + \\big(\\frac{\\sigma}{\\varepsilon\\omega}\\big)^2 &\\approx \\big(\\frac{\\sigma}{\\varepsilon\\omega}\\big)^2\\\\\n",
    "&= \\frac{1}{\\omega} \\sqrt{\\frac{2}{\\varepsilon \\mu}}\\bigg[ \\sqrt{\\big(\\frac{\\sigma}{\\varepsilon\\omega}\\big)^2} - 1\\bigg]^{-1/2}\\\\\n",
    "&= \\frac{1}{\\omega} \\sqrt{\\frac{2}{\\varepsilon \\mu}}\\bigg[ \\frac{\\sigma}{\\varepsilon\\omega} - 1\\bigg]^{-1/2} & \\frac{\\sigma}{\\varepsilon\\omega} - 1 &\\approx \\frac{\\sigma}{\\varepsilon\\omega}\\\\\n",
    "&= \\frac{1}{\\omega} \\sqrt{\\frac{2}{\\varepsilon \\mu}}\\bigg[ \\frac{\\sigma}{\\varepsilon\\omega}\\bigg]^{-1/2}\\\\\n",
    "&= \\frac{1}{\\omega} \\sqrt{\\frac{2}{\\varepsilon \\mu}}\\sqrt{\\frac{\\varepsilon\\omega}{\\sigma}}\\\\\n",
    "&= \\frac{1}{\\omega} \\sqrt{\\frac{2\\varepsilon\\omega}{\\varepsilon \\mu \\sigma }}\\\\\n",
    "&= \\sqrt{\\frac{2\\varepsilon\\omega}{\\varepsilon \\mu \\sigma \\omega^2}}\\\\\n",
    "&= \\sqrt{\\frac{2}{\\mu \\sigma \\omega}}\n",
    "\\end{align}\n",
    "\n",
    "which does indeed go to $0$ as $\\sigma\\rightarrow \\infty$ and it goes to $\\infty$ as $\\omega \\rightarrow 0$"
   ]
  },
  {
   "cell_type": "markdown",
   "id": "b4fb4912-ac12-4c0d-a016-537286818ef2",
   "metadata": {},
   "source": [
    "So we have two equations for different regimes, one where $\\omega >> 0$ and the other where $\\sigma >> \\varepsilon\\omega$."
   ]
  },
  {
   "cell_type": "markdown",
   "id": "c08ca0d5-3c88-4c32-bda5-1e3409cf6c1e",
   "metadata": {},
   "source": [
    "### What about the real component?\n",
    "Well it determines the wavelength, propogation speed in the same way as before!\n",
    "$$\\lambda = \\frac{2\\pi}{k_r}$$\n",
    "$$v = \\frac{\\omega}{k_r}$$\n",
    "\n",
    "What does this imply about $v$? Is it now a material property or is it something else?\n"
   ]
  },
  {
   "cell_type": "markdown",
   "id": "9801524f-944f-4a44-8ebb-a57dcd53f4fa",
   "metadata": {},
   "source": [
    "v is Now a function of $\\mu$, $\\varepsilon$, $\\sigma$ and $\\omega$!\n",
    "\n",
    "And because $v$ is dependant on frequency, it means the system is dispersive."
   ]
  },
  {
   "cell_type": "code",
   "execution_count": 15,
   "id": "54009d60-1d33-4881-a467-bbc77ffc7be4",
   "metadata": {},
   "outputs": [
    {
     "data": {
      "text/latex": [
       "$\\displaystyle \\frac{\\sqrt{2}}{\\sqrt{\\epsilon} \\sqrt{\\mu} \\sqrt{\\sqrt{1 + \\frac{\\sigma^{2}}{\\epsilon^{2} \\omega^{2}}} + 1}}$"
      ],
      "text/plain": [
       "sqrt(2)/(sqrt(\\epsilon)*sqrt(\\mu)*sqrt(sqrt(1 + \\sigma**2/(\\epsilon**2*\\omega**2)) + 1))"
      ]
     },
     "execution_count": 15,
     "metadata": {},
     "output_type": "execute_result"
    }
   ],
   "source": [
    "k_r = om * sp.sqrt(eps * mu/ 2) * sp.sqrt(sp.sqrt(1 + (sigma/(eps * om))**2) + 1)\n",
    "v = om/k_r\n",
    "v"
   ]
  },
  {
   "cell_type": "markdown",
   "id": "37918375-864c-4cc2-ba96-ccd9fa0de11b",
   "metadata": {},
   "source": [
    "The limit of this function as conductivity goes to zero should\n",
    "yield the common equation for velocity in a vaccuum we described"
   ]
  },
  {
   "cell_type": "code",
   "execution_count": 16,
   "id": "b3487342-7e98-4301-b0d9-ce7381761809",
   "metadata": {},
   "outputs": [
    {
     "data": {
      "text/latex": [
       "$\\displaystyle \\frac{1}{\\sqrt{\\epsilon} \\sqrt{\\mu}}$"
      ],
      "text/plain": [
       "1/(sqrt(\\epsilon)*sqrt(\\mu))"
      ]
     },
     "execution_count": 16,
     "metadata": {},
     "output_type": "execute_result"
    }
   ],
   "source": [
    "sp.limit(v, sigma, 0)"
   ]
  },
  {
   "cell_type": "markdown",
   "id": "bb006c99-c17b-4393-909c-90ad5f55fe16",
   "metadata": {},
   "source": [
    "It also has the same limit for very high frequencies"
   ]
  },
  {
   "cell_type": "code",
   "execution_count": 17,
   "id": "45cf0bb8-7d7d-44dc-9a56-9d703d800e7b",
   "metadata": {},
   "outputs": [
    {
     "data": {
      "text/latex": [
       "$\\displaystyle \\frac{1}{\\sqrt{\\epsilon} \\sqrt{\\mu}}$"
      ],
      "text/plain": [
       "1/(sqrt(\\epsilon)*sqrt(\\mu))"
      ]
     },
     "execution_count": 17,
     "metadata": {},
     "output_type": "execute_result"
    }
   ],
   "source": [
    "sp.limit(v, om, sp.oo)"
   ]
  },
  {
   "cell_type": "markdown",
   "id": "14a93049-2747-4d2f-a2c4-23bf04ef09c3",
   "metadata": {},
   "source": [
    "What about when $\\sigma >> \\varepsilon\\omega$?\n",
    "\n",
    "Proceeds similar to the argument for skin-depth in these cases:\n",
    "\n",
    "\\begin{align}\n",
    "v &= \\sqrt{\\frac{2}{\\varepsilon \\mu}}\\bigg[ \\sqrt{1 + \\big(\\frac{\\sigma}{\\varepsilon\\omega}\\big)^2} + 1\\bigg]^{-1/2} & 1 + \\big(\\frac{\\sigma}{\\varepsilon\\omega}\\big)^2 &\\approx \\big(\\frac{\\sigma}{\\varepsilon\\omega}\\big)^2\\\\\n",
    "&= \\sqrt{\\frac{2}{\\varepsilon \\mu}}\\bigg[ \\sqrt{\\big(\\frac{\\sigma}{\\varepsilon\\omega}\\big)^2} + 1\\bigg]^{-1/2}\\\\\n",
    "&= \\sqrt{\\frac{2}{\\varepsilon \\mu}}\\bigg[ \\frac{\\sigma}{\\varepsilon\\omega} + 1\\bigg]^{-1/2} & \\frac{\\sigma}{\\varepsilon\\omega} + 1 &\\approx \\frac{\\sigma}{\\varepsilon\\omega}\\\\\n",
    "&= \\sqrt{\\frac{2}{\\varepsilon \\mu}}\\bigg[ \\frac{\\sigma}{\\varepsilon\\omega}\\bigg]^{-1/2}\\\\\n",
    "&= \\sqrt{\\frac{2}{\\varepsilon \\mu}}\\sqrt{\\frac{\\varepsilon\\omega}{\\sigma}}\\\\\n",
    "&= \\sqrt{\\frac{2\\varepsilon\\omega}{\\varepsilon \\mu \\sigma }}\\\\\n",
    "&= \\sqrt{\\frac{2\\omega}{\\mu \\sigma }}\\\\\n",
    "&= \\sqrt{\\frac{2}{\\mu \\sigma \\omega}} \\omega \\\\\n",
    "&= d\\omega\\\\\n",
    "\\end{align}\n",
    "\n",
    "So, for cases where $\\sigma >> \\omega$, we have that the skin depth is:\n",
    "\n",
    "$$\n",
    "d = \\sqrt{\\frac{2}{\\mu \\sigma \\omega}}\n",
    "$$\n",
    "and the velocity is :\n",
    "$$\n",
    "v = d \\omega\n",
    "$$"
   ]
  },
  {
   "cell_type": "markdown",
   "id": "d2c2f16c-34ac-4fd6-b51e-3c733dcfb002",
   "metadata": {},
   "source": [
    "## Air-Earth interface\n",
    "What does this imply about plane waves with low frequency at the air-earth interface.\n",
    "\n",
    "In the air, where conductivity is $\\sigma \\approx 0$ the wave travels with a velocity of:\n",
    "\n",
    "$$v_{air} = \\frac{1}{\\sqrt{\\mu\\varepsilon}} $$\n",
    "\n",
    "In the earth where conductivity is larger, we have:\n",
    "$$v_{earth} = \\sqrt{\\frac{2\\omega}{\\mu \\sigma }}$$\n",
    "\n",
    "As a wave hits the interface (with some angle $\\theta_{air}$) it refracts into the earth with an angle according to Snell's law ($\\theta_{earth}$).\n",
    "\n",
    "$$\n",
    "\\frac{\\sin\\theta_{air}}{\\sin\\theta_{earth}} = \\frac{v_{air}}{v_{earth}}\n",
    "$$"
   ]
  },
  {
   "cell_type": "markdown",
   "id": "e7967338-125d-49fb-baff-bffefd88ed96",
   "metadata": {},
   "source": [
    "The ratio of\n",
    "\n",
    "\\begin{align}\n",
    "\\frac{v_{air}}{v_{earth}} &= \\frac{\\frac{1}{\\sqrt{\\mu\\varepsilon}}}{\\sqrt{\\frac{2\\omega}{\\mu \\sigma }}}\\\\\n",
    "&= \\sqrt{\\frac{\\mu \\sigma }{2\\omega\\mu\\varepsilon}}\\\\\n",
    "&= \\sqrt{\\frac{\\sigma}{2\\omega\\varepsilon}}\n",
    "\\end{align}\n",
    "\n",
    "Which will go to $\\infty$ as either $\\sigma \\rightarrow \\infty$ or $\\omega \\rightarrow 0$\n",
    "\n",
    "Our claim is that $\\sigma >> \\omega\\varepsilon$, which implies:\n",
    "\n",
    "$$\n",
    "\\frac{\\sin\\theta_{air}}{\\sin\\theta_{earth}} = \\infty\n",
    "$$\n",
    "$$\n",
    "\\sin\\theta_{earth} = 0\n",
    "$$\n",
    "$$\n",
    "\\theta_{earth} = 0\n",
    "$$"
   ]
  },
  {
   "cell_type": "markdown",
   "id": "de4499b5-c89f-41ed-ab64-41257a6f1e38",
   "metadata": {},
   "source": [
    "So:\n",
    "No matter what angle the wave is intersecting the air-earth interface, the transmitted wave will always travel perpendicular to the earth's surface."
   ]
  },
  {
   "cell_type": "markdown",
   "id": "a48a437e-7c0b-473e-ab49-b2995254d00d",
   "metadata": {},
   "source": [
    "## $\\vec{B}$ field?\n",
    "Well let's rotate the axes so that $\\vec{E}$ only has a single component.\n",
    "\n",
    "$$\\vec{E}(z, r) = \\tilde{E}_0 e^{-k_I z} e^{i(\\omega t - k_R z)}\\hat{x}$$\n",
    "\n",
    "What about the $\\vec{B}$ field for this system?\n",
    "\n",
    "$$ \\vec{B} = \\frac{\\vec{k}\\times \\vec{E_0}}{\\omega} e^{i(\\omega t - \\tilde{k} z)}\\hat{y} $$\n",
    "\n",
    "$$ \\vec{B} = \\frac{\\tilde{k} \\tilde{E}_0}{\\omega} e^{i(\\omega t - \\tilde{k} z)} (\\hat{z} \\times \\hat{x}) $$\n",
    "\n",
    "$$\\vec{B}(z, r) = \\frac{\\tilde{k}}{\\omega}{\\tilde{E}_0}e^{i(\\omega t - \\tilde{k} z)}\\hat{y}$$\n",
    "\n",
    "\n",
    "How does it decay? The same...\n",
    "\n",
    "\n",
    "$$\\vec{B}(z, r) = \\frac{\\tilde{k}}{\\omega}{\\tilde{E}_0}e^{-k_I z} e^{i(\\omega t - k_R z)}\\hat{y}$$\n",
    "$$\\vec{B}(z, r) = \\tilde{B_0} e^{-k_I z} e^{i(\\omega t - k_R z)}\\hat{y}$$"
   ]
  },
  {
   "cell_type": "markdown",
   "id": "1993b6d8-da82-456d-be5e-75ccc56b4310",
   "metadata": {},
   "source": [
    "### How do E_0 and B_0 compare?\n",
    "We can represent the complex number $\\tilde{k}$ in terms of it's amplitude and phase as:\n",
    "$$\\tilde{k} = k e^{i \\theta_k}$$\n",
    "\n",
    "what is $k$?\n",
    "\\begin{align}\n",
    "k &= \\sqrt{k_R^2 + k_I^2} \\\\\n",
    "&= \\sqrt{\\omega^2 \\frac{\\varepsilon \\mu}{2}(\\sqrt{1 + (\\frac{\\sigma}{\\varepsilon \\omega})^2} + 1 + \\sqrt{1 + (\\frac{\\sigma}{\\varepsilon \\omega})^2} - 1)} \\\\\n",
    "&= \\sqrt{\\omega^2 \\frac{\\varepsilon \\mu}{2} 2 \\sqrt{1 + (\\frac{\\sigma}{\\varepsilon \\omega})^2}} \\\\\n",
    "&= \\omega \\sqrt{\\varepsilon \\mu \\sqrt{1 + (\\frac{\\sigma}{\\varepsilon \\omega})^2}}\n",
    "\\end{align}\n",
    "\n",
    "Then:\n",
    "$$\\tilde{B_0} = B_0e^{i \\theta_B}$$\n",
    "$$\\tilde{E_0} = E_0e^{i \\theta_E}$$\n",
    "\n",
    "$$B_0e^{i \\theta_B} = \\frac{ke^{i\\theta_k}}{\\omega} E_0 e^{i \\theta_E}$$\n",
    "\n",
    "Which imply that they are no longer in phase with each other!\n",
    "\n",
    "$$\\theta_B = \\theta_E + \\theta_k$$\n",
    "$$B_0 = \\frac{k E_0}{\\omega}$$\n",
    "\n",
    "Together we could write $\\vec{E}$ and $\\vec{B}$ as:\n",
    "\n",
    "$$\\vec{E}(z, t) = E_0e^{-k_I z}e^{i(\\omega t - k_R y + \\theta_E)}$$\n",
    "\n",
    "$$\\vec{B}(z, t) = B_0e^{-k_I z}e^{i(\\omega t - k_R y + \\theta_B)}$$\n",
    "$$\\vec{B}(z, t) = \\frac{k}{\\omega}E_0e^{-k_I z}e^{i(\\omega t - k_R y + \\theta_E + \\theta_k)}$$"
   ]
  },
  {
   "cell_type": "markdown",
   "id": "67bc67fe-0664-4916-9ebf-f473d63d87e4",
   "metadata": {},
   "source": [
    "For large $\\sigma >> \\omega\\varepsilon$, we had that:\n",
    "\n",
    "$$ k_r = \\omega/v \\approx 1/d_i$$\n",
    "$$ k_i \\approx 1/d_i = \\sqrt{\\frac{\\mu \\sigma \\omega}{2}}$$\n",
    "\n",
    "So $k_r = k_i$ for $\\sigma >> \\omega\\varepsilon$.\n",
    "\n",
    "What is the $\\theta_k$ for this?\n",
    "\n",
    "$$ \\tan(\\theta_k) = \\frac{-k_i}{k_r}$$\n",
    "\n",
    "For a good conductor:\n",
    "$$ \\theta_k = -\\pi/4$$"
   ]
  },
  {
   "cell_type": "code",
   "execution_count": 27,
   "id": "7507ba8a-1f6f-4bf3-93c1-d35f4ae90265",
   "metadata": {},
   "outputs": [
    {
     "data": {
      "text/latex": [
       "$\\displaystyle - \\frac{\\pi}{4}$"
      ],
      "text/plain": [
       "-pi/4"
      ]
     },
     "execution_count": 27,
     "metadata": {},
     "output_type": "execute_result"
    }
   ],
   "source": [
    "sp.limit(theta_k, sigma, sp.oo)"
   ]
  },
  {
   "cell_type": "markdown",
   "id": "88d98d15-330f-4ef6-9b72-1ca82ca61317",
   "metadata": {},
   "source": [
    "The phase lag starts at 0 for $\\sigma=0$ or ($\\omega=\\infty$) and the increase to $\\pi/4$"
   ]
  },
  {
   "cell_type": "markdown",
   "id": "d1bb4034-0df4-4701-9c68-e7f7bcae3623",
   "metadata": {},
   "source": [
    "### And their relative strengths?\n",
    "How do the $\\vec{E}$ and $\\vec{B}$ field compare with each other?\n",
    "\n",
    "\n",
    "\\begin{align}\n",
    "\\frac{B_0}{E_0} = \\frac{k}{\\omega} = \\sqrt{\\varepsilon \\mu \\sqrt{1 + (\\frac{\\sigma}{\\varepsilon \\omega})^2}}\n",
    "\\end{align}\n",
    "\n",
    "What happens in the quasi-static ($\\sigma >> \\varepsilon\\omega$) regime?\n",
    "\n",
    "$$\\frac{B_0}{E_0} = \\sqrt{\\frac{\\mu\\sigma}{\\omega}} $$\n",
    "\n",
    "\n",
    "In the magnetotelluric method this is actually a quantity we measure! We measure the frequency domain ratios of the magnetic and electric fields! Why do we do this??\n",
    "\n",
    "In a half-space...\n",
    "\n",
    "$$\\sigma = \\frac{\\omega}{\\mu}|\\frac{\\tilde{B}_y}{\\tilde{E}_x}|^2 = \\omega\\mu\\bigg|\\frac{\\tilde{H}_y}{\\tilde{E}_x}\\bigg|^2 $$\n",
    "\n",
    "This is generally a very common transformation done to magnetotelluric data!"
   ]
  }
 ],
 "metadata": {
  "kernelspec": {
   "display_name": "Python 3 (ipykernel)",
   "language": "python",
   "name": "python3"
  },
  "language_info": {
   "codemirror_mode": {
    "name": "ipython",
    "version": 3
   },
   "file_extension": ".py",
   "mimetype": "text/x-python",
   "name": "python",
   "nbconvert_exporter": "python",
   "pygments_lexer": "ipython3",
   "version": "3.11.7"
  }
 },
 "nbformat": 4,
 "nbformat_minor": 5
}
