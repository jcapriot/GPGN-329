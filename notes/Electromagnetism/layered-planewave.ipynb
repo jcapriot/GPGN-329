{
 "cells": [
  {
   "cell_type": "markdown",
   "id": "705af280-9d19-4c41-a66a-36222990c094",
   "metadata": {},
   "source": [
    "# Magnetotellurics\n",
    "\n",
    "Simple method, record the electric and magnetic fields at the surface of the earth. Compute the ratios of the recorded fields in the frequency domain."
   ]
  },
  {
   "cell_type": "markdown",
   "id": "6141b296-bc4b-4b17-a787-5d5f64aa2262",
   "metadata": {},
   "source": [
    "Let's assume we have a 1D Earth, meaning there are many layers, each with a conductivity, permeability, permitivity, and thickness.\n",
    "\n",
    "We have an unknown source that is very far away. With this we can assume that there are plane waves intersecting the surface of the Earth.\n",
    "\n",
    "Now let's assume we are in the quasi-static regime, meaning that when any plane wave intersects the surface, it will be bent vertically downward.\n",
    "\n",
    "Thus their will only be horizontal components of the $\\vec{E}$ and $\\vec{B}$ field. Let's orient our system such that $\\vec{E}$ is in the $\\hat{x}$-direction, $\\vec{k}$ is pointing into the earth $(-\\hat{z})$, and therefore $\\vec{B}$ only has a $y$ component (should be in the direction of $-\\hat{y}$)."
   ]
  },
  {
   "cell_type": "markdown",
   "id": "bbaf7a98-82aa-420e-bd45-bc547424a36d",
   "metadata": {},
   "source": [
    "Inside each layer, the physical properties are constant. Thus they satisfy Maxwell's equations in a linear homogenous medium:\n",
    "\n",
    "\\begin{align}\n",
    "\\nabla \\cdot \\vec{E} &= \\frac{1}{\\varepsilon_i}\\rho_f\\\\\n",
    "\\nabla \\cdot \\vec{B} &= 0\\\\\n",
    "\\nabla \\times \\vec{E} &= -\\frac{\\partial \\vec{B}}{\\partial t}\\\\\n",
    "\\nabla \\times \\vec{B} &= \\mu_i \\sigma_i \\vec{E} + \\mu_i\\varepsilon_i \\frac{\\partial \\vec{E}}{\\partial t}\n",
    "\\end{align}\n",
    "\n",
    "This wave equation has a general solution in each layer of a downgoing (transmitted) wave, and an upgoing (reflected) wave:\n",
    "\n",
    "\\begin{align}\n",
    "E_x = U_j e^{i(\\omega t - \\tilde{k} (z - z_j))} + D_j e^{i(\\omega t + \\tilde{k}_j (z - z_j))}\n",
    "\\end{align}\n",
    "Along with a $\\vec{B}$-field:\n",
    "\n",
    "\\begin{align}\n",
    "B_y &= \\frac{\\tilde{k}_j}{\\omega}(U_j e^{i(\\omega t - \\tilde{k}_j (z - z_j))} - D_j e^{i(\\omega t + \\tilde{k}_j (z - z_j))})\\\\\n",
    "H_y &= \\frac{\\tilde{k}_j}{\\mu_j\\omega}(U_j e^{i(\\omega t - \\tilde{k}_j (z - z_j))} - D_j e^{i(\\omega t + \\tilde{k}_j (z - z_j))})\\\\\n",
    "&= \\alpha_j^{-1}(U_j e^{i(\\omega t - \\tilde{k}_j (z - z_j))} - D_j e^{i(\\omega t + \\tilde{k}_j (z - z_j))})\n",
    "\\end{align}\n",
    "\n",
    "With the intrinsic impedence of the layer $$\\alpha_j = \\frac{\\omega\\mu_j}{\\tilde{k}_j}$$"
   ]
  },
  {
   "cell_type": "markdown",
   "id": "c6784547-0933-4ae5-b3a3-e5e65dacd8ab",
   "metadata": {},
   "source": [
    "Let's look at what happens at the interfaces, at the bottom of the $j$-th layer, and the top of the $j$-th layer. Let's say that $E_x = E_x(z)e^{i\\omega t}$, and $E_x(z)$ is the spatially dependent part of $E_x$, then set $E_{x,j}=E_x(z_j)$ to mean the value of $E_x$ in the $j$-th layer at the point $z_j$ (the bottom of the $j$-th layer).\n",
    "\n",
    "At the bottom of the J'th layer $(z=z_j)$:\n",
    "\\begin{align}\n",
    "E_{x, j}(z_j)e^{i\\omega t} = (U_j + D_j)e^{i\\omega t}\\\\\n",
    "H_{y, j}(z_j)e^{i\\omega t} = \\alpha_j^{-1}(U_j - D_j)e^{i\\omega t}\n",
    "\\end{align}\n",
    "\n",
    "\\begin{align}\n",
    "E_{x, j} = (U_j + D_j)\\\\\n",
    "H_{y, j} = \\alpha_j^{-1}(U_j - D_j)\n",
    "\\end{align}\n",
    "\n",
    "Which implies:\n",
    "\n",
    "\\begin{align}\n",
    "H_{y, j} &= \\alpha_j^{-1}(U_j - (E_{x,j}-U_j))\\\\\n",
    "&= \\alpha_j^{-1}(2U_j - E_{x,j})\\\\\n",
    "\\alpha_j H_{y, j} &= 2U_j - E_{x,j}\\\\\n",
    "\\alpha_j H_{y, j}+ E_{x,j} &= 2U_j\\\\\n",
    "U_j &= \\frac{1}{2}(\\alpha_j H_{y, j} + E_{x,j})\\\\\n",
    "\\end{align}\n",
    "\\begin{align}\n",
    "H_{y, j} &= \\alpha_j^{-1}((E_{x, j} - D_j) - D_j)\\\\\n",
    "H_{y, j} &= \\alpha_j^{-1}(E_{x, j} - 2 D_j)\\\\\n",
    "\\alpha_jH_{y, j} &= E_{x, j} - 2 D_j\\\\\n",
    "\\alpha_jH_{y, j} - E_{x, j} &=  - 2 D_j\\\\\n",
    "D_j &= \\frac{1}{2}(E_{x,j} - \\alpha_j H_{y, j})\n",
    "\\end{align}"
   ]
  },
  {
   "cell_type": "markdown",
   "id": "dac496fd-058f-4608-9a53-70036583628e",
   "metadata": {},
   "source": [
    "At each interface we have the boundary conditions:\n",
    "\\begin{align}\n",
    "&(\\mathrm{i}) &\\varepsilon_j\\vec{E}_1^\\perp - \\varepsilon_{j+1}\\vec{E}_{j+1}^\\perp &= 0\\\\\n",
    "&(\\mathrm{ii})& \\vec{B}_{j}^\\perp - \\vec{B}_{j+1}^\\perp&=0\\\\\n",
    "&(\\mathrm{iii})& \\vec{E}_{j}^{||} -\\vec{E}_{j+1}^{||} &=0 \\\\\n",
    "&(\\mathrm{iv})& \\vec{H}_{j}^{||} - \\vec{H}_{j+1}^{||} &= 0\n",
    "\\end{align}\n",
    "\n",
    "(i) and (ii) are already satisfied (as there is not any perpendicular components of $\\vec{E}$ and $\\vec{B}$).\n",
    "\n",
    "(iii) implies:\n",
    "\\begin{align}\n",
    "E_{x, top, j}(z_{j-1}) = E_{x, bot, j-1}(z_{j-1})\\\\\n",
    "E_{x, top, j}(z_{j-1}) = E_{x, j-1}\n",
    "\\end{align}\n",
    "\n",
    "(iv) implies:\n",
    "\\begin{align}\n",
    "H_{y, top, j}(z_{j-1}) = H_{y, bot, j-1}(z_{j-1})\\\\\n",
    "H_{y, top, j}(z_{j-1}) = H_{y, j-1}\n",
    "\\end{align}"
   ]
  },
  {
   "cell_type": "markdown",
   "id": "3ae739ed-51a1-44e6-a263-9d7acb00665f",
   "metadata": {},
   "source": [
    "At the top of the $j$-th layer, $z = z_{j-1}$, $z_{j-1} - z_j = h_j$\n",
    "\n",
    "\\begin{align}\n",
    "E_{x, top, j}(z_{j-1})e^{i\\omega t} &= U_j e^{i(\\omega t - \\tilde{k}_j (z_{j-1} - z_j))} + D_j e^{i(\\omega t + \\tilde{k} (z_{j-1} - z_j))}\\\\\n",
    "E_{x, top, j}(z_{j-1}) &= U_j e^{-i\\tilde{k}_j h_j} + D_j e^{i\\tilde{k} h_j}\\\\\n",
    "E_{x, j-1}&= \\frac{1}{2}(\\alpha_jH_{y, j} + E_{x,j})e^{-i\\tilde{k}_j h_j} + \\frac{1}{2}(E_{x,j} - \\alpha_j H_{y, j})e^{i\\tilde{k} h_j}\\\\\n",
    "&= E_{x,j}\\frac{e^{i\\tilde{k}_j h_j} + e^{-i\\tilde{k} h_j}}{2} + \\alpha_jH_{y, j}\\frac{e^{-i\\tilde{k}_j h_j} - e^{i\\tilde{k} h_j}}{2}\\\\\n",
    "&=E_{x,j}\\cosh(i\\tilde{k}_j h_j) - \\alpha_jH_{y, j}\\sinh(i\\tilde{k}_j h_j)\n",
    "\\end{align}\n",
    "\n",
    "Next:\n",
    "\n",
    "\\begin{align}\n",
    "H_{y,top,j}(z_{j-1})e^{i\\omega t} &= \\alpha_j^{-1}(U_j e^{i(\\omega t - \\tilde{k}_j (z_{j-1} - z_j))} - D_j e^{i(\\omega t + \\tilde{k}_j (z_{j-1} - z_j))})\\\\\n",
    "H_{y,top,j}(z_{j-1}) &= \\alpha_j^{-1}(U_j e^{-i\\tilde{k}_j h_j} - D_j e^{i\\tilde{k}_j h_j})\\\\\n",
    "H_{j-1}&= \\alpha_j^{-1}\\bigg( \\frac{1}{2}(\\alpha_jH_{y, j} + E_{x,j}) e^{-i\\tilde{k}_j h_j} - \\frac{1}{2}(E_{x,j} - \\alpha_j H_{y, j}) e^{i\\tilde{k}_j h_j}\\bigg)\\\\\n",
    "&= \\alpha_j^{-1}E_{x,j}\\frac{e^{-i\\tilde{k}_j h_j} - e^{i\\tilde{k} h_j}}{2} + H_{y, j}\\frac{e^{i\\tilde{k}_j h_j} + e^{-i\\tilde{k} h_j}}{2}\\\\\n",
    "&= H_{y, j}\\cosh(i\\tilde{k}_j h_j) -\\alpha_j^{-1}E_{x,j}\\sinh(i\\tilde{k}_j h_j)\\\\\n",
    "\\end{align}"
   ]
  },
  {
   "cell_type": "markdown",
   "id": "b78ce22d-bd9b-4019-9691-c1d5a70ac737",
   "metadata": {},
   "source": [
    "\n",
    "So we have the time-independant part of $E_{x,j-1}$ and $H_{x, j-1}$ in terms of the time-independant part of $E_{x, j}$ and $H_{x, j}$\n",
    "\n",
    "Let's collapse it into a matrix:\n",
    "\n",
    "$$\n",
    "\\begin{pmatrix}\n",
    "E_{x, j-1}\\\\\n",
    "H_{y, j-1}\n",
    "\\end{pmatrix} = \\begin{pmatrix}\n",
    "\\cosh(i\\tilde{k}_j h_j) & -\\alpha_j\\sinh(i\\tilde{k}_j h_j)\\\\\n",
    "-\\alpha_j^{-1} \\sinh(i\\tilde{k}_j h_j) & \\cosh(i\\tilde{k}_j h_j)\n",
    "\\end{pmatrix}\n",
    "\\begin{pmatrix}\n",
    "E_{x, j}\\\\\n",
    "H_{y, j}\n",
    "\\end{pmatrix} \n",
    "$$\n",
    "\n",
    "This is called the Tranfer matrix $j$ for the $j$-th layer. Transfering our knowns in the layer below to the current layer."
   ]
  },
  {
   "cell_type": "markdown",
   "id": "f8a9904b-a42b-42a5-9c51-c7f4e57674fc",
   "metadata": {},
   "source": [
    "Now let's look at the ratio of the two.\n",
    "\n",
    "\\begin{align}\n",
    "\\frac{E_{x,j-1}}{H_{y,j-1}} &= \\frac{E_{x,j}\\cosh(i\\tilde{k}_j h_j) - \\alpha_jH_{y, j}\\sinh(i\\tilde{k}_j h_j)}{-\\alpha_j^{-1}E_{x,j}\\sinh(i\\tilde{k}_j h_j) + H_{y, j}\\cosh(i\\tilde{k}_j h_j)}\\\\\n",
    "\\tilde{Z}_{j-1}&= \\frac{E_{x,j} - \\alpha_jH_{y, j}\\frac{\\sinh(i\\tilde{k}_j h_j)}{\\cosh(i\\tilde{k}_j h_j)}}{-\\alpha_j^{-1}E_{x,j}\\frac{\\sinh(i\\tilde{k}_j h_j)}{\\cosh(i\\tilde{k}_j h_j)} + H_{y, j}}\\\\\n",
    "\\tilde{Z}_{j-1}&= \\frac{E_{x,j} - \\alpha_jH_{y, j}\\tanh(i \\tilde{k}_j h_j)}{-\\alpha_j^{-1}E_{x,j}\\tanh(i \\tilde{k}_j h_j) + H_{y, j}}\\\\\n",
    "\\tilde{Z}_{j-1}&= \\frac{\\frac{E_{x,j}}{H_{y, j}} - \\alpha_j \\tanh(i \\tilde{k}_j h_j)}{-\\alpha_j^{-1}\\frac{E_{x,j}}{H_{y, j}}\\tanh(i \\tilde{k}_j h_j) + 1}\\\\\n",
    "\\tilde{Z}_{j-1} &= \\frac{Z_j - \\alpha_j \\tanh(i \\tilde{k}_j h_j)}{1 - \\frac{Z_j}{\\alpha_j}\\tanh(i \\tilde{k}_j h_j)}\\\\\n",
    "\\tilde{Z}_{j-1} &= \\alpha_j\\frac{\\frac{Z_j}{\\alpha_j} -  \\tanh(i \\tilde{k}_j h_j)}{1 - \\frac{Z_j}{\\alpha_j}\\tanh(i \\tilde{k}_j h_j)}\n",
    "\\end{align}"
   ]
  },
  {
   "cell_type": "markdown",
   "id": "88d8d362-07f1-4680-a541-2004e30b77c8",
   "metadata": {},
   "source": [
    "What about the last layer? Well let's go back to the beginning, with $z_{N} = -\\infty$.\n",
    "\\begin{align}\n",
    "E_{x,{N}}e^{i\\omega t} &= U_{N} e^{- \\tilde{k}_N (z - z_{N}))} + D_{N} e^{i(\\omega t + \\tilde{k}_N (z - z_{N}))}\\\\\n",
    "&= U_{N} e^{-\\tilde{k}_{N} (z + \\infty))} + D_{N} e^{i\\tilde{k}_{N} (z +\\infty))}\\\\\n",
    "&= U_{N} e^{i\\omega t - \\tilde{k}_N (z + \\infty))} + D_{N} e^{i(\\omega t + \\tilde{k}_N (z +\\infty))}\n",
    "\\end{align}\n",
    "\n",
    "Remember that $\\tilde{k} = k_r - i k_i$, and therefore $U_N$ must be equal to zero, otherwise the equations would explode!\n",
    "\n",
    "\\begin{align}\n",
    "E_{x,N} &= U_N e^{i(\\omega t - \\tilde{k}_N (z - z_N))} + D_N e^{i(\\omega t + \\tilde{k}_N (z - z_N))}\\\\\n",
    "&= D_N e^{i(\\omega t + \\tilde{k}_N (z + \\infty))}\\\\\n",
    "H_{y,N} &= -\\frac{1}{\\alpha_j} D_N e^{i(\\omega t - \\tilde{k}_N (z + \\infty))}\n",
    "\\end{align}\n",
    "\n",
    "Then:\n",
    "\\begin{align}\n",
    "\\frac{E_N}{H_N} &= \\frac{D_N e^{i(\\omega t - \\tilde{k}_{N} (z + \\infty))}}{\\frac{1}{-\\alpha_j} U_{N} e^{i(\\omega t - \\tilde{k}_{N} (z + \\infty))}}\\\\\n",
    "Z_N &= -\\alpha_j\n",
    "\\end{align}\n"
   ]
  }
 ],
 "metadata": {
  "kernelspec": {
   "display_name": "Python 3 (ipykernel)",
   "language": "python",
   "name": "python3"
  },
  "language_info": {
   "codemirror_mode": {
    "name": "ipython",
    "version": 3
   },
   "file_extension": ".py",
   "mimetype": "text/x-python",
   "name": "python",
   "nbconvert_exporter": "python",
   "pygments_lexer": "ipython3",
   "version": "3.11.7"
  }
 },
 "nbformat": 4,
 "nbformat_minor": 5
}
