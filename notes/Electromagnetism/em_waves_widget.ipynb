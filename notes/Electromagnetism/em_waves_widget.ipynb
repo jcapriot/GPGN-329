{
 "cells": [
  {
   "cell_type": "markdown",
   "id": "d40dda85-7940-4def-abc0-497fc5faa1d6",
   "metadata": {},
   "source": [
    "# Harmonic EM fields"
   ]
  },
  {
   "cell_type": "code",
   "execution_count": 1,
   "id": "763c2780-c501-409b-a0c6-d39299cb5662",
   "metadata": {},
   "outputs": [],
   "source": [
    "%matplotlib widget\n",
    "from harmonic_planewave import LayeredPlaneWaveInteract\n",
    "import numpy as np"
   ]
  },
  {
   "cell_type": "code",
   "execution_count": 10,
   "id": "b9be7065-a48b-4205-9006-3d1289c14976",
   "metadata": {},
   "outputs": [
    {
     "data": {
      "application/vnd.jupyter.widget-view+json": {
       "model_id": "ec24a85eb6ad4d4a901d0496f78b9ada",
       "version_major": 2,
       "version_minor": 0
      },
      "text/plain": [
       "VBox(children=(Canvas(toolbar=Toolbar(toolitems=[('Home', 'Reset original view', 'home', 'home'), ('Back', 'Ba…"
      ]
     },
     "execution_count": 10,
     "metadata": {},
     "output_type": "execute_result"
    }
   ],
   "source": [
    "hs = [200, np.inf]\n",
    "sigmas = [0.001, 0.001]\n",
    "f = 100 # Hz\n",
    "\n",
    "wave = LayeredPlaneWaveInteract(sigmas, f, hs)\n",
    "wave.display()"
   ]
  },
  {
   "cell_type": "code",
   "execution_count": null,
   "id": "84c11a6f-bb8b-4865-bbd7-073f7a8931ba",
   "metadata": {},
   "outputs": [],
   "source": []
  }
 ],
 "metadata": {
  "kernelspec": {
   "display_name": "Python 3 (ipykernel)",
   "language": "python",
   "name": "python3"
  },
  "language_info": {
   "codemirror_mode": {
    "name": "ipython",
    "version": 3
   },
   "file_extension": ".py",
   "mimetype": "text/x-python",
   "name": "python",
   "nbconvert_exporter": "python",
   "pygments_lexer": "ipython3",
   "version": "3.11.7"
  }
 },
 "nbformat": 4,
 "nbformat_minor": 5
}
