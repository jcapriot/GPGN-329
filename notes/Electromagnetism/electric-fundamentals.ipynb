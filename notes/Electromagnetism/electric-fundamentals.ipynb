{
 "cells": [
  {
   "cell_type": "markdown",
   "id": "006da312-4daf-4b7f-8ed1-7f880aa9b5e3",
   "metadata": {},
   "source": [
    "## Circuit theory of electromagnetism"
   ]
  },
  {
   "cell_type": "markdown",
   "id": "685dfd3c-4999-46ce-a941-4c7828ae59fe",
   "metadata": {},
   "source": [
    "What is a watt, volt, amp, Farad, ohm?\n",
    "\n",
    "What are things that are described by these units?\n",
    "* Light bulb has a wattage\n",
    "* Battery has a voltage\n",
    "* Vaccuum cleaner has a Amps of sucking power!"
   ]
  },
  {
   "cell_type": "markdown",
   "id": "4a6c2ef2-f606-4841-b253-b96ce2a721f3",
   "metadata": {},
   "source": [
    "As an analogue to a circuit:\n",
    "consider the faucet on your kitchen sink, for it to work what do you need?\n",
    "* Water itself\n",
    "* Pressure to force the water through the pipes.\n",
    "\n",
    "In an electric circuit these are:\n",
    "* Electrons\n",
    "* Something to push electrons $\\rightarrow$ Voltage!"
   ]
  },
  {
   "cell_type": "markdown",
   "id": "522f5b00-9a18-4795-9e28-dd91f3b6378f",
   "metadata": {},
   "source": [
    "Electric Pressure is Electric Potential\n",
    "\n",
    "electrical potential is provided by two terminals of a battery with a positive and negative charge."
   ]
  },
  {
   "cell_type": "markdown",
   "id": "20104437-739e-4ea1-8d52-4186bd4c78d9",
   "metadata": {},
   "source": [
    "Power:\n",
    "$$P_{watts} = I_{amps} V_{volts}$$\n",
    "\n",
    "Voltage differential:\n",
    "\\begin{align}\n",
    "\\Delta V_{AB} &= V(x_B) - V(x_A)\\\\\n",
    "&= -\\int_{ref}^{x_B}\\vec{E}\\cdot\\vec{\\partial l} + \\int_{ref}^{x_A}\\vec{E}\\cdot\\vec{\\partial l}\\\\\n",
    "&= -\\int_{x_A}^{x_B}\\vec{E}\\cdot\\vec{\\partial l}\n",
    "\\end{align}\n",
    "\n",
    "Voltage increase is equal to the work which would gave to be done against the E-field to move a unit charge from point $x_A$ to point $x_B$\n",
    "\n",
    "%TODO Draw picture of path\n",
    "\n",
    "What do the units of voltage mean? Start from an electric field\n",
    "\n",
    "\\begin{align}\n",
    "E&= \\frac{Force}{charge}\\\\\n",
    "E * d &= \\Delta v\\\\\n",
    "&= \\frac{Force * Distance}{charge}\\\\\n",
    "\\Delta V & = \\frac{Work}{charge}\n",
    "\\end{align}"
   ]
  },
  {
   "cell_type": "markdown",
   "id": "f680294e-b4f8-4f4c-b681-2ea8dac78695",
   "metadata": {},
   "source": [
    "### Power formula\n",
    "$$Power = \\frac{Work}{Time}$$\n",
    "Power is the rate of doing work, or the energy transfered (or converted) per unit time.\n",
    "\n",
    "\\begin{align}\n",
    "V &= I \\times R\\\\\n",
    "P &= I \\times V\\\\\n",
    "P &= I^2 \\times R\n",
    "\\end{align}\n",
    "\n",
    "Power increases with current squared. I.e. the amount of power it takes to move current through a circuit increases quadratically.\n",
    "\n",
    "E.g. If I wanted to push 1 amp of current through a 1 $\\Omega$ resistor, it would take:\n",
    "\\begin{align}\n",
    "P &= (1 A)^2 \\times 1 \\Omega\\\\\n",
    " &= 1 Watt\n",
    "\\end{align}\n",
    "If I wanted to push 10 amps of current through a 1 $\\Omega$ resistor, it would take:\n",
    "\\begin{align}\n",
    "P &= (10 A)^2 \\times 1 \\Omega\\\\\n",
    " &= 100 Watt\n",
    "\\end{align}\n",
    "\n",
    "Voltage is provided by your power company (at either 110V or 220V). Then it is important to know how strongly the electricity is being pushed through a circuit."
   ]
  },
  {
   "cell_type": "markdown",
   "id": "96c94d0c-8c07-4d1a-b139-fe84c29796d8",
   "metadata": {},
   "source": [
    "Ampere (Andre Marie Ampere)\n",
    "\n",
    "The unit of how much electrical charges flor past a given point per second.\n",
    "\n",
    "How do we measure the capacity of electrons?\n",
    "* What is the unit of charge.\n",
    "\n",
    "Current -> Amperes\n",
    "\n",
    "Use Ohm's law to compute voltages and resitances:\n",
    "$$ V = I R$$\n",
    "$$R = \\frac{V}{I}$$\n",
    "$$ I = \\frac{R}{V}$$\n",
    "\n",
    "given a simple circuit how does the the current change with Resistance and Voltage?"
   ]
  },
  {
   "cell_type": "markdown",
   "id": "34d94280-f44d-4035-a678-5992094df321",
   "metadata": {},
   "source": [
    "What is a charge?\n",
    "$$C = \\frac{Q}{\\Delta V}$$\n",
    "C -> Farads, the ability of a body to store electrical charge in response to an applied voltage\n",
    "\n",
    "\n",
    "elementary charge $1e = 1.6 * 10^{-19} C$ The charge of a single proton"
   ]
  },
  {
   "cell_type": "markdown",
   "id": "5185baba-8120-4f6f-b4a6-22f35c751f41",
   "metadata": {},
   "source": [
    "Back to the water analogy:\n",
    "\n",
    "How much water you can store in a bucket is related to the capacitance, not how fast or how much water is flowing.\n",
    "A bigger bucket means you can charge your phones for more time."
   ]
  },
  {
   "cell_type": "markdown",
   "id": "8fa840be-52b4-4ca0-b53a-08a417295d85",
   "metadata": {},
   "source": [
    "#### All together\n",
    "|Units| Used to Measure| Physical interpretation|\n",
    "|--|---|---|\n",
    "|Coulomb (c) | Electrical Charges| | \n",
    "|Watt (W)| Power | Rate of doing work per unit time (J/s) = (N m /s)|\n",
    "|Volt (V)| Electrical Potential| Work required to move a single electric charge ( )|\n",
    "|Ampere (A)|  Electrical Current| Number of electrons moving past a point per second (c/s)|\n",
    "|Ohms $\\Omega$| Resistance | Strength of a body to restrict current flow (V/I)|\n",
    "|Farads (F)|  Capacitance| Ability of a body to store electrical charges in response to a voltage. (c/V)|"
   ]
  },
  {
   "cell_type": "code",
   "execution_count": null,
   "id": "3393b41f-3d1e-4a1b-9ae1-8b1e1a181f0f",
   "metadata": {},
   "outputs": [],
   "source": []
  }
 ],
 "metadata": {
  "kernelspec": {
   "display_name": "Python 3 (ipykernel)",
   "language": "python",
   "name": "python3"
  },
  "language_info": {
   "codemirror_mode": {
    "name": "ipython",
    "version": 3
   },
   "file_extension": ".py",
   "mimetype": "text/x-python",
   "name": "python",
   "nbconvert_exporter": "python",
   "pygments_lexer": "ipython3",
   "version": "3.11.7"
  }
 },
 "nbformat": 4,
 "nbformat_minor": 5
}
